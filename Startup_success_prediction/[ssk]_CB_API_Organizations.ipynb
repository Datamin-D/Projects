{
  "nbformat": 4,
  "nbformat_minor": 0,
  "metadata": {
    "colab": {
      "name": "[ssk] CB API Organizations",
      "provenance": [],
      "collapsed_sections": []
    },
    "kernelspec": {
      "name": "python3",
      "display_name": "Python 3"
    },
    "language_info": {
      "name": "python"
    }
  },
  "cells": [
    {
      "cell_type": "code",
      "metadata": {
        "id": "LpVAH5X8Guna"
      },
      "source": [
        "# organizations 우리가 필요한 필드 전부 넣음.\n",
        "import requests\n",
        "import json\n",
        "import pandas as pd\n",
        "from pandas.io.json import json_normalize \n"
      ],
      "execution_count": 1,
      "outputs": []
    },
    {
      "cell_type": "code",
      "metadata": {
        "id": "QKmOgmYNGw1e"
      },
      "source": [
        "field_ids =  ['acquirer_identifier', 'categories', 'category_groups', 'closed_on', 'company_type', 'created_at', 'delisted_on', 'description', 'entity_def_id', 'equity_funding_total', 'exited_on', 'facet_ids', 'founded_on', 'founder_identifiers', 'funding_stage', 'funding_total', 'funds_total', 'hub_tags', 'identifier', 'investor_identifiers', 'investor_stage', 'investor_type', 'ipo_status', 'last_equity_funding_total', 'last_equity_funding_type', 'last_funding_at', 'last_funding_total', 'last_funding_type', 'last_key_employee_change_date', 'layout_id', 'legal_name', 'linkedin', 'listed_stock_symbol', 'location_group_identifiers', 'location_identifiers', 'name', 'num_acquisitions', 'num_articles', 'num_current_advisor_positions', 'num_current_positions', 'num_diversity_spotlight_investments', 'num_employees_enum', 'num_enrollments', 'num_event_appearances', 'num_exits', 'num_exits_ipo', 'num_founders', 'num_funding_rounds', 'num_funds', 'num_investments', 'num_investors', 'num_lead_investments', 'num_lead_investors', 'num_past_positions', 'num_portfolio_organizations', 'num_sub_organizations', 'operating_status', 'owner_identifier', 'permalink', 'rank_delta_d30', 'rank_delta_d7', 'rank_delta_d90', 'rank_org', 'rank_principal', 'revenue_range', 'short_description', 'status', 'stock_symbol', 'uuid', 'valuation', 'valuation_date', 'went_public_on']\n",
        "len(field_ids)\n",
        "\n",
        "userkey = {\"user_key\":\"b1130d42de5b1c31f60949e441cdaa9a\"}\n",
        "\n",
        "query = {\n",
        "\"field_ids\": [\n",
        "\"identifier\",\n",
        "\"location_identifiers\",\n",
        "\"short_description\",\n",
        "\"founded_on\", \"last_funding_type\"\n",
        "],\n",
        "\"limit\": 1000\n",
        "}\n",
        "\n",
        "def company_count(query):\n",
        "    r = requests.post(\"https://api.crunchbase.com/api/v4/searches/organizations\", params = userkey , json = query)\n",
        "    result = json.loads(r.text)\n",
        "    total_companies = result[\"count\"]\n",
        "    return total_companies\n",
        "\n",
        "def url_extraction(query):\n",
        "    global raw\n",
        "    r = requests.post(\"https://api.crunchbase.com/api/v4/searches/organizations\", params = userkey , json = query)\n",
        "    result = json.loads(r.text)\n",
        "    normalized_raw = json_normalize(result['entities'])\n",
        "    raw = raw.append(normalized_raw,ignore_index=True)"
      ],
      "execution_count": 2,
      "outputs": []
    },
    {
      "cell_type": "code",
      "metadata": {
        "id": "8H6AXt4uGw4_"
      },
      "source": [
        "raw=pd.DataFrame()\n",
        "comp_count = company_count(query)\n",
        "data_acq = 0\n",
        "\n",
        "# data_acq\n",
        "while data_acq < comp_count:\n",
        "    print(raw)\n",
        "    if data_acq != 0:\n",
        "        last_uuid = raw.uuid[len(raw.uuid)-1]\n",
        "        query[\"after_id\"] = last_uuid\n",
        "        url_extraction(query)\n",
        "        data_acq = len(raw.uuid)\n",
        "    else:\n",
        "        if \"after_id\" in query:\n",
        "            query = query.pop(\"after_id\")\n",
        "            url_extraction(query)\n",
        "            data_acq = len(raw.uuid)\n",
        "        else:\n",
        "            url_extraction(query)\n",
        "            data_acq = len(raw.uuid)\n"
      ],
      "execution_count": null,
      "outputs": []
    },
    {
      "cell_type": "code",
      "metadata": {
        "id": "2McLMuUTHhP2"
      },
      "source": [
        "# pickle 로 저장  (df안에 리스트형태가 있을까봐 혹시.)\n",
        "\n",
        "import pickle\n",
        "path = 해당 컴터의 path\n",
        "with open(path,'wb') as fw:\n",
        "  pickle.dump(raw,fw)\n",
        "\n",
        "# pickle load 확인 \n",
        "with open(path,'rb') as fr:\n",
        "  raw_test = pickle.load(fr)\n",
        "raw_test # 나오면 잘된거.\n"
      ],
      "execution_count": null,
      "outputs": []
    },
    {
      "cell_type": "code",
      "metadata": {
        "id": "Lr6p8pT9Gw7J"
      },
      "source": [
        ""
      ],
      "execution_count": null,
      "outputs": []
    }
  ]
}