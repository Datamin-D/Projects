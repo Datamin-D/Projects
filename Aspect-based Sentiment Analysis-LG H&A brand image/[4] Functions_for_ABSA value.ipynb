{
  "cells": [
    {
      "cell_type": "markdown",
      "metadata": {
        "id": "yOwywhFmew6D"
      },
      "source": [
        "# 1.Load Data & Libraries"
      ]
    },
    {
      "cell_type": "code",
      "execution_count": null,
      "metadata": {
        "colab": {
          "base_uri": "https://localhost:8080/"
        },
        "id": "WODi1_l7j_L4",
        "outputId": "ab5e2253-cca2-404e-89d1-a509a15d3b4d"
      },
      "outputs": [
        {
          "output_type": "stream",
          "name": "stdout",
          "text": [
            "Mounted at /gdrive\n"
          ]
        }
      ],
      "source": [
        "import numpy as np\n",
        "import pandas as pd\n",
        "\n",
        "\n",
        "from google.colab import drive\n",
        "drive.mount(\"/gdrive\")\n",
        "\n",
        "\n",
        "import os\n",
        "import pickle\n",
        "os.chdir('/gdrive/MyDrive/LG 플젝-민/Sentiment Analysis 작업용/ABSA 최종df')\n",
        "file_name = \"ABSA_df.pkl\" # sentiment analysis section에 업로드됨. 파일이름 동일.\n",
        "\n",
        "with open(file_name,'rb') as fr:\n",
        "    df = pickle.load(fr) "
      ]
    },
    {
      "cell_type": "code",
      "source": [
        "df"
      ],
      "metadata": {
        "colab": {
          "base_uri": "https://localhost:8080/",
          "height": 1000
        },
        "id": "7Lmf_0aC4RNZ",
        "outputId": "38a6341c-2cb4-4ade-bd14-4351f5266f51"
      },
      "execution_count": null,
      "outputs": [
        {
          "output_type": "execute_result",
          "data": {
            "text/plain": [
              "          index                                 UniversalMessageId  \\\n",
              "0             0                                  REDDIT_267_rsvk9u   \n",
              "1             2            WEB_98_2f02f04879eed91a7f5de5794099cc3c   \n",
              "2             4        WEB_100_sg_87167B4CEF951B83B2E73A5A8C79DF4B   \n",
              "3             6        WEB_100_sg_87167B4CEF951B83B2E73A5A8C79DF4B   \n",
              "4            10        WEB_100_sg_60A151EA545F0EE99DFE2242188DD8AE   \n",
              "...         ...                                                ...   \n",
              "666205  1055768              YOUTUBE_44_UgxOHRzGKxG3cvjKhC94AaABAg   \n",
              "666206  1055769  YOUTUBE_44_z22ns1ywrzv1xr45f04t1aokgjembf3jeur...   \n",
              "666207  1055770  YOUTUBE_44_z22qwxbr5tfdifb0yacdp4345tbervze0wa...   \n",
              "666208  1055772  YOUTUBE_44_z23vyj2wrzusy1phh04t1aokgqoaeas1wjf...   \n",
              "666209  1055773  YOUTUBE_44_z12djd1wvmuezdsq404cd344wnbfdhsgjts...   \n",
              "\n",
              "       SocialNetwork     source           CreatedTime  \\\n",
              "0                NaN     Reddit  Dec 31 14:54:03 2021   \n",
              "1                NaN  Blog Post  Dec 31 14:34:00 2021   \n",
              "2                NaN     Forums  Dec 31 14:21:00 2021   \n",
              "3                NaN     Forums  Dec 31 14:21:00 2021   \n",
              "4                NaN     Forums  Dec 31 12:49:00 2021   \n",
              "...              ...        ...                   ...   \n",
              "666205       YOUTUBE    Youtube   2018-01-11 07:30:49   \n",
              "666206       YOUTUBE    Youtube   2017-11-15 07:37:27   \n",
              "666207       YOUTUBE    Youtube   2017-10-18 03:50:33   \n",
              "666208       YOUTUBE    Youtube   2017-08-31 12:06:00   \n",
              "666209       YOUTUBE    Youtube   2017-07-26 06:26:47   \n",
              "\n",
              "                         Domain   label  \\\n",
              "0                    reddit.com  lg_ref   \n",
              "1         reidmuckr.fitnell.com  lg_ref   \n",
              "2       forums.redflagdeals.com  lg_ref   \n",
              "3       forums.redflagdeals.com  lg_ref   \n",
              "4       forums.redflagdeals.com  lg_ref   \n",
              "...                         ...     ...   \n",
              "666205                      NaN   ss_ac   \n",
              "666206                      NaN   ss_ac   \n",
              "666207                      NaN   ss_ac   \n",
              "666208                      NaN   ss_ac   \n",
              "666209                      NaN   ss_ac   \n",
              "\n",
              "                                                    sents  \\\n",
              "0       ['Lg Model number: LMXS28626S\\nImage: https://...   \n",
              "1       [\"The higher the standard of a filter, the gre...   \n",
              "2       [\"bobcat99 wrote: ↑\\nTwo people and you don't ...   \n",
              "3       [\"bobcat99 wrote: ↑\\nTwo people and you don't ...   \n",
              "4       ['I am in dire need of a dishwasher, fridge, f...   \n",
              "...                                                   ...   \n",
              "666205                                                NaN   \n",
              "666206                                                NaN   \n",
              "666207                                                NaN   \n",
              "666208                                                NaN   \n",
              "666209                                                NaN   \n",
              "\n",
              "                                           customer_sents  \\\n",
              "0       ['lg model number: lmxs28626s\\nimage: https://...   \n",
              "1       ['lg refrigerator water filters present high-q...   \n",
              "2       ['i previously had an lg washer that lasted fo...   \n",
              "3       ['i previously had an lg washer that lasted fo...   \n",
              "4       ['i am in dire need of a dishwasher, fridge, f...   \n",
              "...                                                   ...   \n",
              "666205                                                NaN   \n",
              "666206                                                NaN   \n",
              "666207                                                NaN   \n",
              "666208                                                NaN   \n",
              "666209                                                NaN   \n",
              "\n",
              "                                         remove_link_punc  ... fulfillment  \\\n",
              "0       lg model number lmxs s image dispenser water k...  ...           0   \n",
              "1       lg refrigerator water filters present high qua...  ...           0   \n",
              "2       i previously had an lg washer that lasted for ...  ...           0   \n",
              "3       and based on my research it is not easy to cha...  ...           0   \n",
              "4       but i have heard so many terrible things about...  ...           0   \n",
              "...                                                   ...  ...         ...   \n",
              "666205  maybe samsung will also release smart closet o...  ...           0   \n",
              "666206   bobby mitsubishi are considered premium air c...  ...           0   \n",
              "666207  you should go to vietnam not the cleanest stre...  ...           0   \n",
              "666208  asher perlmuter ikr that s why i was amazed be...  ...           0   \n",
              "666209   ton price k pkr ton price lakh approx not com...  ...           0   \n",
              "\n",
              "       happy  proud superb trust  \\\n",
              "0          0      0      0     0   \n",
              "1          0      0      0     1   \n",
              "2          0      0      0     0   \n",
              "3          0      0      0     0   \n",
              "4          0      0      1     0   \n",
              "...      ...    ...    ...   ...   \n",
              "666205     1      0      0     0   \n",
              "666206     0      0      0     0   \n",
              "666207     0      0      0     0   \n",
              "666208     1      0      1     0   \n",
              "666209     0      0      1     0   \n",
              "\n",
              "                                                     sent  sentiment_dummy  \\\n",
              "0       lg model number lmxs s image dispenser water k...                0   \n",
              "1       lg refrigerator water filters present high qua...                0   \n",
              "2       i previously had an lg washer that lasted for ...                0   \n",
              "3       and based on my research it is not easy to cha...                0   \n",
              "4       but i have heard so many terrible things about...                0   \n",
              "...                                                   ...              ...   \n",
              "666205  maybe samsung will also release smart closet o...                0   \n",
              "666206   bobby mitsubishi are considered premium air c...                0   \n",
              "666207  you should go to vietnam not the cleanest stre...                0   \n",
              "666208  asher perlmuter ikr that s why i was amazed be...                0   \n",
              "666209   ton price k pkr ton price lakh approx not com...                0   \n",
              "\n",
              "             neg       pos  sent_pred  \n",
              "0       0.795137 -0.254036          0  \n",
              "1      -3.611243  2.803974          1  \n",
              "2      -0.764530  0.976185          1  \n",
              "3       0.371561  0.147172          0  \n",
              "4       0.891424 -0.266681          0  \n",
              "...          ...       ...        ...  \n",
              "666205 -1.788743  1.774704          1  \n",
              "666206 -0.274024  0.733706          1  \n",
              "666207  2.146539 -1.078772          0  \n",
              "666208 -2.415347  2.016587          1  \n",
              "666209  0.636697  0.081089          0  \n",
              "\n",
              "[666210 rows x 33 columns]"
            ],
            "text/html": [
              "\n",
              "  <div id=\"df-99236cd4-f3af-4a45-8c21-f47268f84dc6\">\n",
              "    <div class=\"colab-df-container\">\n",
              "      <div>\n",
              "<style scoped>\n",
              "    .dataframe tbody tr th:only-of-type {\n",
              "        vertical-align: middle;\n",
              "    }\n",
              "\n",
              "    .dataframe tbody tr th {\n",
              "        vertical-align: top;\n",
              "    }\n",
              "\n",
              "    .dataframe thead th {\n",
              "        text-align: right;\n",
              "    }\n",
              "</style>\n",
              "<table border=\"1\" class=\"dataframe\">\n",
              "  <thead>\n",
              "    <tr style=\"text-align: right;\">\n",
              "      <th></th>\n",
              "      <th>index</th>\n",
              "      <th>UniversalMessageId</th>\n",
              "      <th>SocialNetwork</th>\n",
              "      <th>source</th>\n",
              "      <th>CreatedTime</th>\n",
              "      <th>Domain</th>\n",
              "      <th>label</th>\n",
              "      <th>sents</th>\n",
              "      <th>customer_sents</th>\n",
              "      <th>remove_link_punc</th>\n",
              "      <th>...</th>\n",
              "      <th>fulfillment</th>\n",
              "      <th>happy</th>\n",
              "      <th>proud</th>\n",
              "      <th>superb</th>\n",
              "      <th>trust</th>\n",
              "      <th>sent</th>\n",
              "      <th>sentiment_dummy</th>\n",
              "      <th>neg</th>\n",
              "      <th>pos</th>\n",
              "      <th>sent_pred</th>\n",
              "    </tr>\n",
              "  </thead>\n",
              "  <tbody>\n",
              "    <tr>\n",
              "      <th>0</th>\n",
              "      <td>0</td>\n",
              "      <td>REDDIT_267_rsvk9u</td>\n",
              "      <td>NaN</td>\n",
              "      <td>Reddit</td>\n",
              "      <td>Dec 31 14:54:03 2021</td>\n",
              "      <td>reddit.com</td>\n",
              "      <td>lg_ref</td>\n",
              "      <td>['Lg Model number: LMXS28626S\\nImage: https://...</td>\n",
              "      <td>['lg model number: lmxs28626s\\nimage: https://...</td>\n",
              "      <td>lg model number lmxs s image dispenser water k...</td>\n",
              "      <td>...</td>\n",
              "      <td>0</td>\n",
              "      <td>0</td>\n",
              "      <td>0</td>\n",
              "      <td>0</td>\n",
              "      <td>0</td>\n",
              "      <td>lg model number lmxs s image dispenser water k...</td>\n",
              "      <td>0</td>\n",
              "      <td>0.795137</td>\n",
              "      <td>-0.254036</td>\n",
              "      <td>0</td>\n",
              "    </tr>\n",
              "    <tr>\n",
              "      <th>1</th>\n",
              "      <td>2</td>\n",
              "      <td>WEB_98_2f02f04879eed91a7f5de5794099cc3c</td>\n",
              "      <td>NaN</td>\n",
              "      <td>Blog Post</td>\n",
              "      <td>Dec 31 14:34:00 2021</td>\n",
              "      <td>reidmuckr.fitnell.com</td>\n",
              "      <td>lg_ref</td>\n",
              "      <td>[\"The higher the standard of a filter, the gre...</td>\n",
              "      <td>['lg refrigerator water filters present high-q...</td>\n",
              "      <td>lg refrigerator water filters present high qua...</td>\n",
              "      <td>...</td>\n",
              "      <td>0</td>\n",
              "      <td>0</td>\n",
              "      <td>0</td>\n",
              "      <td>0</td>\n",
              "      <td>1</td>\n",
              "      <td>lg refrigerator water filters present high qua...</td>\n",
              "      <td>0</td>\n",
              "      <td>-3.611243</td>\n",
              "      <td>2.803974</td>\n",
              "      <td>1</td>\n",
              "    </tr>\n",
              "    <tr>\n",
              "      <th>2</th>\n",
              "      <td>4</td>\n",
              "      <td>WEB_100_sg_87167B4CEF951B83B2E73A5A8C79DF4B</td>\n",
              "      <td>NaN</td>\n",
              "      <td>Forums</td>\n",
              "      <td>Dec 31 14:21:00 2021</td>\n",
              "      <td>forums.redflagdeals.com</td>\n",
              "      <td>lg_ref</td>\n",
              "      <td>[\"bobcat99 wrote: ↑\\nTwo people and you don't ...</td>\n",
              "      <td>['i previously had an lg washer that lasted fo...</td>\n",
              "      <td>i previously had an lg washer that lasted for ...</td>\n",
              "      <td>...</td>\n",
              "      <td>0</td>\n",
              "      <td>0</td>\n",
              "      <td>0</td>\n",
              "      <td>0</td>\n",
              "      <td>0</td>\n",
              "      <td>i previously had an lg washer that lasted for ...</td>\n",
              "      <td>0</td>\n",
              "      <td>-0.764530</td>\n",
              "      <td>0.976185</td>\n",
              "      <td>1</td>\n",
              "    </tr>\n",
              "    <tr>\n",
              "      <th>3</th>\n",
              "      <td>6</td>\n",
              "      <td>WEB_100_sg_87167B4CEF951B83B2E73A5A8C79DF4B</td>\n",
              "      <td>NaN</td>\n",
              "      <td>Forums</td>\n",
              "      <td>Dec 31 14:21:00 2021</td>\n",
              "      <td>forums.redflagdeals.com</td>\n",
              "      <td>lg_ref</td>\n",
              "      <td>[\"bobcat99 wrote: ↑\\nTwo people and you don't ...</td>\n",
              "      <td>['i previously had an lg washer that lasted fo...</td>\n",
              "      <td>and based on my research it is not easy to cha...</td>\n",
              "      <td>...</td>\n",
              "      <td>0</td>\n",
              "      <td>0</td>\n",
              "      <td>0</td>\n",
              "      <td>0</td>\n",
              "      <td>0</td>\n",
              "      <td>and based on my research it is not easy to cha...</td>\n",
              "      <td>0</td>\n",
              "      <td>0.371561</td>\n",
              "      <td>0.147172</td>\n",
              "      <td>0</td>\n",
              "    </tr>\n",
              "    <tr>\n",
              "      <th>4</th>\n",
              "      <td>10</td>\n",
              "      <td>WEB_100_sg_60A151EA545F0EE99DFE2242188DD8AE</td>\n",
              "      <td>NaN</td>\n",
              "      <td>Forums</td>\n",
              "      <td>Dec 31 12:49:00 2021</td>\n",
              "      <td>forums.redflagdeals.com</td>\n",
              "      <td>lg_ref</td>\n",
              "      <td>['I am in dire need of a dishwasher, fridge, f...</td>\n",
              "      <td>['i am in dire need of a dishwasher, fridge, f...</td>\n",
              "      <td>but i have heard so many terrible things about...</td>\n",
              "      <td>...</td>\n",
              "      <td>0</td>\n",
              "      <td>0</td>\n",
              "      <td>0</td>\n",
              "      <td>1</td>\n",
              "      <td>0</td>\n",
              "      <td>but i have heard so many terrible things about...</td>\n",
              "      <td>0</td>\n",
              "      <td>0.891424</td>\n",
              "      <td>-0.266681</td>\n",
              "      <td>0</td>\n",
              "    </tr>\n",
              "    <tr>\n",
              "      <th>...</th>\n",
              "      <td>...</td>\n",
              "      <td>...</td>\n",
              "      <td>...</td>\n",
              "      <td>...</td>\n",
              "      <td>...</td>\n",
              "      <td>...</td>\n",
              "      <td>...</td>\n",
              "      <td>...</td>\n",
              "      <td>...</td>\n",
              "      <td>...</td>\n",
              "      <td>...</td>\n",
              "      <td>...</td>\n",
              "      <td>...</td>\n",
              "      <td>...</td>\n",
              "      <td>...</td>\n",
              "      <td>...</td>\n",
              "      <td>...</td>\n",
              "      <td>...</td>\n",
              "      <td>...</td>\n",
              "      <td>...</td>\n",
              "      <td>...</td>\n",
              "    </tr>\n",
              "    <tr>\n",
              "      <th>666205</th>\n",
              "      <td>1055768</td>\n",
              "      <td>YOUTUBE_44_UgxOHRzGKxG3cvjKhC94AaABAg</td>\n",
              "      <td>YOUTUBE</td>\n",
              "      <td>Youtube</td>\n",
              "      <td>2018-01-11 07:30:49</td>\n",
              "      <td>NaN</td>\n",
              "      <td>ss_ac</td>\n",
              "      <td>NaN</td>\n",
              "      <td>NaN</td>\n",
              "      <td>maybe samsung will also release smart closet o...</td>\n",
              "      <td>...</td>\n",
              "      <td>0</td>\n",
              "      <td>1</td>\n",
              "      <td>0</td>\n",
              "      <td>0</td>\n",
              "      <td>0</td>\n",
              "      <td>maybe samsung will also release smart closet o...</td>\n",
              "      <td>0</td>\n",
              "      <td>-1.788743</td>\n",
              "      <td>1.774704</td>\n",
              "      <td>1</td>\n",
              "    </tr>\n",
              "    <tr>\n",
              "      <th>666206</th>\n",
              "      <td>1055769</td>\n",
              "      <td>YOUTUBE_44_z22ns1ywrzv1xr45f04t1aokgjembf3jeur...</td>\n",
              "      <td>YOUTUBE</td>\n",
              "      <td>Youtube</td>\n",
              "      <td>2017-11-15 07:37:27</td>\n",
              "      <td>NaN</td>\n",
              "      <td>ss_ac</td>\n",
              "      <td>NaN</td>\n",
              "      <td>NaN</td>\n",
              "      <td>bobby mitsubishi are considered premium air c...</td>\n",
              "      <td>...</td>\n",
              "      <td>0</td>\n",
              "      <td>0</td>\n",
              "      <td>0</td>\n",
              "      <td>0</td>\n",
              "      <td>0</td>\n",
              "      <td>bobby mitsubishi are considered premium air c...</td>\n",
              "      <td>0</td>\n",
              "      <td>-0.274024</td>\n",
              "      <td>0.733706</td>\n",
              "      <td>1</td>\n",
              "    </tr>\n",
              "    <tr>\n",
              "      <th>666207</th>\n",
              "      <td>1055770</td>\n",
              "      <td>YOUTUBE_44_z22qwxbr5tfdifb0yacdp4345tbervze0wa...</td>\n",
              "      <td>YOUTUBE</td>\n",
              "      <td>Youtube</td>\n",
              "      <td>2017-10-18 03:50:33</td>\n",
              "      <td>NaN</td>\n",
              "      <td>ss_ac</td>\n",
              "      <td>NaN</td>\n",
              "      <td>NaN</td>\n",
              "      <td>you should go to vietnam not the cleanest stre...</td>\n",
              "      <td>...</td>\n",
              "      <td>0</td>\n",
              "      <td>0</td>\n",
              "      <td>0</td>\n",
              "      <td>0</td>\n",
              "      <td>0</td>\n",
              "      <td>you should go to vietnam not the cleanest stre...</td>\n",
              "      <td>0</td>\n",
              "      <td>2.146539</td>\n",
              "      <td>-1.078772</td>\n",
              "      <td>0</td>\n",
              "    </tr>\n",
              "    <tr>\n",
              "      <th>666208</th>\n",
              "      <td>1055772</td>\n",
              "      <td>YOUTUBE_44_z23vyj2wrzusy1phh04t1aokgqoaeas1wjf...</td>\n",
              "      <td>YOUTUBE</td>\n",
              "      <td>Youtube</td>\n",
              "      <td>2017-08-31 12:06:00</td>\n",
              "      <td>NaN</td>\n",
              "      <td>ss_ac</td>\n",
              "      <td>NaN</td>\n",
              "      <td>NaN</td>\n",
              "      <td>asher perlmuter ikr that s why i was amazed be...</td>\n",
              "      <td>...</td>\n",
              "      <td>0</td>\n",
              "      <td>1</td>\n",
              "      <td>0</td>\n",
              "      <td>1</td>\n",
              "      <td>0</td>\n",
              "      <td>asher perlmuter ikr that s why i was amazed be...</td>\n",
              "      <td>0</td>\n",
              "      <td>-2.415347</td>\n",
              "      <td>2.016587</td>\n",
              "      <td>1</td>\n",
              "    </tr>\n",
              "    <tr>\n",
              "      <th>666209</th>\n",
              "      <td>1055773</td>\n",
              "      <td>YOUTUBE_44_z12djd1wvmuezdsq404cd344wnbfdhsgjts...</td>\n",
              "      <td>YOUTUBE</td>\n",
              "      <td>Youtube</td>\n",
              "      <td>2017-07-26 06:26:47</td>\n",
              "      <td>NaN</td>\n",
              "      <td>ss_ac</td>\n",
              "      <td>NaN</td>\n",
              "      <td>NaN</td>\n",
              "      <td>ton price k pkr ton price lakh approx not com...</td>\n",
              "      <td>...</td>\n",
              "      <td>0</td>\n",
              "      <td>0</td>\n",
              "      <td>0</td>\n",
              "      <td>1</td>\n",
              "      <td>0</td>\n",
              "      <td>ton price k pkr ton price lakh approx not com...</td>\n",
              "      <td>0</td>\n",
              "      <td>0.636697</td>\n",
              "      <td>0.081089</td>\n",
              "      <td>0</td>\n",
              "    </tr>\n",
              "  </tbody>\n",
              "</table>\n",
              "<p>666210 rows × 33 columns</p>\n",
              "</div>\n",
              "      <button class=\"colab-df-convert\" onclick=\"convertToInteractive('df-99236cd4-f3af-4a45-8c21-f47268f84dc6')\"\n",
              "              title=\"Convert this dataframe to an interactive table.\"\n",
              "              style=\"display:none;\">\n",
              "        \n",
              "  <svg xmlns=\"http://www.w3.org/2000/svg\" height=\"24px\"viewBox=\"0 0 24 24\"\n",
              "       width=\"24px\">\n",
              "    <path d=\"M0 0h24v24H0V0z\" fill=\"none\"/>\n",
              "    <path d=\"M18.56 5.44l.94 2.06.94-2.06 2.06-.94-2.06-.94-.94-2.06-.94 2.06-2.06.94zm-11 1L8.5 8.5l.94-2.06 2.06-.94-2.06-.94L8.5 2.5l-.94 2.06-2.06.94zm10 10l.94 2.06.94-2.06 2.06-.94-2.06-.94-.94-2.06-.94 2.06-2.06.94z\"/><path d=\"M17.41 7.96l-1.37-1.37c-.4-.4-.92-.59-1.43-.59-.52 0-1.04.2-1.43.59L10.3 9.45l-7.72 7.72c-.78.78-.78 2.05 0 2.83L4 21.41c.39.39.9.59 1.41.59.51 0 1.02-.2 1.41-.59l7.78-7.78 2.81-2.81c.8-.78.8-2.07 0-2.86zM5.41 20L4 18.59l7.72-7.72 1.47 1.35L5.41 20z\"/>\n",
              "  </svg>\n",
              "      </button>\n",
              "      \n",
              "  <style>\n",
              "    .colab-df-container {\n",
              "      display:flex;\n",
              "      flex-wrap:wrap;\n",
              "      gap: 12px;\n",
              "    }\n",
              "\n",
              "    .colab-df-convert {\n",
              "      background-color: #E8F0FE;\n",
              "      border: none;\n",
              "      border-radius: 50%;\n",
              "      cursor: pointer;\n",
              "      display: none;\n",
              "      fill: #1967D2;\n",
              "      height: 32px;\n",
              "      padding: 0 0 0 0;\n",
              "      width: 32px;\n",
              "    }\n",
              "\n",
              "    .colab-df-convert:hover {\n",
              "      background-color: #E2EBFA;\n",
              "      box-shadow: 0px 1px 2px rgba(60, 64, 67, 0.3), 0px 1px 3px 1px rgba(60, 64, 67, 0.15);\n",
              "      fill: #174EA6;\n",
              "    }\n",
              "\n",
              "    [theme=dark] .colab-df-convert {\n",
              "      background-color: #3B4455;\n",
              "      fill: #D2E3FC;\n",
              "    }\n",
              "\n",
              "    [theme=dark] .colab-df-convert:hover {\n",
              "      background-color: #434B5C;\n",
              "      box-shadow: 0px 1px 3px 1px rgba(0, 0, 0, 0.15);\n",
              "      filter: drop-shadow(0px 1px 2px rgba(0, 0, 0, 0.3));\n",
              "      fill: #FFFFFF;\n",
              "    }\n",
              "  </style>\n",
              "\n",
              "      <script>\n",
              "        const buttonEl =\n",
              "          document.querySelector('#df-99236cd4-f3af-4a45-8c21-f47268f84dc6 button.colab-df-convert');\n",
              "        buttonEl.style.display =\n",
              "          google.colab.kernel.accessAllowed ? 'block' : 'none';\n",
              "\n",
              "        async function convertToInteractive(key) {\n",
              "          const element = document.querySelector('#df-99236cd4-f3af-4a45-8c21-f47268f84dc6');\n",
              "          const dataTable =\n",
              "            await google.colab.kernel.invokeFunction('convertToInteractive',\n",
              "                                                     [key], {});\n",
              "          if (!dataTable) return;\n",
              "\n",
              "          const docLinkHtml = 'Like what you see? Visit the ' +\n",
              "            '<a target=\"_blank\" href=https://colab.research.google.com/notebooks/data_table.ipynb>data table notebook</a>'\n",
              "            + ' to learn more about interactive tables.';\n",
              "          element.innerHTML = '';\n",
              "          dataTable['output_type'] = 'display_data';\n",
              "          await google.colab.output.renderOutput(dataTable, element);\n",
              "          const docLink = document.createElement('div');\n",
              "          docLink.innerHTML = docLinkHtml;\n",
              "          element.appendChild(docLink);\n",
              "        }\n",
              "      </script>\n",
              "    </div>\n",
              "  </div>\n",
              "  "
            ]
          },
          "metadata": {},
          "execution_count": 2
        }
      ]
    },
    {
      "cell_type": "markdown",
      "metadata": {
        "id": "Z9RYGjobe1Vi"
      },
      "source": [
        "## date 컬럼 처리\n"
      ]
    },
    {
      "cell_type": "code",
      "execution_count": null,
      "metadata": {
        "colab": {
          "base_uri": "https://localhost:8080/"
        },
        "id": "7xzIEG1-fbiM",
        "outputId": "fc47905c-ba6f-40c8-e59f-c50ebc505f87"
      },
      "outputs": [
        {
          "output_type": "execute_result",
          "data": {
            "text/plain": [
              "0         Dec 31 14:54:03 2021\n",
              "1         Dec 31 14:34:00 2021\n",
              "2         Dec 31 14:21:00 2021\n",
              "3         Dec 31 14:21:00 2021\n",
              "4         Dec 31 12:49:00 2021\n",
              "                  ...         \n",
              "666205     2018-01-11 07:30:49\n",
              "666206     2017-11-15 07:37:27\n",
              "666207     2017-10-18 03:50:33\n",
              "666208     2017-08-31 12:06:00\n",
              "666209     2017-07-26 06:26:47\n",
              "Name: CreatedTime, Length: 666210, dtype: object"
            ]
          },
          "metadata": {},
          "execution_count": 3
        }
      ],
      "source": [
        "# df['CreatedTime'].to_csv('created_time.csv') #\n",
        "df['CreatedTime'] # 스프링클러 date format이 시간에 따라 달라서.. 치환할때 fixed format 주면안됨."
      ]
    },
    {
      "cell_type": "code",
      "execution_count": null,
      "metadata": {
        "id": "HycvuRjAibGk"
      },
      "outputs": [],
      "source": [
        "df['dt'] = pd.to_datetime(df['CreatedTime'], errors='raise') # fixed format없이 dt형식으로 치환"
      ]
    },
    {
      "cell_type": "code",
      "execution_count": null,
      "metadata": {
        "colab": {
          "base_uri": "https://localhost:8080/"
        },
        "id": "KFI96O5MihEt",
        "outputId": "e72187ab-89b7-4e5c-8b19-8c539b8bee52"
      },
      "outputs": [
        {
          "output_type": "execute_result",
          "data": {
            "text/plain": [
              "0        2021-12-31 14:54:03\n",
              "1        2021-12-31 14:34:00\n",
              "2        2021-12-31 14:21:00\n",
              "3        2021-12-31 14:21:00\n",
              "4        2021-12-31 12:49:00\n",
              "                 ...        \n",
              "666205   2018-01-11 07:30:49\n",
              "666206   2017-11-15 07:37:27\n",
              "666207   2017-10-18 03:50:33\n",
              "666208   2017-08-31 12:06:00\n",
              "666209   2017-07-26 06:26:47\n",
              "Name: dt, Length: 666210, dtype: datetime64[ns]"
            ]
          },
          "metadata": {},
          "execution_count": 5
        }
      ],
      "source": [
        "# def1 (시작날짜, 끝날짜, 회사) 주면 aspect 별 sentiment 값 나오게.\n",
        "df['dt'] # 결측치 없음. 잘바뀜."
      ]
    },
    {
      "cell_type": "code",
      "execution_count": null,
      "metadata": {
        "id": "SEOC9gSzkmMF"
      },
      "outputs": [],
      "source": [
        "# 연월일을 각각 다른 컬럼으로. - 필요 없음. 더 복잡,오래걸림.\n",
        "# df['year'] = df['dt'].dt.year\n",
        "# df['month'] = df['dt'].dt.month\n",
        "# df['day'] = df['dt'].dt.day"
      ]
    },
    {
      "cell_type": "markdown",
      "metadata": {
        "id": "zLPMYNGslPnr"
      },
      "source": [
        "## 회사 구분 column 신설"
      ]
    },
    {
      "cell_type": "code",
      "execution_count": null,
      "metadata": {
        "colab": {
          "base_uri": "https://localhost:8080/"
        },
        "id": "wTH6ekLkkmPV",
        "outputId": "427387c4-1cb3-4a13-a821-52e7cf05ad3f"
      },
      "outputs": [
        {
          "output_type": "stream",
          "name": "stderr",
          "text": [
            "100%|██████████| 666210/666210 [00:00<00:00, 834755.25it/s]\n"
          ]
        }
      ],
      "source": [
        "from tqdm import tqdm\n",
        "tqdm.pandas()\n",
        "\n",
        "lg = ['lg_ref','lg_wm','lg_ac']\n",
        "ss = ['ss_ac','ss_ref', 'ss_wm']\n",
        "\n",
        "\n",
        "def label_enterprise(label):\n",
        "  if label in lg:\n",
        "    return \"lg\"\n",
        "  elif label in ss:\n",
        "    return \"ss\"\n",
        "\n",
        "df['company'] = df['label'].progress_apply(lambda label:label_enterprise(label))"
      ]
    },
    {
      "cell_type": "code",
      "execution_count": null,
      "metadata": {
        "colab": {
          "base_uri": "https://localhost:8080/"
        },
        "id": "bdbCIeK2FqeW",
        "outputId": "514c3edd-78e4-495e-ed42-65fce0afc8dc"
      },
      "outputs": [
        {
          "output_type": "execute_result",
          "data": {
            "text/plain": [
              "array(['lg', 'ss'], dtype=object)"
            ]
          },
          "metadata": {},
          "execution_count": 10
        }
      ],
      "source": [
        "df['company'].unique()"
      ]
    },
    {
      "cell_type": "code",
      "source": [
        "# product 나누기\n",
        "from tqdm import tqdm\n",
        "tqdm.pandas()\n",
        "\n",
        "ref = ['lg_ref','ss_ref']\n",
        "wm = ['ss_wm','lg_wm']\n",
        "ac = ['lg_ac','ss_ac']\n",
        "\n",
        "\n",
        "def label_enterprise(label):\n",
        "  if label in ref:\n",
        "    return \"ref\"\n",
        "  elif label in wm:\n",
        "    return \"wm\"\n",
        "  elif label in ac:\n",
        "    return \"ac\"\n",
        "\n",
        "df['product'] = df['label'].progress_apply(lambda label:label_enterprise(label))"
      ],
      "metadata": {
        "colab": {
          "base_uri": "https://localhost:8080/"
        },
        "id": "IA2gY7lFIeA6",
        "outputId": "7f820ebc-e443-458f-d563-fcac5d72c91b"
      },
      "execution_count": null,
      "outputs": [
        {
          "output_type": "stream",
          "name": "stderr",
          "text": [
            "100%|██████████| 666210/666210 [00:00<00:00, 835670.45it/s]\n"
          ]
        }
      ]
    },
    {
      "cell_type": "code",
      "source": [
        "df['product'].unique()"
      ],
      "metadata": {
        "colab": {
          "base_uri": "https://localhost:8080/"
        },
        "id": "eV-cbYsNLImx",
        "outputId": "444e873e-e0b6-4da0-b984-647f5094d7b3"
      },
      "execution_count": null,
      "outputs": [
        {
          "output_type": "execute_result",
          "data": {
            "text/plain": [
              "array(['ref', 'wm', 'ac'], dtype=object)"
            ]
          },
          "metadata": {},
          "execution_count": 12
        }
      ]
    },
    {
      "cell_type": "code",
      "source": [
        "df['product'].value_counts()"
      ],
      "metadata": {
        "colab": {
          "base_uri": "https://localhost:8080/"
        },
        "id": "1ihpWyuaLs2I",
        "outputId": "aa350b1c-a556-40b7-ee0a-48a66f4fa333"
      },
      "execution_count": null,
      "outputs": [
        {
          "output_type": "execute_result",
          "data": {
            "text/plain": [
              "ref    384909\n",
              "wm     241090\n",
              "ac      40211\n",
              "Name: product, dtype: int64"
            ]
          },
          "metadata": {},
          "execution_count": 13
        }
      ]
    },
    {
      "cell_type": "markdown",
      "metadata": {
        "id": "GPsURfKvkOFU"
      },
      "source": [
        "# 2.Building Functions"
      ]
    },
    {
      "cell_type": "markdown",
      "metadata": {
        "id": "V_dHehenkUGv"
      },
      "source": [
        "## Aspect Based Sentiment Function"
      ]
    },
    {
      "cell_type": "markdown",
      "metadata": {
        "id": "Yg3ralgGsOmp"
      },
      "source": [
        "### basic score"
      ]
    },
    {
      "cell_type": "markdown",
      "metadata": {
        "id": "XiWbWBj2u7Vr"
      },
      "source": [
        "input: 시작일, 끝일, 회사\n",
        "\n",
        "output: 해당 기간ABSA 값"
      ]
    },
    {
      "cell_type": "code",
      "execution_count": null,
      "metadata": {
        "id": "B5Ysu35MkTY2"
      },
      "outputs": [],
      "source": [
        "# df for absa function\n",
        "aspects = ['affordable', 'design', 'durable ', 'luxury', 'easy', 'performance','innovative', 'good_service ', 'fulfillment', 'happy', 'proud','superb', 'trust']\n",
        "\n",
        "# (구)연월일 따로\n",
        "# others = ['year', 'month', 'day','company'] # 구버젼\n",
        "# absa_df = df[aspects + others]\n",
        "\n",
        "# (신)연월일 한번에 --> better computing 시간 \n",
        "absa_df = df[aspects + ['company','dt','sent_pred','product']]\n",
        "\n",
        "# with open(file_name,'rb') as fr:\n",
        "#     df = pickle.load(fr) "
      ]
    },
    {
      "cell_type": "code",
      "execution_count": null,
      "metadata": {
        "id": "DD5nqGHH6uZ8"
      },
      "outputs": [],
      "source": [
        "#pos/neg 구분용\n",
        "\n",
        "# 바꿀 컬럼 이름들\n",
        "neg_cols = []\n",
        "for aspect in aspects:\n",
        "  neg_cols.append(\"neg_\"+aspect)\n",
        "# print(neg_cols)\n",
        "\n",
        "pos_cols = []\n",
        "for aspect in aspects:\n",
        "  pos_cols.append(\"pos_\"+aspect)\n",
        "# print(pos_cols)"
      ]
    },
    {
      "cell_type": "code",
      "execution_count": null,
      "metadata": {
        "id": "g2Vkka3nkaAN"
      },
      "outputs": [],
      "source": [
        "# sentiment 추가안됨.\n",
        "\n",
        "def absa_info(start_date,end_date,company): # company는 \"lg\"아니면 \"ss\"\n",
        "  temp_df = absa_df[absa_df['company'] == company] # 특정 company만\n",
        "  temp_df = temp_df.drop('company',axis = 1)\n",
        "  temp_df = temp_df[(pd.to_datetime(start_date) <= temp_df['dt']) & (temp_df['dt'] <= pd.to_datetime(end_date))] # 해당 date에 해당하는 data만 찾기\n",
        "  temp_df = temp_df.drop('dt',axis = 1)\n",
        "  # temp_df.sum() #는 해당 기간의 aspect count값. (pos/neg 구분 코드 skip하고 돌리면.)\n",
        "\n",
        "  # aspect 별 sentiment 값 연산\n",
        "  #positive/negative 컬럼df 만들기\n",
        "  neg_df = temp_df[temp_df['sent_pred']==0]\n",
        "  neg_df = neg_df[aspects]\n",
        "  neg_df.columns = neg_cols\n",
        "  neg_df\n",
        "\n",
        "\n",
        "\n",
        "  pos_df = temp_df[temp_df['sent_pred']==1]\n",
        "  pos_df = pos_df[aspects]\n",
        "  pos_df.columns = pos_cols\n",
        "  pos_df\n",
        "\n",
        "  temp_df = pd.concat([neg_df,pos_df],axis = 1) \n",
        "  return temp_df.sum() # nan 자동 무시\n",
        "\n",
        "\n",
        "start_date = '2019-01-01' # date 형식: 'YYYY-MM-DD'\n",
        "end_date = '2019-12-31'\n",
        "absa_info(start_date,end_date,'lg').to_csv('2019absa.csv') "
      ]
    },
    {
      "cell_type": "code",
      "execution_count": null,
      "metadata": {
        "colab": {
          "base_uri": "https://localhost:8080/"
        },
        "id": "5HafIsplgs1Z",
        "outputId": "c6352e81-6479-4977-ae79-2c659b3130b7"
      },
      "outputs": [
        {
          "output_type": "execute_result",
          "data": {
            "text/plain": [
              "neg_affordable        3052.0\n",
              "neg_design            1026.0\n",
              "neg_durable           7416.0\n",
              "neg_luxury            1254.0\n",
              "neg_easy               915.0\n",
              "neg_performance       7480.0\n",
              "neg_innovative         402.0\n",
              "neg_good_service      8909.0\n",
              "neg_fulfillment       4157.0\n",
              "neg_happy             3221.0\n",
              "neg_proud              514.0\n",
              "neg_superb            5363.0\n",
              "neg_trust             6614.0\n",
              "pos_affordable        4693.0\n",
              "pos_design            4710.0\n",
              "pos_durable           3605.0\n",
              "pos_luxury            2494.0\n",
              "pos_easy              5034.0\n",
              "pos_performance      23955.0\n",
              "pos_innovative        1544.0\n",
              "pos_good_service      5550.0\n",
              "pos_fulfillment       2420.0\n",
              "pos_happy            12568.0\n",
              "pos_proud              354.0\n",
              "pos_superb            9994.0\n",
              "pos_trust             4016.0\n",
              "dtype: float64"
            ]
          },
          "metadata": {},
          "execution_count": 17
        }
      ],
      "source": [
        "absa_info(start_date,end_date,'lg')"
      ]
    },
    {
      "cell_type": "code",
      "execution_count": null,
      "metadata": {
        "colab": {
          "base_uri": "https://localhost:8080/",
          "height": 36
        },
        "id": "lSrmPBjvjn6g",
        "outputId": "024ba57f-05c7-49ca-c0f2-7d44b33c2257"
      },
      "outputs": [
        {
          "output_type": "execute_result",
          "data": {
            "text/plain": [
              "'lg refrigerator water filters present high quality drinking water by removing contaminants like pesticides chemicals and detergents '"
            ],
            "application/vnd.google.colaboratory.intrinsic+json": {
              "type": "string"
            }
          },
          "metadata": {},
          "execution_count": 18
        }
      ],
      "source": [
        "df['sent'].iloc[1]"
      ]
    },
    {
      "cell_type": "markdown",
      "metadata": {
        "id": "RP_oOuAvsTOd"
      },
      "source": [
        "### score by quarter"
      ]
    },
    {
      "cell_type": "code",
      "execution_count": null,
      "metadata": {
        "colab": {
          "base_uri": "https://localhost:8080/"
        },
        "id": "ThxCNpHhsWiK",
        "outputId": "9e33c746-3aad-44ff-fd79-74e9d30020d9"
      },
      "outputs": [
        {
          "output_type": "stream",
          "name": "stderr",
          "text": [
            "100%|██████████| 666210/666210 [00:04<00:00, 139640.84it/s]\n",
            "/usr/local/lib/python3.7/dist-packages/ipykernel_launcher.py:5: SettingWithCopyWarning: \n",
            "A value is trying to be set on a copy of a slice from a DataFrame.\n",
            "Try using .loc[row_indexer,col_indexer] = value instead\n",
            "\n",
            "See the caveats in the documentation: https://pandas.pydata.org/pandas-docs/stable/user_guide/indexing.html#returning-a-view-versus-a-copy\n",
            "  \"\"\"\n"
          ]
        },
        {
          "output_type": "execute_result",
          "data": {
            "text/plain": [
              "0         2021_4Q\n",
              "1         2021_4Q\n",
              "2         2021_4Q\n",
              "3         2021_4Q\n",
              "4         2021_4Q\n",
              "           ...   \n",
              "666205    2018_1Q\n",
              "666206    2017_4Q\n",
              "666207    2017_4Q\n",
              "666208    2017_3Q\n",
              "666209    2017_3Q\n",
              "Name: quarter, Length: 666210, dtype: object"
            ]
          },
          "metadata": {},
          "execution_count": 19
        }
      ],
      "source": [
        "# quarter 인식\n",
        "def to_quarter(dt): # company는 \"lg\"아니면 \"ss\"\n",
        " return str(dt.year) + '_' + str(dt.quarter) + \"Q\" #2021_4Q\n",
        "\n",
        "absa_df['quarter'] = absa_df['dt'].progress_apply(lambda create_dt: to_quarter(create_dt))\n",
        "absa_df['quarter']\n",
        "# absa_df.to_csv(\"quarter_df.csv\")\n",
        "\n",
        "\n"
      ]
    },
    {
      "cell_type": "code",
      "execution_count": null,
      "metadata": {
        "id": "7YxhR3oX0CQN"
      },
      "outputs": [],
      "source": [
        "import pandas as pd\n",
        "absa_df.to_csv('absa_df_quarter.csv')\n",
        "# absa_df = pd.read_csv('absa_df_quarter.csv')"
      ]
    },
    {
      "cell_type": "code",
      "source": [
        ""
      ],
      "metadata": {
        "id": "-lNrHOGPL9ZW"
      },
      "execution_count": null,
      "outputs": []
    },
    {
      "cell_type": "markdown",
      "source": [
        "## jeeto challenge 날짜 제외"
      ],
      "metadata": {
        "id": "jme085JAQslZ"
      }
    },
    {
      "cell_type": "code",
      "source": [
        "def erase_specific_date_data(start_date,end_date):\n",
        "  temp_df = absa_df\n",
        "  temp_df = temp_df[(temp_df['dt'] < (pd.to_datetime(event_start_date)))|(( pd.to_datetime(event_end_date) < temp_df['dt']))]\n",
        "  return temp_df\n",
        "#2020.09.22~2020.10.15 jeeto.\n",
        "event_start_date = '2020-09-22' # date 형식: 'YYYY-MM-DD'\n",
        "event_end_date = '2020-10-15'\n",
        "\n",
        "erase_specific_date_data(event_start_date,event_end_date)\n",
        "temp_df.to_csv('no_jeeto.csv')"
      ],
      "metadata": {
        "id": "8EA3eEWqQxxq",
        "colab": {
          "base_uri": "https://localhost:8080/",
          "height": 293
        },
        "outputId": "a0cb7feb-b90d-4b8b-b852-fc0f7a8e9f49"
      },
      "execution_count": null,
      "outputs": [
        {
          "output_type": "error",
          "ename": "TypeError",
          "evalue": "ignored",
          "traceback": [
            "\u001b[0;31m---------------------------------------------------------------------------\u001b[0m",
            "\u001b[0;31mTypeError\u001b[0m                                 Traceback (most recent call last)",
            "\u001b[0;32m<ipython-input-11-dcf7e3a248b7>\u001b[0m in \u001b[0;36m<module>\u001b[0;34m()\u001b[0m\n\u001b[1;32m      7\u001b[0m \u001b[0mevent_end_date\u001b[0m \u001b[0;34m=\u001b[0m \u001b[0;34m'2020-10-15'\u001b[0m\u001b[0;34m\u001b[0m\u001b[0;34m\u001b[0m\u001b[0m\n\u001b[1;32m      8\u001b[0m \u001b[0;34m\u001b[0m\u001b[0m\n\u001b[0;32m----> 9\u001b[0;31m \u001b[0merase_specific_date_data\u001b[0m\u001b[0;34m(\u001b[0m\u001b[0mevent_start_date\u001b[0m\u001b[0;34m,\u001b[0m\u001b[0mevent_end_date\u001b[0m\u001b[0;34m)\u001b[0m\u001b[0;34m\u001b[0m\u001b[0;34m\u001b[0m\u001b[0m\n\u001b[0m\u001b[1;32m     10\u001b[0m \u001b[0mtemp_df\u001b[0m\u001b[0;34m.\u001b[0m\u001b[0mto_csv\u001b[0m\u001b[0;34m(\u001b[0m\u001b[0;34m'no_jeeto.csv'\u001b[0m\u001b[0;34m)\u001b[0m\u001b[0;34m\u001b[0m\u001b[0;34m\u001b[0m\u001b[0m\n",
            "\u001b[0;32m<ipython-input-11-dcf7e3a248b7>\u001b[0m in \u001b[0;36merase_specific_date_data\u001b[0;34m(start_date, end_date)\u001b[0m\n\u001b[1;32m      1\u001b[0m \u001b[0;32mdef\u001b[0m \u001b[0merase_specific_date_data\u001b[0m\u001b[0;34m(\u001b[0m\u001b[0mstart_date\u001b[0m\u001b[0;34m,\u001b[0m\u001b[0mend_date\u001b[0m\u001b[0;34m)\u001b[0m\u001b[0;34m:\u001b[0m\u001b[0;34m\u001b[0m\u001b[0;34m\u001b[0m\u001b[0m\n\u001b[1;32m      2\u001b[0m   \u001b[0mtemp_df\u001b[0m \u001b[0;34m=\u001b[0m \u001b[0mabsa_df\u001b[0m\u001b[0;34m\u001b[0m\u001b[0;34m\u001b[0m\u001b[0m\n\u001b[0;32m----> 3\u001b[0;31m   \u001b[0mtemp_df\u001b[0m \u001b[0;34m=\u001b[0m \u001b[0mtemp_df\u001b[0m\u001b[0;34m[\u001b[0m\u001b[0;34m(\u001b[0m\u001b[0mtemp_df\u001b[0m\u001b[0;34m[\u001b[0m\u001b[0;34m'dt'\u001b[0m\u001b[0;34m]\u001b[0m \u001b[0;34m<\u001b[0m \u001b[0;34m(\u001b[0m\u001b[0mpd\u001b[0m\u001b[0;34m.\u001b[0m\u001b[0mto_datetime\u001b[0m\u001b[0;34m(\u001b[0m\u001b[0mevent_start_date\u001b[0m\u001b[0;34m)\u001b[0m\u001b[0;34m)\u001b[0m\u001b[0;34m)\u001b[0m\u001b[0;34m|\u001b[0m\u001b[0;34m(\u001b[0m\u001b[0;34m(\u001b[0m \u001b[0mpd\u001b[0m\u001b[0;34m.\u001b[0m\u001b[0mto_datetime\u001b[0m\u001b[0;34m(\u001b[0m\u001b[0mevent_end_date\u001b[0m\u001b[0;34m)\u001b[0m \u001b[0;34m<\u001b[0m \u001b[0mtemp_df\u001b[0m\u001b[0;34m[\u001b[0m\u001b[0;34m'dt'\u001b[0m\u001b[0;34m]\u001b[0m\u001b[0;34m)\u001b[0m\u001b[0;34m)\u001b[0m\u001b[0;34m]\u001b[0m\u001b[0;34m\u001b[0m\u001b[0;34m\u001b[0m\u001b[0m\n\u001b[0m\u001b[1;32m      4\u001b[0m   \u001b[0;32mreturn\u001b[0m \u001b[0mtemp_df\u001b[0m\u001b[0;34m\u001b[0m\u001b[0;34m\u001b[0m\u001b[0m\n\u001b[1;32m      5\u001b[0m \u001b[0;31m#2020.09.22~2020.10.15 jeeto.\u001b[0m\u001b[0;34m\u001b[0m\u001b[0;34m\u001b[0m\u001b[0;34m\u001b[0m\u001b[0m\n",
            "\u001b[0;32m/usr/local/lib/python3.7/dist-packages/pandas/core/ops/common.py\u001b[0m in \u001b[0;36mnew_method\u001b[0;34m(self, other)\u001b[0m\n\u001b[1;32m     67\u001b[0m         \u001b[0mother\u001b[0m \u001b[0;34m=\u001b[0m \u001b[0mitem_from_zerodim\u001b[0m\u001b[0;34m(\u001b[0m\u001b[0mother\u001b[0m\u001b[0;34m)\u001b[0m\u001b[0;34m\u001b[0m\u001b[0;34m\u001b[0m\u001b[0m\n\u001b[1;32m     68\u001b[0m \u001b[0;34m\u001b[0m\u001b[0m\n\u001b[0;32m---> 69\u001b[0;31m         \u001b[0;32mreturn\u001b[0m \u001b[0mmethod\u001b[0m\u001b[0;34m(\u001b[0m\u001b[0mself\u001b[0m\u001b[0;34m,\u001b[0m \u001b[0mother\u001b[0m\u001b[0;34m)\u001b[0m\u001b[0;34m\u001b[0m\u001b[0;34m\u001b[0m\u001b[0m\n\u001b[0m\u001b[1;32m     70\u001b[0m \u001b[0;34m\u001b[0m\u001b[0m\n\u001b[1;32m     71\u001b[0m     \u001b[0;32mreturn\u001b[0m \u001b[0mnew_method\u001b[0m\u001b[0;34m\u001b[0m\u001b[0;34m\u001b[0m\u001b[0m\n",
            "\u001b[0;32m/usr/local/lib/python3.7/dist-packages/pandas/core/arraylike.py\u001b[0m in \u001b[0;36m__lt__\u001b[0;34m(self, other)\u001b[0m\n\u001b[1;32m     38\u001b[0m     \u001b[0;34m@\u001b[0m\u001b[0munpack_zerodim_and_defer\u001b[0m\u001b[0;34m(\u001b[0m\u001b[0;34m\"__lt__\"\u001b[0m\u001b[0;34m)\u001b[0m\u001b[0;34m\u001b[0m\u001b[0;34m\u001b[0m\u001b[0m\n\u001b[1;32m     39\u001b[0m     \u001b[0;32mdef\u001b[0m \u001b[0m__lt__\u001b[0m\u001b[0;34m(\u001b[0m\u001b[0mself\u001b[0m\u001b[0;34m,\u001b[0m \u001b[0mother\u001b[0m\u001b[0;34m)\u001b[0m\u001b[0;34m:\u001b[0m\u001b[0;34m\u001b[0m\u001b[0;34m\u001b[0m\u001b[0m\n\u001b[0;32m---> 40\u001b[0;31m         \u001b[0;32mreturn\u001b[0m \u001b[0mself\u001b[0m\u001b[0;34m.\u001b[0m\u001b[0m_cmp_method\u001b[0m\u001b[0;34m(\u001b[0m\u001b[0mother\u001b[0m\u001b[0;34m,\u001b[0m \u001b[0moperator\u001b[0m\u001b[0;34m.\u001b[0m\u001b[0mlt\u001b[0m\u001b[0;34m)\u001b[0m\u001b[0;34m\u001b[0m\u001b[0;34m\u001b[0m\u001b[0m\n\u001b[0m\u001b[1;32m     41\u001b[0m \u001b[0;34m\u001b[0m\u001b[0m\n\u001b[1;32m     42\u001b[0m     \u001b[0;34m@\u001b[0m\u001b[0munpack_zerodim_and_defer\u001b[0m\u001b[0;34m(\u001b[0m\u001b[0;34m\"__le__\"\u001b[0m\u001b[0;34m)\u001b[0m\u001b[0;34m\u001b[0m\u001b[0;34m\u001b[0m\u001b[0m\n",
            "\u001b[0;32m/usr/local/lib/python3.7/dist-packages/pandas/core/series.py\u001b[0m in \u001b[0;36m_cmp_method\u001b[0;34m(self, other, op)\u001b[0m\n\u001b[1;32m   5500\u001b[0m \u001b[0;34m\u001b[0m\u001b[0m\n\u001b[1;32m   5501\u001b[0m         \u001b[0;32mwith\u001b[0m \u001b[0mnp\u001b[0m\u001b[0;34m.\u001b[0m\u001b[0merrstate\u001b[0m\u001b[0;34m(\u001b[0m\u001b[0mall\u001b[0m\u001b[0;34m=\u001b[0m\u001b[0;34m\"ignore\"\u001b[0m\u001b[0;34m)\u001b[0m\u001b[0;34m:\u001b[0m\u001b[0;34m\u001b[0m\u001b[0;34m\u001b[0m\u001b[0m\n\u001b[0;32m-> 5502\u001b[0;31m             \u001b[0mres_values\u001b[0m \u001b[0;34m=\u001b[0m \u001b[0mops\u001b[0m\u001b[0;34m.\u001b[0m\u001b[0mcomparison_op\u001b[0m\u001b[0;34m(\u001b[0m\u001b[0mlvalues\u001b[0m\u001b[0;34m,\u001b[0m \u001b[0mrvalues\u001b[0m\u001b[0;34m,\u001b[0m \u001b[0mop\u001b[0m\u001b[0;34m)\u001b[0m\u001b[0;34m\u001b[0m\u001b[0;34m\u001b[0m\u001b[0m\n\u001b[0m\u001b[1;32m   5503\u001b[0m \u001b[0;34m\u001b[0m\u001b[0m\n\u001b[1;32m   5504\u001b[0m         \u001b[0;32mreturn\u001b[0m \u001b[0mself\u001b[0m\u001b[0;34m.\u001b[0m\u001b[0m_construct_result\u001b[0m\u001b[0;34m(\u001b[0m\u001b[0mres_values\u001b[0m\u001b[0;34m,\u001b[0m \u001b[0mname\u001b[0m\u001b[0;34m=\u001b[0m\u001b[0mres_name\u001b[0m\u001b[0;34m)\u001b[0m\u001b[0;34m\u001b[0m\u001b[0;34m\u001b[0m\u001b[0m\n",
            "\u001b[0;32m/usr/local/lib/python3.7/dist-packages/pandas/core/ops/array_ops.py\u001b[0m in \u001b[0;36mcomparison_op\u001b[0;34m(left, right, op)\u001b[0m\n\u001b[1;32m    282\u001b[0m \u001b[0;34m\u001b[0m\u001b[0m\n\u001b[1;32m    283\u001b[0m     \u001b[0;32melif\u001b[0m \u001b[0mis_object_dtype\u001b[0m\u001b[0;34m(\u001b[0m\u001b[0mlvalues\u001b[0m\u001b[0;34m.\u001b[0m\u001b[0mdtype\u001b[0m\u001b[0;34m)\u001b[0m \u001b[0;32mor\u001b[0m \u001b[0misinstance\u001b[0m\u001b[0;34m(\u001b[0m\u001b[0mrvalues\u001b[0m\u001b[0;34m,\u001b[0m \u001b[0mstr\u001b[0m\u001b[0;34m)\u001b[0m\u001b[0;34m:\u001b[0m\u001b[0;34m\u001b[0m\u001b[0;34m\u001b[0m\u001b[0m\n\u001b[0;32m--> 284\u001b[0;31m         \u001b[0mres_values\u001b[0m \u001b[0;34m=\u001b[0m \u001b[0mcomp_method_OBJECT_ARRAY\u001b[0m\u001b[0;34m(\u001b[0m\u001b[0mop\u001b[0m\u001b[0;34m,\u001b[0m \u001b[0mlvalues\u001b[0m\u001b[0;34m,\u001b[0m \u001b[0mrvalues\u001b[0m\u001b[0;34m)\u001b[0m\u001b[0;34m\u001b[0m\u001b[0;34m\u001b[0m\u001b[0m\n\u001b[0m\u001b[1;32m    285\u001b[0m \u001b[0;34m\u001b[0m\u001b[0m\n\u001b[1;32m    286\u001b[0m     \u001b[0;32melse\u001b[0m\u001b[0;34m:\u001b[0m\u001b[0;34m\u001b[0m\u001b[0;34m\u001b[0m\u001b[0m\n",
            "\u001b[0;32m/usr/local/lib/python3.7/dist-packages/pandas/core/ops/array_ops.py\u001b[0m in \u001b[0;36mcomp_method_OBJECT_ARRAY\u001b[0;34m(op, x, y)\u001b[0m\n\u001b[1;32m     71\u001b[0m         \u001b[0mresult\u001b[0m \u001b[0;34m=\u001b[0m \u001b[0mlibops\u001b[0m\u001b[0;34m.\u001b[0m\u001b[0mvec_compare\u001b[0m\u001b[0;34m(\u001b[0m\u001b[0mx\u001b[0m\u001b[0;34m.\u001b[0m\u001b[0mravel\u001b[0m\u001b[0;34m(\u001b[0m\u001b[0;34m)\u001b[0m\u001b[0;34m,\u001b[0m \u001b[0my\u001b[0m\u001b[0;34m.\u001b[0m\u001b[0mravel\u001b[0m\u001b[0;34m(\u001b[0m\u001b[0;34m)\u001b[0m\u001b[0;34m,\u001b[0m \u001b[0mop\u001b[0m\u001b[0;34m)\u001b[0m\u001b[0;34m\u001b[0m\u001b[0;34m\u001b[0m\u001b[0m\n\u001b[1;32m     72\u001b[0m     \u001b[0;32melse\u001b[0m\u001b[0;34m:\u001b[0m\u001b[0;34m\u001b[0m\u001b[0;34m\u001b[0m\u001b[0m\n\u001b[0;32m---> 73\u001b[0;31m         \u001b[0mresult\u001b[0m \u001b[0;34m=\u001b[0m \u001b[0mlibops\u001b[0m\u001b[0;34m.\u001b[0m\u001b[0mscalar_compare\u001b[0m\u001b[0;34m(\u001b[0m\u001b[0mx\u001b[0m\u001b[0;34m.\u001b[0m\u001b[0mravel\u001b[0m\u001b[0;34m(\u001b[0m\u001b[0;34m)\u001b[0m\u001b[0;34m,\u001b[0m \u001b[0my\u001b[0m\u001b[0;34m,\u001b[0m \u001b[0mop\u001b[0m\u001b[0;34m)\u001b[0m\u001b[0;34m\u001b[0m\u001b[0;34m\u001b[0m\u001b[0m\n\u001b[0m\u001b[1;32m     74\u001b[0m     \u001b[0;32mreturn\u001b[0m \u001b[0mresult\u001b[0m\u001b[0;34m.\u001b[0m\u001b[0mreshape\u001b[0m\u001b[0;34m(\u001b[0m\u001b[0mx\u001b[0m\u001b[0;34m.\u001b[0m\u001b[0mshape\u001b[0m\u001b[0;34m)\u001b[0m\u001b[0;34m\u001b[0m\u001b[0;34m\u001b[0m\u001b[0m\n\u001b[1;32m     75\u001b[0m \u001b[0;34m\u001b[0m\u001b[0m\n",
            "\u001b[0;32m/usr/local/lib/python3.7/dist-packages/pandas/_libs/ops.pyx\u001b[0m in \u001b[0;36mpandas._libs.ops.scalar_compare\u001b[0;34m()\u001b[0m\n",
            "\u001b[0;31mTypeError\u001b[0m: '<' not supported between instances of 'str' and 'Timestamp'"
          ]
        }
      ]
    },
    {
      "cell_type": "code",
      "source": [
        "temp_df"
      ],
      "metadata": {
        "colab": {
          "base_uri": "https://localhost:8080/",
          "height": 641
        },
        "id": "wsy_dSO5UoLI",
        "outputId": "6d257bb3-ad3f-4b50-c4ae-8eb00b2fcb9e"
      },
      "execution_count": null,
      "outputs": [
        {
          "output_type": "execute_result",
          "data": {
            "text/plain": [
              "                                    UniversalMessageId SocialNetwork  \\\n",
              "0      FACEBOOK_14_10152889869159377_10156974958924377      FACEBOOK   \n",
              "1                               YOUTUBE_45_h0hF45peGOk       YOUTUBE   \n",
              "2                         TWITTER_4_947446679036481538       TWITTER   \n",
              "3                         TWITTER_2_947430778941722624       TWITTER   \n",
              "4                         TWITTER_8_947430518013882368       TWITTER   \n",
              "...                                                ...           ...   \n",
              "86172                     TWITTER_2_682847545148731392       TWITTER   \n",
              "86173                     TWITTER_2_682847543244533760       TWITTER   \n",
              "86174                     TWITTER_2_682847539436122112       TWITTER   \n",
              "86175                     TWITTER_7_682786753191657472       TWITTER   \n",
              "86176                     TWITTER_4_682721112346750976       TWITTER   \n",
              "\n",
              "                   SenderUserId  \\\n",
              "0             10153256326653866   \n",
              "1      UCmYC3O8hab0555TaSghp9fw   \n",
              "2                    2434425381   \n",
              "3                    3237275422   \n",
              "4                    1712763200   \n",
              "...                         ...   \n",
              "86172                3248730991   \n",
              "86173                3248730991   \n",
              "86174                3248730991   \n",
              "86175                4686103580   \n",
              "86176                1266025884   \n",
              "\n",
              "                                                   Title  \\\n",
              "0                                                    NaN   \n",
              "1      [4K/60FPS]Let's Play Dirt 3: Complete Edition ...   \n",
              "2                                                    NaN   \n",
              "3                                                    NaN   \n",
              "4                                                    NaN   \n",
              "...                                                  ...   \n",
              "86172                                                NaN   \n",
              "86173                                                NaN   \n",
              "86174                                                NaN   \n",
              "86175                                                NaN   \n",
              "86176                                                NaN   \n",
              "\n",
              "                                                 Message       MessageType  \\\n",
              "0      I have a fridge similar to this one.   Within ...  Facebook Comment   \n",
              "1      !!!Extreme Lautstärke Warnung!!!\\n\\nNach extre...     YouTube Video   \n",
              "2      Hey @LGUS - great announcement at #CES - but t...   Twitter Mention   \n",
              "3      5 Benefits Of Using LG Instaview Refrigerator ...    Twitter Update   \n",
              "4      RT @LGIndia Uninterrupted Party with #LG Linea...   Twitter Retweet   \n",
              "...                                                  ...               ...   \n",
              "86172  appliance repair lg refrigerator repair Tempe ...    Twitter Update   \n",
              "86173  appliance repair lg refrigerator repair Tempe ...    Twitter Update   \n",
              "86174  washer repair lg refrigerator repair Tempe AZ ...    Twitter Update   \n",
              "86175  @LG_SpaceLy my freezer is hotter than your mix...     Twitter Reply   \n",
              "86176  #LGLimitlessDesign and #Contest LPXS30866D: LG...   Twitter Mention   \n",
              "\n",
              "                  CreatedTime    source  \n",
              "0     2017-12-31 14:57:38.000  Facebook  \n",
              "1     2017-12-31 13:28:35.000   Youtube  \n",
              "2     2017-12-31 12:37:45.000   Twitter  \n",
              "3     2017-12-31 11:34:34.000   Twitter  \n",
              "4     2017-12-31 11:33:32.000   Twitter  \n",
              "...                       ...       ...  \n",
              "86172 2016-01-01 08:55:16.114   Twitter  \n",
              "86173 2016-01-01 08:55:15.660   Twitter  \n",
              "86174 2016-01-01 08:55:14.752   Twitter  \n",
              "86175 2016-01-01 04:53:42.182   Twitter  \n",
              "86176 2016-01-01 00:32:52.000   Twitter  \n",
              "\n",
              "[86177 rows x 8 columns]"
            ],
            "text/html": [
              "\n",
              "  <div id=\"df-b203054a-e5e9-4fff-911e-36c55c1b2c32\">\n",
              "    <div class=\"colab-df-container\">\n",
              "      <div>\n",
              "<style scoped>\n",
              "    .dataframe tbody tr th:only-of-type {\n",
              "        vertical-align: middle;\n",
              "    }\n",
              "\n",
              "    .dataframe tbody tr th {\n",
              "        vertical-align: top;\n",
              "    }\n",
              "\n",
              "    .dataframe thead th {\n",
              "        text-align: right;\n",
              "    }\n",
              "</style>\n",
              "<table border=\"1\" class=\"dataframe\">\n",
              "  <thead>\n",
              "    <tr style=\"text-align: right;\">\n",
              "      <th></th>\n",
              "      <th>UniversalMessageId</th>\n",
              "      <th>SocialNetwork</th>\n",
              "      <th>SenderUserId</th>\n",
              "      <th>Title</th>\n",
              "      <th>Message</th>\n",
              "      <th>MessageType</th>\n",
              "      <th>CreatedTime</th>\n",
              "      <th>source</th>\n",
              "    </tr>\n",
              "  </thead>\n",
              "  <tbody>\n",
              "    <tr>\n",
              "      <th>0</th>\n",
              "      <td>FACEBOOK_14_10152889869159377_10156974958924377</td>\n",
              "      <td>FACEBOOK</td>\n",
              "      <td>10153256326653866</td>\n",
              "      <td>NaN</td>\n",
              "      <td>I have a fridge similar to this one.   Within ...</td>\n",
              "      <td>Facebook Comment</td>\n",
              "      <td>2017-12-31 14:57:38.000</td>\n",
              "      <td>Facebook</td>\n",
              "    </tr>\n",
              "    <tr>\n",
              "      <th>1</th>\n",
              "      <td>YOUTUBE_45_h0hF45peGOk</td>\n",
              "      <td>YOUTUBE</td>\n",
              "      <td>UCmYC3O8hab0555TaSghp9fw</td>\n",
              "      <td>[4K/60FPS]Let's Play Dirt 3: Complete Edition ...</td>\n",
              "      <td>!!!Extreme Lautstärke Warnung!!!\\n\\nNach extre...</td>\n",
              "      <td>YouTube Video</td>\n",
              "      <td>2017-12-31 13:28:35.000</td>\n",
              "      <td>Youtube</td>\n",
              "    </tr>\n",
              "    <tr>\n",
              "      <th>2</th>\n",
              "      <td>TWITTER_4_947446679036481538</td>\n",
              "      <td>TWITTER</td>\n",
              "      <td>2434425381</td>\n",
              "      <td>NaN</td>\n",
              "      <td>Hey @LGUS - great announcement at #CES - but t...</td>\n",
              "      <td>Twitter Mention</td>\n",
              "      <td>2017-12-31 12:37:45.000</td>\n",
              "      <td>Twitter</td>\n",
              "    </tr>\n",
              "    <tr>\n",
              "      <th>3</th>\n",
              "      <td>TWITTER_2_947430778941722624</td>\n",
              "      <td>TWITTER</td>\n",
              "      <td>3237275422</td>\n",
              "      <td>NaN</td>\n",
              "      <td>5 Benefits Of Using LG Instaview Refrigerator ...</td>\n",
              "      <td>Twitter Update</td>\n",
              "      <td>2017-12-31 11:34:34.000</td>\n",
              "      <td>Twitter</td>\n",
              "    </tr>\n",
              "    <tr>\n",
              "      <th>4</th>\n",
              "      <td>TWITTER_8_947430518013882368</td>\n",
              "      <td>TWITTER</td>\n",
              "      <td>1712763200</td>\n",
              "      <td>NaN</td>\n",
              "      <td>RT @LGIndia Uninterrupted Party with #LG Linea...</td>\n",
              "      <td>Twitter Retweet</td>\n",
              "      <td>2017-12-31 11:33:32.000</td>\n",
              "      <td>Twitter</td>\n",
              "    </tr>\n",
              "    <tr>\n",
              "      <th>...</th>\n",
              "      <td>...</td>\n",
              "      <td>...</td>\n",
              "      <td>...</td>\n",
              "      <td>...</td>\n",
              "      <td>...</td>\n",
              "      <td>...</td>\n",
              "      <td>...</td>\n",
              "      <td>...</td>\n",
              "    </tr>\n",
              "    <tr>\n",
              "      <th>86172</th>\n",
              "      <td>TWITTER_2_682847545148731392</td>\n",
              "      <td>TWITTER</td>\n",
              "      <td>3248730991</td>\n",
              "      <td>NaN</td>\n",
              "      <td>appliance repair lg refrigerator repair Tempe ...</td>\n",
              "      <td>Twitter Update</td>\n",
              "      <td>2016-01-01 08:55:16.114</td>\n",
              "      <td>Twitter</td>\n",
              "    </tr>\n",
              "    <tr>\n",
              "      <th>86173</th>\n",
              "      <td>TWITTER_2_682847543244533760</td>\n",
              "      <td>TWITTER</td>\n",
              "      <td>3248730991</td>\n",
              "      <td>NaN</td>\n",
              "      <td>appliance repair lg refrigerator repair Tempe ...</td>\n",
              "      <td>Twitter Update</td>\n",
              "      <td>2016-01-01 08:55:15.660</td>\n",
              "      <td>Twitter</td>\n",
              "    </tr>\n",
              "    <tr>\n",
              "      <th>86174</th>\n",
              "      <td>TWITTER_2_682847539436122112</td>\n",
              "      <td>TWITTER</td>\n",
              "      <td>3248730991</td>\n",
              "      <td>NaN</td>\n",
              "      <td>washer repair lg refrigerator repair Tempe AZ ...</td>\n",
              "      <td>Twitter Update</td>\n",
              "      <td>2016-01-01 08:55:14.752</td>\n",
              "      <td>Twitter</td>\n",
              "    </tr>\n",
              "    <tr>\n",
              "      <th>86175</th>\n",
              "      <td>TWITTER_7_682786753191657472</td>\n",
              "      <td>TWITTER</td>\n",
              "      <td>4686103580</td>\n",
              "      <td>NaN</td>\n",
              "      <td>@LG_SpaceLy my freezer is hotter than your mix...</td>\n",
              "      <td>Twitter Reply</td>\n",
              "      <td>2016-01-01 04:53:42.182</td>\n",
              "      <td>Twitter</td>\n",
              "    </tr>\n",
              "    <tr>\n",
              "      <th>86176</th>\n",
              "      <td>TWITTER_4_682721112346750976</td>\n",
              "      <td>TWITTER</td>\n",
              "      <td>1266025884</td>\n",
              "      <td>NaN</td>\n",
              "      <td>#LGLimitlessDesign and #Contest LPXS30866D: LG...</td>\n",
              "      <td>Twitter Mention</td>\n",
              "      <td>2016-01-01 00:32:52.000</td>\n",
              "      <td>Twitter</td>\n",
              "    </tr>\n",
              "  </tbody>\n",
              "</table>\n",
              "<p>86177 rows × 8 columns</p>\n",
              "</div>\n",
              "      <button class=\"colab-df-convert\" onclick=\"convertToInteractive('df-b203054a-e5e9-4fff-911e-36c55c1b2c32')\"\n",
              "              title=\"Convert this dataframe to an interactive table.\"\n",
              "              style=\"display:none;\">\n",
              "        \n",
              "  <svg xmlns=\"http://www.w3.org/2000/svg\" height=\"24px\"viewBox=\"0 0 24 24\"\n",
              "       width=\"24px\">\n",
              "    <path d=\"M0 0h24v24H0V0z\" fill=\"none\"/>\n",
              "    <path d=\"M18.56 5.44l.94 2.06.94-2.06 2.06-.94-2.06-.94-.94-2.06-.94 2.06-2.06.94zm-11 1L8.5 8.5l.94-2.06 2.06-.94-2.06-.94L8.5 2.5l-.94 2.06-2.06.94zm10 10l.94 2.06.94-2.06 2.06-.94-2.06-.94-.94-2.06-.94 2.06-2.06.94z\"/><path d=\"M17.41 7.96l-1.37-1.37c-.4-.4-.92-.59-1.43-.59-.52 0-1.04.2-1.43.59L10.3 9.45l-7.72 7.72c-.78.78-.78 2.05 0 2.83L4 21.41c.39.39.9.59 1.41.59.51 0 1.02-.2 1.41-.59l7.78-7.78 2.81-2.81c.8-.78.8-2.07 0-2.86zM5.41 20L4 18.59l7.72-7.72 1.47 1.35L5.41 20z\"/>\n",
              "  </svg>\n",
              "      </button>\n",
              "      \n",
              "  <style>\n",
              "    .colab-df-container {\n",
              "      display:flex;\n",
              "      flex-wrap:wrap;\n",
              "      gap: 12px;\n",
              "    }\n",
              "\n",
              "    .colab-df-convert {\n",
              "      background-color: #E8F0FE;\n",
              "      border: none;\n",
              "      border-radius: 50%;\n",
              "      cursor: pointer;\n",
              "      display: none;\n",
              "      fill: #1967D2;\n",
              "      height: 32px;\n",
              "      padding: 0 0 0 0;\n",
              "      width: 32px;\n",
              "    }\n",
              "\n",
              "    .colab-df-convert:hover {\n",
              "      background-color: #E2EBFA;\n",
              "      box-shadow: 0px 1px 2px rgba(60, 64, 67, 0.3), 0px 1px 3px 1px rgba(60, 64, 67, 0.15);\n",
              "      fill: #174EA6;\n",
              "    }\n",
              "\n",
              "    [theme=dark] .colab-df-convert {\n",
              "      background-color: #3B4455;\n",
              "      fill: #D2E3FC;\n",
              "    }\n",
              "\n",
              "    [theme=dark] .colab-df-convert:hover {\n",
              "      background-color: #434B5C;\n",
              "      box-shadow: 0px 1px 3px 1px rgba(0, 0, 0, 0.15);\n",
              "      filter: drop-shadow(0px 1px 2px rgba(0, 0, 0, 0.3));\n",
              "      fill: #FFFFFF;\n",
              "    }\n",
              "  </style>\n",
              "\n",
              "      <script>\n",
              "        const buttonEl =\n",
              "          document.querySelector('#df-b203054a-e5e9-4fff-911e-36c55c1b2c32 button.colab-df-convert');\n",
              "        buttonEl.style.display =\n",
              "          google.colab.kernel.accessAllowed ? 'block' : 'none';\n",
              "\n",
              "        async function convertToInteractive(key) {\n",
              "          const element = document.querySelector('#df-b203054a-e5e9-4fff-911e-36c55c1b2c32');\n",
              "          const dataTable =\n",
              "            await google.colab.kernel.invokeFunction('convertToInteractive',\n",
              "                                                     [key], {});\n",
              "          if (!dataTable) return;\n",
              "\n",
              "          const docLinkHtml = 'Like what you see? Visit the ' +\n",
              "            '<a target=\"_blank\" href=https://colab.research.google.com/notebooks/data_table.ipynb>data table notebook</a>'\n",
              "            + ' to learn more about interactive tables.';\n",
              "          element.innerHTML = '';\n",
              "          dataTable['output_type'] = 'display_data';\n",
              "          await google.colab.output.renderOutput(dataTable, element);\n",
              "          const docLink = document.createElement('div');\n",
              "          docLink.innerHTML = docLinkHtml;\n",
              "          element.appendChild(docLink);\n",
              "        }\n",
              "      </script>\n",
              "    </div>\n",
              "  </div>\n",
              "  "
            ]
          },
          "metadata": {},
          "execution_count": 138
        }
      ]
    },
    {
      "cell_type": "markdown",
      "source": [
        "# ABSA 값 뽑기"
      ],
      "metadata": {
        "id": "2p-jFtAiQwG6"
      }
    },
    {
      "cell_type": "code",
      "source": [
        "# 해당 쿼터의 ABSA 값\n",
        "\n",
        "def ABSAbyQ(year,quarter,company,product): # 2021,4,company(lg또는ss),product(ref,wm,ac)\n",
        "  temp_df = absa_df[absa_df['company'] == company] # 특정 company만\n",
        "  temp_df = temp_df.drop('company',axis = 1)\n",
        "\n",
        "  temp_df = temp_df[temp_df['product'] == product] # 특정 product만\n",
        "  temp_df = temp_df[temp_df['quarter'] == (str(year)+ \"_\" +str(quarter) + \"Q\")]\n",
        "\n",
        "  # aspect 별 sentiment 값 연산\n",
        "  #positive/negative 컬럼df 만들기\n",
        "  neg_df = temp_df[temp_df['sent_pred']==0]\n",
        "  neg_df = neg_df[aspects]\n",
        "  neg_df.columns = neg_cols\n",
        "  neg_df\n",
        "\n",
        "\n",
        "\n",
        "  pos_df = temp_df[temp_df['sent_pred']==1]\n",
        "  pos_df = pos_df[aspects]\n",
        "  pos_df.columns = pos_cols\n",
        "  pos_df\n",
        "\n",
        "  temp_df = pd.concat([neg_df,pos_df],axis = 1) \n",
        "  return temp_df.sum() # nan 자동 무시 #\n",
        "\n",
        "ABSAbyQ(2021,4,'lg','ac')"
      ],
      "metadata": {
        "colab": {
          "base_uri": "https://localhost:8080/"
        },
        "id": "pr8HRZ-cuF0v",
        "outputId": "0ac9d429-2b6a-4336-c4b0-9a50776fc335"
      },
      "execution_count": null,
      "outputs": [
        {
          "output_type": "execute_result",
          "data": {
            "text/plain": [
              "neg_affordable        15.0\n",
              "neg_design             8.0\n",
              "neg_durable           42.0\n",
              "neg_luxury             6.0\n",
              "neg_easy               6.0\n",
              "neg_performance       73.0\n",
              "neg_innovative        11.0\n",
              "neg_good_service      60.0\n",
              "neg_fulfillment       26.0\n",
              "neg_happy             20.0\n",
              "neg_proud              4.0\n",
              "neg_superb            43.0\n",
              "neg_trust             38.0\n",
              "pos_affordable        68.0\n",
              "pos_design            44.0\n",
              "pos_durable           40.0\n",
              "pos_luxury            30.0\n",
              "pos_easy              55.0\n",
              "pos_performance      264.0\n",
              "pos_innovative        19.0\n",
              "pos_good_service      94.0\n",
              "pos_fulfillment       17.0\n",
              "pos_happy            108.0\n",
              "pos_proud              7.0\n",
              "pos_superb           139.0\n",
              "pos_trust             44.0\n",
              "dtype: float64"
            ]
          },
          "metadata": {},
          "execution_count": 139
        }
      ]
    },
    {
      "cell_type": "code",
      "execution_count": null,
      "metadata": {
        "colab": {
          "base_uri": "https://localhost:8080/"
        },
        "id": "EYu9x3Eavh_j",
        "outputId": "90b97145-3c63-4d62-978a-a3a26ddc8be7"
      },
      "outputs": [
        {
          "output_type": "execute_result",
          "data": {
            "text/plain": [
              "neg_affordable        61.0\n",
              "neg_design            27.0\n",
              "neg_durable          128.0\n",
              "neg_luxury            22.0\n",
              "neg_easy              23.0\n",
              "neg_performance      217.0\n",
              "neg_innovative        25.0\n",
              "neg_good_service     205.0\n",
              "neg_fulfillment       85.0\n",
              "neg_happy             59.0\n",
              "neg_proud             13.0\n",
              "neg_superb           121.0\n",
              "neg_trust            151.0\n",
              "pos_affordable       146.0\n",
              "pos_design            79.0\n",
              "pos_durable           94.0\n",
              "pos_luxury            71.0\n",
              "pos_easy              87.0\n",
              "pos_performance      480.0\n",
              "pos_innovative        56.0\n",
              "pos_good_service     204.0\n",
              "pos_fulfillment       33.0\n",
              "pos_happy            209.0\n",
              "pos_proud             15.0\n",
              "pos_superb           234.0\n",
              "pos_trust            109.0\n",
              "dtype: float64"
            ]
          },
          "metadata": {},
          "execution_count": 140
        }
      ],
      "source": [
        "# 해당 쿼터의 ABSA 값\n",
        "\n",
        "def ABSAbyQ(year,quarter,company,product): # 2021,4,company(lg또는ss),product(ref,wm,ac)\n",
        "  temp_df = absa_df[absa_df['company'] == company] # 특정 company만\n",
        "  temp_df = temp_df.drop('company',axis = 1)\n",
        "\n",
        "  temp_df = absa_df[absa_df['product'] == product] # 특정 product만\n",
        "  temp_df = temp_df[temp_df['quarter'] == (str(year)+ \"_\" +str(quarter) + \"Q\")]\n",
        "\n",
        "  # aspect 별 sentiment 값 연산\n",
        "  #positive/negative 컬럼df 만들기\n",
        "  neg_df = temp_df[temp_df['sent_pred']==0]\n",
        "  neg_df = neg_df[aspects]\n",
        "  neg_df.columns = neg_cols\n",
        "  neg_df\n",
        "\n",
        "\n",
        "\n",
        "  pos_df = temp_df[temp_df['sent_pred']==1]\n",
        "  pos_df = pos_df[aspects]\n",
        "  pos_df.columns = pos_cols\n",
        "  pos_df\n",
        "\n",
        "  temp_df = pd.concat([neg_df,pos_df],axis = 1) \n",
        "  return temp_df.sum() # nan 자동 무시 #\n",
        "\n",
        "ABSAbyQ(2021,4,'lg','ac')"
      ]
    }
  ],
  "metadata": {
    "colab": {
      "collapsed_sections": [],
      "name": "[LG_ABSA]_Functions_for ABSA",
      "toc_visible": true,
      "provenance": []
    },
    "kernelspec": {
      "display_name": "Python 3",
      "name": "python3"
    },
    "language_info": {
      "name": "python"
    }
  },
  "nbformat": 4,
  "nbformat_minor": 0
}