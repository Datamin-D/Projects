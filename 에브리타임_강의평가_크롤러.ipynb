{
  "nbformat": 4,
  "nbformat_minor": 5,
  "metadata": {
    "kernelspec": {
      "display_name": "Python 3",
      "language": "python",
      "name": "python3"
    },
    "language_info": {
      "codemirror_mode": {
        "name": "ipython",
        "version": 3
      },
      "file_extension": ".py",
      "mimetype": "text/x-python",
      "name": "python",
      "nbconvert_exporter": "python",
      "pygments_lexer": "ipython3",
      "version": "3.8.8"
    },
    "colab": {
      "name": "에브리타임 강의평가 크롤러",
      "provenance": [],
      "include_colab_link": true
    }
  },
  "cells": [
    {
      "cell_type": "markdown",
      "metadata": {
        "id": "view-in-github",
        "colab_type": "text"
      },
      "source": [
        "<a href=\"https://colab.research.google.com/github/Datamin-D/Projects/blob/main/%EC%97%90%EB%B8%8C%EB%A6%AC%ED%83%80%EC%9E%84_%EA%B0%95%EC%9D%98%ED%8F%89%EA%B0%80_%ED%81%AC%EB%A1%A4%EB%9F%AC.ipynb\" target=\"_parent\"><img src=\"https://colab.research.google.com/assets/colab-badge.svg\" alt=\"Open In Colab\"/></a>"
      ]
    },
    {
      "cell_type": "markdown",
      "metadata": {
        "id": "7967b1f2-70f1-42f9-8377-817c3d09a01a"
      },
      "source": [
        "# 에브리 타임 강의평가 크롤러"
      ],
      "id": "7967b1f2-70f1-42f9-8377-817c3d09a01a"
    },
    {
      "cell_type": "code",
      "metadata": {
        "id": "87cf1a7d-741a-405f-94e7-97573439b88d"
      },
      "source": [
        "import requests\n",
        "from urllib.request import urlopen, urlretrieve\n",
        "from bs4 import BeautifulSoup\n",
        "import time\n",
        "from random import randint\n",
        "import re\n",
        "import pandas as pd\n",
        "import pickle\n",
        "from tqdm import tqdm\n",
        "import os\n",
        "\n",
        "from random import *\n",
        "import random\n",
        "from selenium import webdriver\n",
        "from selenium.webdriver.common.by import By\n",
        "from selenium.common.exceptions import NoSuchElementException\n",
        "from selenium.common import exceptions\n",
        "from selenium.webdriver.support.ui import WebDriverWait\n",
        "from selenium.webdriver.support import expected_conditions as EC\n",
        "from selenium.common.exceptions import TimeoutException\n",
        "\n",
        "import numpy as np\n",
        "\n",
        "\n",
        "# driver = webdriver.Chrome(r\"C:\\Users\\MinSeong\\Desktop\\chrome driver\\chromedriver.exe\")\n",
        "# wait = WebDriverWait(driver, 5)\n",
        "# driver.get('https://everytime.kr/login')"
      ],
      "id": "87cf1a7d-741a-405f-94e7-97573439b88d",
      "execution_count": null,
      "outputs": []
    },
    {
      "cell_type": "markdown",
      "metadata": {
        "id": "c30a1524-2f44-4392-9843-1b48b0b590a4"
      },
      "source": [
        "# 1. 데이터 수집"
      ],
      "id": "c30a1524-2f44-4392-9843-1b48b0b590a4"
    },
    {
      "cell_type": "code",
      "metadata": {
        "id": "7a9ad049-6f33-4e79-9e9d-d248a84735a6"
      },
      "source": [
        "#1. 로그인 페이지\n",
        "\n",
        "driver = webdriver.Chrome(r\"C:\\Users\\MinSeong\\Desktop\\chrome driver\\chromedriver.exe\")\n",
        "wait = WebDriverWait(driver, 5)\n",
        "driver.get('https://everytime.kr/login')"
      ],
      "id": "7a9ad049-6f33-4e79-9e9d-d248a84735a6",
      "execution_count": null,
      "outputs": []
    },
    {
      "cell_type": "code",
      "metadata": {
        "id": "0f7c51ab-ff39-4e62-86c5-a49988961331"
      },
      "source": [
        "#2. 로그인\n",
        "\n",
        "etid = '아이디를 여기 입력해주세요'\n",
        "etpw = '패스워드를 여기 입력해주세요'\n",
        "\n",
        "elem = driver.find_element_by_css_selector(\"#container > form > p:nth-child(1) > input\")\n",
        "elem.send_keys(etid)\n",
        "\n",
        "elem = driver.find_element_by_css_selector(\"#container > form > p:nth-child(2) > input\")\n",
        "elem.send_keys(etpw)\n",
        "\n",
        "elem.send_keys(Keys.RETURN) #엔터키\n",
        "time.sleep(0.5)"
      ],
      "id": "0f7c51ab-ff39-4e62-86c5-a49988961331",
      "execution_count": null,
      "outputs": []
    },
    {
      "cell_type": "code",
      "metadata": {
        "id": "7821da5a-b7e5-494e-a284-ebe27a970c64"
      },
      "source": [
        "#3. 최근 20 강의평가\n",
        "lecurl = 'https://everytime.kr/lecture'\n",
        "driver.get(lecurl)"
      ],
      "id": "7821da5a-b7e5-494e-a284-ebe27a970c64",
      "execution_count": null,
      "outputs": []
    },
    {
      "cell_type": "code",
      "metadata": {
        "id": "16aa7c1d-3af3-4ce8-b84f-3dd388c9fbb3"
      },
      "source": [
        "#4. 강의평가 url 수집\n",
        "#스크롤 내리는 코드\n",
        "# 로그인 후 강의평가 게시판 클릭 완료한 상태에서 실행.\n",
        "from selenium.webdriver.common.keys import Keys\n",
        "from selenium.webdriver.common.action_chains import ActionChains\n",
        "for i in range(15):\n",
        "    ActionChains(driver).key_down(Keys.END).perform() # 스크롤 내리는 코드\n",
        "    time.sleep(random.random() + 0.2)"
      ],
      "id": "16aa7c1d-3af3-4ce8-b84f-3dd388c9fbb3",
      "execution_count": null,
      "outputs": []
    },
    {
      "cell_type": "code",
      "metadata": {
        "id": "91e9afb2-518a-4b2d-9414-db5d15fb38e3"
      },
      "source": [
        "#5. 강의 평가 url 수집\n",
        "\n",
        "# container\n",
        "container = driver.find_elements_by_css_selector('a.article')\n",
        "#container\n",
        "# 실험용\n",
        "#container = container[:3]\n",
        "urls = [] #최근강의200개 url을 담을 list\n",
        "for cont in container:\n",
        "    urls.append(cont.get_attribute('href')) #보시면 href에 해당 게시글의 link가 있습니다.\n",
        "urls # 정상수집 확인"
      ],
      "id": "91e9afb2-518a-4b2d-9414-db5d15fb38e3",
      "execution_count": null,
      "outputs": []
    },
    {
      "cell_type": "code",
      "metadata": {
        "id": "95171d2b-9570-4538-89b2-5a9bf09f0ae5",
        "outputId": "d21cff80-830c-4d47-bfe8-9604f5d0041a"
      },
      "source": [
        "'#container > div.side.head > p:nth-child(3) > span'"
      ],
      "id": "95171d2b-9570-4538-89b2-5a9bf09f0ae5",
      "execution_count": null,
      "outputs": [
        {
          "output_type": "execute_result",
          "data": {
            "text/html": [
              "<div>\n",
              "<style scoped>\n",
              "    .dataframe tbody tr th:only-of-type {\n",
              "        vertical-align: middle;\n",
              "    }\n",
              "\n",
              "    .dataframe tbody tr th {\n",
              "        vertical-align: top;\n",
              "    }\n",
              "\n",
              "    .dataframe thead th {\n",
              "        text-align: right;\n",
              "    }\n",
              "</style>\n",
              "<table border=\"1\" class=\"dataframe\">\n",
              "  <thead>\n",
              "    <tr style=\"text-align: right;\">\n",
              "      <th></th>\n",
              "      <th>lecture</th>\n",
              "      <th>star</th>\n",
              "      <th>content</th>\n",
              "    </tr>\n",
              "  </thead>\n",
              "  <tbody>\n",
              "  </tbody>\n",
              "</table>\n",
              "</div>"
            ],
            "text/plain": [
              "Empty DataFrame\n",
              "Columns: [lecture, star, content]\n",
              "Index: []"
            ]
          },
          "metadata": {
            "tags": []
          },
          "execution_count": 42
        }
      ]
    },
    {
      "cell_type": "code",
      "metadata": {
        "id": "b6d105e9-c471-4417-bbba-afb661ddbd8b"
      },
      "source": [
        "#6. 강의 평가 수집 - 과목 이름, 교수명, \n",
        "\n",
        "df = pd.DataFrame(data = [], columns = ['lecture','prof','star','contents'])\n",
        "for i in range(len(urls)-197):\n",
        "    driver.get(urls[i]) # 과목페이지 접근\n",
        "    time.sleep(random.random() + 0.5) \n",
        "    \n",
        "    lecture = np.nan\n",
        "    lecture = driver.find_element_by_css_selector('#container > div.side.head > h2').text\n",
        "    \n",
        "    prof = np.nan\n",
        "    prof = driver.find_element_by_css_selector('#container > div.side.head > p:nth-child(3) > span').text\n",
        "    #print(lecture, prof) 정상 작동\n",
        "    # 강의 평가들\n",
        "    rvs = driver.find_elements_by_css_selector('#container > div.side.article > div.articles > article')\n",
        "    empty_df = pd.DataFrame(data = [], columns = ['lecture','prof','star','contents'])\n",
        "    for rv_no,rv in enumerate(rvs):\n",
        "        star = np.nan\n",
        "        star = rv.find_element_by_css_selector('p.rate > span > span').get_attribute('style')\n",
        "        \n",
        "        content = np.nan\n",
        "        content = rv.find_element_by_css_selector('p.text').text\n",
        "        empty_df.loc[rv_no] = lecture,prof,star,content # 작동 확인\n",
        "        df = df.append(empty_df)\n",
        "        df.reset_index(drop = True, inplace = True)"
      ],
      "id": "b6d105e9-c471-4417-bbba-afb661ddbd8b",
      "execution_count": null,
      "outputs": []
    },
    {
      "cell_type": "markdown",
      "metadata": {
        "id": "ae70163a-41c3-4771-a0c0-f4699094723e"
      },
      "source": [
        "# 2. 전처리"
      ],
      "id": "ae70163a-41c3-4771-a0c0-f4699094723e"
    },
    {
      "cell_type": "code",
      "metadata": {
        "id": "feecb23f-81c6-4667-a12c-285a882fc405"
      },
      "source": [
        "# 7. 전처리\n",
        "df = df.drop_duplicates()\n",
        "df.reset_index(drop = True, inplace = True)"
      ],
      "id": "feecb23f-81c6-4667-a12c-285a882fc405",
      "execution_count": null,
      "outputs": []
    },
    {
      "cell_type": "code",
      "metadata": {
        "id": "c81ddc09-2a0e-4e6a-8d84-09e35033e9a1",
        "outputId": "a0b2cf6f-6d4a-4adf-f4fd-932eade9325f"
      },
      "source": [
        "#별점 전처리\n",
        "df['star'].unique()"
      ],
      "id": "c81ddc09-2a0e-4e6a-8d84-09e35033e9a1",
      "execution_count": null,
      "outputs": [
        {
          "output_type": "execute_result",
          "data": {
            "text/plain": [
              "array(['width: 100%;', 'width: 40%;', 'width: 60%;', 'width: 80%;',\n",
              "       'width: 20%;'], dtype=object)"
            ]
          },
          "metadata": {
            "tags": []
          },
          "execution_count": 110
        }
      ]
    },
    {
      "cell_type": "code",
      "metadata": {
        "id": "aba494b9-8ef7-4346-89b0-9c76f9d8d509"
      },
      "source": [
        "def extractor(x):\n",
        "    p = re.compile('([0-9])*\\%')\n",
        "    s = p.search(x)\n",
        "    star = s.group()\n",
        "    return star\n",
        "\n",
        "df['star'] = df['star'].apply(lambda x: extractor(x))\n",
        "df['star'].unique()"
      ],
      "id": "aba494b9-8ef7-4346-89b0-9c76f9d8d509",
      "execution_count": null,
      "outputs": []
    },
    {
      "cell_type": "code",
      "metadata": {
        "id": "3736b183-1b17-480e-8a15-efa878857742"
      },
      "source": [
        "\n",
        "def star_changer(x):\n",
        "    if x == '100%':\n",
        "        star = 5\n",
        "    elif x == '80%':\n",
        "        star = 4\n",
        "    elif x == '60%':\n",
        "        star = 3\n",
        "    elif x == '40%':\n",
        "        star = 2\n",
        "    elif x == '20%':\n",
        "        star = 1\n",
        "    return star\n",
        "df['star'] = df['star'].apply(lambda x: star_changer(x))"
      ],
      "id": "3736b183-1b17-480e-8a15-efa878857742",
      "execution_count": null,
      "outputs": []
    },
    {
      "cell_type": "code",
      "metadata": {
        "id": "aa3bdf5b-11a2-4166-84b2-1570288252e7",
        "outputId": "230dd854-4c3b-48be-a813-5c92cb2a3a63"
      },
      "source": [
        "df['star'].value_counts() # star 분포확인\n",
        "#df"
      ],
      "id": "aa3bdf5b-11a2-4166-84b2-1570288252e7",
      "execution_count": null,
      "outputs": [
        {
          "output_type": "execute_result",
          "data": {
            "text/plain": [
              "5    363\n",
              "4     70\n",
              "3     21\n",
              "2      4\n",
              "1      2\n",
              "Name: star, dtype: int64"
            ]
          },
          "metadata": {
            "tags": []
          },
          "execution_count": 116
        }
      ]
    },
    {
      "cell_type": "code",
      "metadata": {
        "id": "b5f9a460-33ef-4400-8c4c-9edeb957faf3"
      },
      "source": [
        ""
      ],
      "id": "b5f9a460-33ef-4400-8c4c-9edeb957faf3",
      "execution_count": null,
      "outputs": []
    }
  ]
}