{
 "cells": [
  {
   "cell_type": "code",
   "execution_count": 1,
   "id": "7836fa4f-e428-4254-b489-df5d66cd09fc",
   "metadata": {},
   "outputs": [],
   "source": [
    "# 셀레니움\n",
    "import requests\n",
    "from urllib.request import urlopen, urlretrieve\n",
    "from bs4 import BeautifulSoup\n",
    "import time\n",
    "from random import randint\n",
    "import re\n",
    "import pandas as pd\n",
    "import pickle\n",
    "from tqdm import tqdm\n",
    "\n",
    "from random import *\n",
    "import random\n",
    "from selenium import webdriver\n",
    "from selenium.webdriver.common.by import By\n",
    "from selenium.common.exceptions import NoSuchElementException\n",
    "from selenium.common import exceptions\n",
    "from selenium.webdriver.support.ui import WebDriverWait\n",
    "from selenium.webdriver.support import expected_conditions as EC\n",
    "from selenium.common.exceptions import TimeoutException"
   ]
  },
  {
   "cell_type": "code",
   "execution_count": 2,
   "id": "82460b83-17d6-47f7-9fa7-65c4f7daf1df",
   "metadata": {},
   "outputs": [],
   "source": [
    "# 크롬으로\n",
    "url = \"https://blog.naver.com/alswl09100/222539918468\"\n",
    "driver = webdriver.Chrome(executable_path=r'C:\\Users\\MinSeong\\Desktop\\chrome driver\\chromedriver.exe')\n",
    "driver.get(url)"
   ]
  },
  {
   "cell_type": "code",
   "execution_count": 3,
   "id": "ce1d4743-2f71-486e-a0c5-a038979feeb7",
   "metadata": {},
   "outputs": [
    {
     "name": "stdout",
     "output_type": "stream",
     "text": [
      "제목:  듄 (2021)\n",
      "감독:\n",
      "Denis Villeneuve\n",
      "배우:\n",
      "Timothée Chalamet\n",
      "Rebecca Ferguson\n",
      "Zendaya\n",
      "Oscar Isaac\n",
      "==================================================\n",
      "제목:  더 프렌치 디스패치 (2021)\n",
      "감독:\n",
      "Wes Anderson\n",
      "배우:\n",
      "Benicio Del Toro\n",
      "Adrien Brody\n",
      "Tilda Swinton\n",
      "Léa Seydoux\n",
      "==================================================\n",
      "제목:  고장난 론 (2021)\n",
      "감독:\n",
      "Sarah Smith\n",
      "Jean-Philippe Vine\n",
      "Octavio E. Rodriguez\n",
      "배우:\n",
      "Jack Dylan Grazer\n",
      "Zach Galifianakis\n",
      "Ed Helms\n",
      "Olivia Colman\n",
      "==================================================\n",
      "제목:  Broadcast Signal Intrusion (2021)\n",
      "감독:\n",
      "Jacob Gentry\n",
      "배우:\n",
      "Harry Shum Jr.\n",
      "Kelley Mack\n",
      "Chris Sullivan\n",
      "Anthony E. Cabral\n",
      "==================================================\n",
      "제목:  Warning (2021)\n",
      "감독:\n",
      "Agata Alexander\n",
      "배우:\n",
      "Thomas Jane\n",
      "Tomasz Kot\n",
      "Toni Garrn\n",
      "Rupert Everett\n",
      "==================================================\n",
      "제목:  Feng bao (2021)\n",
      "감독:\n",
      "Li Jun\n",
      "배우:\n",
      "Yilong Zhu\n",
      "Zhi-zhong Huang\n",
      "Shu Chen\n",
      "Junyan Jiao\n",
      "==================================================\n"
     ]
    }
   ],
   "source": [
    "# 뷰숲\n",
    "import requests\n",
    "from bs4 import BeautifulSoup\n",
    "\n",
    "# IMDb 홈페이지에 데이터 요청하기\n",
    "raw = requests.get(\"https://www.imdb.com/movies-in-theaters/?ref_=nv_mv_inth\",\n",
    "                   headers={\"User-Agent\": \"Mozilla/5.0\"})\n",
    "html = BeautifulSoup(raw.text, 'html.parser')\n",
    "\n",
    "# 컨테이너 수집하기\n",
    "movies = html.select(\"td.overview-top \")\n",
    "\n",
    "# 컨테이너를 반복하며 상세데이터(제목, 감독, 배우) 수집하기\n",
    "for m in movies:\n",
    "    title = m.select_one(\"h4 > a\").text\n",
    "\n",
    "    # 감독과 배우가 모두 div.txt-block으로 선택되는 태그에 저장되어 있으므로\n",
    "    # 리스트를 저장하여 첫번째: 감독/ 두번째: 배우를 구분합니다.\n",
    "    info = m.select(\"div.txt-block\")\n",
    "    director = info[0].select(\"a\")\n",
    "    actor = info[1].select(\"a\")\n",
    "    \n",
    "    print(\"제목:\", title)\n",
    "    # print(score)\n",
    "\n",
    "    print(\"감독:\")\n",
    "    for d in director:\n",
    "        print(d.text)\n",
    "\n",
    "    print(\"배우:\")\n",
    "    for a in actor:\n",
    "        print(a.text)\n",
    "\n",
    "    print(\"=\" * 50)"
   ]
  },
  {
   "cell_type": "markdown",
   "id": "a038e6fa-806d-42fa-ad40-f39aee0075cd",
   "metadata": {},
   "source": [
    "# 우클릭 안되는 블로그 웹크롤링"
   ]
  },
  {
   "cell_type": "markdown",
   "id": "f5ea7cb1-609e-41b1-80a2-ada9dd74928c",
   "metadata": {},
   "source": [
    "f12 누르고 > 톱니봐퀴> disable javascript하면 우클릭/ 드래그 가능"
   ]
  },
  {
   "cell_type": "code",
   "execution_count": 4,
   "id": "228177fa-b912-4ae0-9266-e13bebb459c2",
   "metadata": {},
   "outputs": [],
   "source": [
    "# 크롬으로\n",
    "# url = \"https://blog.naver.com/alswl09100/222539918468\"\n",
    "url = \"https://lifereporter.tistory.com/92\"\n",
    "driver = webdriver.Chrome(executable_path=r'C:\\Users\\MinSeong\\Desktop\\chrome driver\\chromedriver.exe')\n",
    "driver.get(url)"
   ]
  },
  {
   "cell_type": "code",
   "execution_count": 10,
   "id": "ccfdade7-fade-4d19-8ef1-15d9ddb0978c",
   "metadata": {},
   "outputs": [
    {
     "name": "stdout",
     "output_type": "stream",
     "text": [
      "모든 창작물에는 저작권이 있는데 영상 말고도 신문기사, 소설 등 텍스트에도 저작권이 있기 때문에 출처를 남기거나 공익을 위한 사용으로 공정이용의 범위를 벗어나지 않는 것이 좋습니다. 블로그의 글을 복사해서 똑같이 사용하면 큰일이 난다는 경각심으로 이야기를 시작했고요. 글을 지키는 방법 그리고 반대로 우클릭 해제로  복사하는 두 가지 모두 알려드리도록 하겠습니다.\n",
      "나의 블로그 글 함부로 복사하지 못하도록 우클릭을 방지해보자.\n",
      "자신의 블로그 프로필 화면에 나오는 관리창으로 들어갑시다. 시작부터 못 찾는 분들은 없겠지요.\n",
      "블로그의 [기본설정] 화면이 나오고 왼쪽 중간에 [사생활보호] 아래 카테고리에 [콘텐츠 공유 설정]을 클릭하면 나오는 화면에서 [마우스 오른쪽 버튼금지 설정]을 사용으로 체크하고 아래에 확인 버튼을 누르면 끝납니다.\n",
      "적용이 되었는지 확인하기 위해서 바로 내 블로그에 가서 확인해보면 글이 드래그되는 점을 확인할 수 있는데 그건 자기 블로그이기 때문에 그렇습니다. 제대로 적용이 되었는지 아닌지는 로그아웃 후에 찾아들어가서 확인하시길 바랍니다.\n",
      "어떤 경우라도 꼭 출처를 남기든 똑같이 사용한다면 큰일이 날 수 있으니 명심하길 바랍니다. 크롬에서 블로그 글복사를 위해서 우클릭을 해제해본다면 자신이 필요로 하는 화면에서 F12를 누른다.\n",
      "인터넷 화면창 오른쪽에 개발자 모드로 어려워 보이는 영어들로 가득한 화면이 나옵니다. 거기에서도 톱니바퀴 모양을 누르면 아래의 화면으로 이동합니다.\n",
      "[톱니 모양이 아니라면 오른쪽 위에 점세개(더보기)가 있다면 눌러서 Settings를 클릭하면 아래와 같은 화면이 나온다.]\n",
      "컴퓨터 전문가가 아니기 때문에 그리고 이 글을 보시는 분들도 잘 모르는 분들이라는 가정하에 자세한 설명은 못 드리지만 정말 그림에 있는 그대로 따라 하시면 됩니다.\n",
      "그리고 둘 중에 disable javascript 체크란에 체크 후 자기가 띄어놓은 블로그 창에 마우스를 가져다 대면 드래그가 가능합니다. 그리고 우클릭 복사를 하면 글복사가 가능합니다.\n",
      "주의할 점은? F12를 눌러서 띄어놓은 창을 닫으면 블로그 글복사가 불가능해집니다. 이렇게 네이버 블로그 우클릭 방지하는 방법 그리고 반대로 우클릭방지를 해제하는 두 가지 방법을 알아보았습니다.\n"
     ]
    }
   ],
   "source": [
    "# 완료\n",
    "sents = driver.find_elements_by_css_selector(\"#content > div.inner > div.entry-content > div > p > span\")\n",
    "for sent in sents:\n",
    "    print(sent.text)"
   ]
  },
  {
   "cell_type": "markdown",
   "id": "0809e95a-bcb3-496f-9eb5-0b9f0293debe",
   "metadata": {},
   "source": [
    "# 네이버 블로그 웹크롤링 - 틀린 예 "
   ]
  },
  {
   "cell_type": "code",
   "execution_count": 14,
   "id": "d9beb157-6ddb-4de6-b621-f7fffb736d03",
   "metadata": {},
   "outputs": [],
   "source": [
    "\n",
    "url = \"https://blog.naver.com/alswl09100/222539918468\"\n",
    "driver = webdriver.Chrome(executable_path=r'C:\\Users\\MinSeong\\Desktop\\chrome driver\\chromedriver.exe')\n",
    "driver.get(url)\n",
    "\n",
    "\n",
    "sents = driver.find_elements_by_css_selector(\"div > div p > span\")\n",
    "sents"
   ]
  },
  {
   "cell_type": "markdown",
   "id": "fa619659-db7f-4556-8dc9-61694e88c366",
   "metadata": {},
   "source": [
    "# 네이버 블로그 웹크롤링 - 맞는 예 "
   ]
  },
  {
   "cell_type": "markdown",
   "id": "495d9ff2-946e-425e-a195-1912b42ec906",
   "metadata": {},
   "source": [
    "iframe안에 있는 링크를 가져와서\n",
    "\n",
    "https://blog.naver.com 뒤에 붙이면 됨."
   ]
  },
  {
   "cell_type": "code",
   "execution_count": 22,
   "id": "ece9b652-bf20-4161-a356-f57eaa9268b6",
   "metadata": {},
   "outputs": [
    {
     "name": "stdout",
     "output_type": "stream",
     "text": [
      "\n",
      "비트코인 ETF 승인으로 인한 비트코인 전망\n",
      "\n",
      "안녕하세요. 재테크하는제인입니다.\n",
      "어제 굉장한 뉴스가 있었네요.\n",
      "\n",
      "바로 미국 증권거래위원회인 SEC가 비트코인 ETF를 잠정적으로 승인했다는 소식이었습니다.\n",
      "\n",
      "세상에...\n",
      "1억을 간다고 불나방처럼 뛰어들던 개미들을 망연자실하게 만들고 중국의 채굴중지 등 다양한 악재를 이겨내고 이런 호재가 생겼네요.\n",
      "\n",
      "그렇다면 앞으로 비트코인 전망이 어떻게 될지, 또 이번에 승인된 ETF는 어떤 정보를 가지고 있는지 제인이 한번 정리해봤으니 우리 잇님들도 한번 살펴주시기를 바랍니다!!\n",
      "\n",
      "\n",
      "저는 사실 안될것이라고 생각했는데..그 이유가 실물자산으로 인정되지 않을 것이라는 생각이었습니다.\n",
      "금과 같은 현물자산이 없기 때문에 추종할 수 있는 자산이 없다고 생각했기 때문이지요.\n",
      "\n",
      "그런데 이와 같은 예상이 보기 좋게 빗나갔네요.\n",
      "\n",
      "비트코인 ETF는 잠정적으로 승인이 되었고 10월 18일 월요일부터 거래가 될 예정이라고 합니다.\n",
      "이러한 호재로 인해 가격이 무려 7500만원을 돌파하면서 또 한번 대단한 변동성을 보여줬습니다.\n",
      " \n",
      "\n",
      "이미 비트코인 ETF가 승인되지 않을까라는 기대감에 10월초부터 상승곡선을 타고 있었는데 10월초 5,200만원대에서 무려 2,200만원이 상승된 현재 7,456만원에 거래가 되고 있습니다.\n",
      "\n",
      "이미 최고가는 7,523만원으로 하락장에서 손실된 것이 거의 회복된 것 같네요.\n",
      "\n",
      "그렇다면 이번 ETF 승인으로 비트코인 전망이 다시 핑크빛이 된 걸까요?\n",
      "상세하게 내용을 살펴보도록 하겠습니다.\n",
      "\n",
      "\n",
      "자, 이번에 승인된 상품은 코인데스크 자산관리업체인 프로쉐어의 상품입니다.\n",
      "앞서 말씀드렸던 것 처럼 10월 18일부터 거래가 시작되고 있는데 문제는 그 뒤에 인베스코, 반에크, 발키리 등 굵직한 업체들이 이미 줄줄이 심사 대기중이기 때문입니다.\n",
      "\n",
      "심사일정도 10월 19일, 25일 등 상당히 촉박한 것으로 보입니다.\n",
      "\n",
      "이미 SEC에서 승인 절차를 거쳤는데 나머지 상품도 함께 거래가 가능해지지 않을까라는 기대가 되어지는 것도 이러한 맥락에서 보시면 될 것 같습니다.\n",
      "\n",
      "\n",
      "그렇다면 비트코인 ETF는 어떤 상품일까요?\n",
      "\n",
      "발표된 것에 따르면 프로쉐어는 관리 수수료 0.95%가 부과될 전망이며 미국거래소에서 거래가 가능하다고 합니다.\n",
      "다만, 주의하셔야 할 점은 현물이 아닌 선물 거래로 승인되었기 때문에 초기 투자 자본금이 작을 순 있지만 롤오버에 따른 이익 또는 비용 누적으로 인한 손실 가능성도 있음을 유념하셔야 합니다.\n",
      "\n",
      "잠시 현물과 선물의 차이점을 말씀드리자면 현물의 경우 투자금을 전부 투자해야 하며 실제 현물을 기반으로 하기 때문에 가격 변동이 ETF 영향을 줍니다.\n",
      "\n",
      "선물의 경우 장래 일정 시점에 미리 정한 가격으로 매매할 것을 현재 시점에서 약정하는 거래로 미래의 가치를 사고 파는 것입니다. 그래서 가격변동에 의해 파생적으로 결정되는 파생상품이며 내가 미리 예측한 가격으로 매매를 하기 때문에 가격 변동 위험의 회피가 가능하다는 특징이 있습니다.  \n",
      "선물시장에서는 매수차익거래잔고를 차근월물로 자동이월하는 롤오버가 있는데 이에 따른 이익이 발생하거나 비용 누적으로 인한 손실의 가능성이 있다는 점이 특징입니다.\n",
      "\n",
      "인베스코의 경우 롤오버 위험을 줄이기 위해 비트코인 관련 자산에 투자하는 방법도 검토중이라고 합니다.\n",
      "\n",
      "\n",
      "이러한 비트코인 ETF 출시로 이해 비트코인 전망은 한층 밝아진 것으로 보입니다.\n",
      "이미 SEC의 승인으로 인해 정당성이 입증이 되었고 전문가들은 선물 ETF에는 기관 투자자들이 더 적합하다고 하면서 이에 대한 투자 상승이 일어날 것이라고 예측하고 있습니다. \n",
      "또한 그러면서 가격 상승도 함께 예상하면서 공식적 자산 인정은 아니지만 대체적인 낙관론이 예상되고 있습니다.\n",
      "\n",
      "하지만 현물자산이 아닌점, 언제든지 해킹의 위험이 있다는 점, 변동성이 심하기 때문에 손실을 볼 수 있는 점 등을 들어 투자에는 유의하셔야 하겠습니다.\n",
      "\n",
      "이더리움도 ETF 출시를 검토중이라고 하니 가지고 있는 저는 마음이 조금 설레네요.\n",
      "\n",
      "앞으로의 미래화폐가 될 수 있을지 정말 지켜봐야 할 것 같습니다.\n",
      "\n",
      "\n",
      "\n",
      "이 글이 도움이 되셨다면 \n",
      "팬하기 \n",
      "부탁드립니다.\n",
      "함께 읽으면 도움되는 글\n",
      "\n",
      "\n",
      "뮤지컬에 미쳐있던 소비여왕에서  짠테크, 부업도전으로 고군분투하며 재태크 고수를 꿈꿉니다. \n",
      " \n",
      "협업 문의 alswl09100@naver.com 여기로!!\n",
      "프로필\n",
      "^\n",
      "\n",
      "\n",
      "14,419\n",
      "\n",
      "21,646,012\n"
     ]
    }
   ],
   "source": [
    "# 맞는 예\n",
    "url = \"https://blog.naver.com/PostView.naver?blogId=alswl09100&logNo=222539918468&redirect=Dlog&widgetTypeCall=true&directAccess=false\"\n",
    "driver = webdriver.Chrome(executable_path=r'C:\\Users\\MinSeong\\Desktop\\chrome driver\\chromedriver.exe')\n",
    "driver.get(url)\n",
    "\n",
    "\n",
    "sents = driver.find_elements_by_css_selector(\"div > div p > span\")\n",
    "sents[0]\n",
    "# 성공\n",
    "for sent in sents:\n",
    "    print(sent.text)"
   ]
  }
 ],
 "metadata": {
  "kernelspec": {
   "display_name": "Python 3",
   "language": "python",
   "name": "python3"
  },
  "language_info": {
   "codemirror_mode": {
    "name": "ipython",
    "version": 3
   },
   "file_extension": ".py",
   "mimetype": "text/x-python",
   "name": "python",
   "nbconvert_exporter": "python",
   "pygments_lexer": "ipython3",
   "version": "3.8.8"
  }
 },
 "nbformat": 4,
 "nbformat_minor": 5
}
