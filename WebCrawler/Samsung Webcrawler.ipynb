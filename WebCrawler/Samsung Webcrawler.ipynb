{
 "cells": [
  {
   "cell_type": "code",
   "execution_count": 337,
   "id": "d82a3c7a-bf7b-4142-8269-8a863c610004",
   "metadata": {},
   "outputs": [
    {
     "name": "stdout",
     "output_type": "stream",
     "text": [
      "Requirement already satisfied: selenium in c:\\users\\ywy\\.conda\\envs\\tf2py38\\lib\\site-packages (4.1.0)\n",
      "Requirement already satisfied: urllib3[secure]~=1.26 in c:\\users\\ywy\\.conda\\envs\\tf2py38\\lib\\site-packages (from selenium) (1.26.6)\n",
      "Requirement already satisfied: trio-websocket~=0.9 in c:\\users\\ywy\\.conda\\envs\\tf2py38\\lib\\site-packages (from selenium) (0.9.2)\n",
      "Requirement already satisfied: trio~=0.17 in c:\\users\\ywy\\.conda\\envs\\tf2py38\\lib\\site-packages (from selenium) (0.19.0)\n",
      "Requirement already satisfied: sortedcontainers in c:\\users\\ywy\\.conda\\envs\\tf2py38\\lib\\site-packages (from trio~=0.17->selenium) (2.4.0)\n",
      "Requirement already satisfied: sniffio in c:\\users\\ywy\\.conda\\envs\\tf2py38\\lib\\site-packages (from trio~=0.17->selenium) (1.2.0)\n",
      "Requirement already satisfied: async-generator>=1.9 in c:\\users\\ywy\\.conda\\envs\\tf2py38\\lib\\site-packages (from trio~=0.17->selenium) (1.10)\n",
      "Requirement already satisfied: attrs>=19.2.0 in c:\\users\\ywy\\.conda\\envs\\tf2py38\\lib\\site-packages (from trio~=0.17->selenium) (21.2.0)\n",
      "Requirement already satisfied: idna in c:\\users\\ywy\\.conda\\envs\\tf2py38\\lib\\site-packages (from trio~=0.17->selenium) (3.2)\n",
      "Requirement already satisfied: outcome in c:\\users\\ywy\\.conda\\envs\\tf2py38\\lib\\site-packages (from trio~=0.17->selenium) (1.1.0)\n",
      "Requirement already satisfied: cffi>=1.14 in c:\\users\\ywy\\.conda\\envs\\tf2py38\\lib\\site-packages (from trio~=0.17->selenium) (1.14.6)\n",
      "Requirement already satisfied: pycparser in c:\\users\\ywy\\.conda\\envs\\tf2py38\\lib\\site-packages (from cffi>=1.14->trio~=0.17->selenium) (2.20)\n",
      "Requirement already satisfied: wsproto>=0.14 in c:\\users\\ywy\\.conda\\envs\\tf2py38\\lib\\site-packages (from trio-websocket~=0.9->selenium) (1.0.0)\n",
      "Requirement already satisfied: pyOpenSSL>=0.14 in c:\\users\\ywy\\.conda\\envs\\tf2py38\\lib\\site-packages (from urllib3[secure]~=1.26->selenium) (21.0.0)\n",
      "Requirement already satisfied: certifi in c:\\users\\ywy\\.conda\\envs\\tf2py38\\lib\\site-packages (from urllib3[secure]~=1.26->selenium) (2021.5.30)\n",
      "Requirement already satisfied: cryptography>=1.3.4 in c:\\users\\ywy\\.conda\\envs\\tf2py38\\lib\\site-packages (from urllib3[secure]~=1.26->selenium) (36.0.1)\n",
      "Requirement already satisfied: six>=1.5.2 in c:\\users\\ywy\\.conda\\envs\\tf2py38\\lib\\site-packages (from pyOpenSSL>=0.14->urllib3[secure]~=1.26->selenium) (1.16.0)\n",
      "Requirement already satisfied: h11<1,>=0.9.0 in c:\\users\\ywy\\.conda\\envs\\tf2py38\\lib\\site-packages (from wsproto>=0.14->trio-websocket~=0.9->selenium) (0.12.0)\n"
     ]
    },
    {
     "name": "stderr",
     "output_type": "stream",
     "text": [
      "<ipython-input-337-81b937798f91>:29: DeprecationWarning: executable_path has been deprecated, please pass in a Service object\n",
      "  wd = webdriver.Chrome(r\"C:\\Users\\ywy\\Desktop\\chromedriver\\chromedriver.exe\")\n"
     ]
    }
   ],
   "source": [
    "!pip install selenium\n",
    "\n",
    "import requests\n",
    "from urllib.request import urlopen, urlretrieve\n",
    "from bs4 import BeautifulSoup\n",
    "import time\n",
    "from random import randint\n",
    "import re\n",
    "import pandas as pd\n",
    "import pickle\n",
    "from tqdm import tqdm\n",
    "import os\n",
    "\n",
    "from random import *\n",
    "import random\n",
    "from selenium import webdriver\n",
    "from selenium.webdriver.common.by import By\n",
    "from selenium.common.exceptions import NoSuchElementException\n",
    "from selenium.common import exceptions\n",
    "from selenium.webdriver.support.ui import WebDriverWait\n",
    "from selenium.webdriver.support import expected_conditions as EC\n",
    "from selenium.common.exceptions import TimeoutException\n",
    "\n",
    "import numpy as np\n",
    "\n",
    "import winsound as sd\n",
    "\n",
    "\n",
    "wd = webdriver.Chrome(r\"C:\\Users\\ywy\\Desktop\\chromedriver\\chromedriver.exe\")\n",
    "wait = WebDriverWait(wd, 5)"
   ]
  },
  {
   "cell_type": "markdown",
   "id": "87e11ad1-2f6a-453d-8e2b-1ed3a30cbbe8",
   "metadata": {},
   "source": [
    "# ==반복=="
   ]
  },
  {
   "cell_type": "markdown",
   "id": "4bcadd85-36b6-4f22-be3e-5428a1bca762",
   "metadata": {},
   "source": [
    "## 수집할 페이지 설정"
   ]
  },
  {
   "cell_type": "code",
   "execution_count": 326,
   "id": "caee499b-1907-475a-a61d-2fbce263e740",
   "metadata": {},
   "outputs": [],
   "source": [
    "# 수집할 URL list\n",
    "url_lists = []"
   ]
  },
  {
   "cell_type": "code",
   "execution_count": 338,
   "id": "b50df646-7d3d-4bbd-a99a-6632947a2139",
   "metadata": {},
   "outputs": [],
   "source": [
    "# selenium 으로 url 크롤링\n",
    "# address: 수집할 url들의 주소\n",
    "# page_num: view_more 버튼 클릭을 반복할 횟수\n",
    "\n",
    "\n",
    "# nation = \"in\"\n",
    "# fridge\n",
    "# address = \"https://www.samsung.com/\"+nation+\"/refrigerators/all-refrigerators/\"\n",
    "\n",
    "#WM\n",
    "# address = \"https://www.samsung.com/\"+nation+\"/refrigerators/all-refrigerators/\"\n",
    "\n",
    "#자유\n",
    "address = \"https://www.samsung.com/us/home-appliances/refrigerators/bespoke/?type=BESPOKE,4-Door+Flex%E2%84%A2,3+door+French+Door,Side-by-Side,Top+Freezer,Specialty+and+Kimchi,Bottom+Freezer\"\n",
    "wd.get(address)\n",
    "time.sleep(1)\n"
   ]
  },
  {
   "cell_type": "markdown",
   "id": "b71f7fbc-d927-46f4-b7ba-7bc01ef81556",
   "metadata": {},
   "source": [
    "## 페이지 넘어가며 URL 수집"
   ]
  },
  {
   "cell_type": "code",
   "execution_count": 327,
   "id": "1183b378-3fc3-4e8c-b4f3-1cad0a58e407",
   "metadata": {},
   "outputs": [],
   "source": [
    "page_num = 20 # 사이트 따라 알아서 설정\n",
    "for i in range(page_num):\n",
    "    button_tag = \"#content > div > div > div.responsivegrid.aem-GridColumn.aem-GridColumn--default--12 > div > div.pd-g-product-finder.aem-GridColumn.aem-GridColumn--default--12 > div > div > div.pf-finder-v2__inner > div.pf-finder-v2__content > div.pf-finder-v2__content-cta.js-pf-cta-area > a\"\n",
    "    button = wd.find_element_by_css_selector(button_tag)\n",
    "    \n",
    "    wd.execute_script(\"arguments[0].click();\", button)\n",
    "    \n",
    "    "
   ]
  },
  {
   "cell_type": "markdown",
   "id": "1473049d-e817-4288-90d9-6f58906316d1",
   "metadata": {},
   "source": [
    "## 태그 인식"
   ]
  },
  {
   "cell_type": "code",
   "execution_count": 339,
   "id": "c3c7b9fb-58f0-4ed2-88a5-2a40b56cc7de",
   "metadata": {},
   "outputs": [
    {
     "name": "stderr",
     "output_type": "stream",
     "text": [
      "<ipython-input-339-65b1807ba8b6>:6: DeprecationWarning: find_elements_by_* commands are deprecated. Please use find_elements() instead\n",
      "  tags = wd.find_elements_by_css_selector(url_tag)\n"
     ]
    }
   ],
   "source": [
    "# 다른 모든 영어권 나라들\n",
    "# url_tag = \"div.product-card-v2__name > a\"\n",
    "\n",
    "#us 전용\n",
    "url_tag = \"div > div > div > div > div > section > div.ProductCard-cardBody-2280885955.ProductCard-cardBody_new-1792628011 > section > a\"\n",
    "tags = wd.find_elements_by_css_selector(url_tag)"
   ]
  },
  {
   "cell_type": "code",
   "execution_count": 329,
   "id": "27c686af-6493-471b-b4f2-be94872cf958",
   "metadata": {},
   "outputs": [
    {
     "data": {
      "text/plain": [
       "'https://www.samsung.com/us/shop/labor-day-package/details/super-speed-washer-steam-sanitize-dryer-and-jet-bot-robot-vacuum-package/#benefits'"
      ]
     },
     "execution_count": 329,
     "metadata": {},
     "output_type": "execute_result"
    }
   ],
   "source": [
    "# tags[0].get_attribute(\"href\")"
   ]
  },
  {
   "cell_type": "code",
   "execution_count": 340,
   "id": "2e98d0dc-dc85-4dab-b770-663fcf7cc159",
   "metadata": {},
   "outputs": [],
   "source": [
    "# 한 page에서 url 수집\n",
    "for tag in tags:\n",
    "    url_lists.append(tag.get_attribute(\"href\"))"
   ]
  },
  {
   "cell_type": "code",
   "execution_count": 341,
   "id": "d4cc7ab4-cb77-4144-80c3-483bf815d745",
   "metadata": {},
   "outputs": [
    {
     "data": {
      "text/plain": [
       "239"
      ]
     },
     "execution_count": 341,
     "metadata": {},
     "output_type": "execute_result"
    }
   ],
   "source": [
    "len(url_lists)"
   ]
  },
  {
   "cell_type": "markdown",
   "id": "7c9d216e-f46a-44f7-a784-7daea49ddb4b",
   "metadata": {},
   "source": [
    "## 아닌 URL 빼기 --> 굳이 해야되나"
   ]
  },
  {
   "cell_type": "code",
   "execution_count": 293,
   "id": "f6eb93e9-f0fb-4c43-9781-42f6c84d7609",
   "metadata": {},
   "outputs": [],
   "source": [
    "# drop_url = \"https://www.samsung.com/uk/refrigerators/bespoke-panels/rb7300-bespoke-pairing-kit-344l-black-ra-c00k3baa/\"\n",
    "# url_lists.remove(drop_url)\n",
    "# len(url_lists)"
   ]
  },
  {
   "cell_type": "markdown",
   "id": "1d06d533-6c32-47e8-a2d3-85564c547c28",
   "metadata": {},
   "source": [
    "# ==반복=="
   ]
  },
  {
   "cell_type": "code",
   "execution_count": 342,
   "id": "675d69df-8db1-45ec-b72f-da524f50b272",
   "metadata": {},
   "outputs": [
    {
     "data": {
      "text/html": [
       "<div>\n",
       "<style scoped>\n",
       "    .dataframe tbody tr th:only-of-type {\n",
       "        vertical-align: middle;\n",
       "    }\n",
       "\n",
       "    .dataframe tbody tr th {\n",
       "        vertical-align: top;\n",
       "    }\n",
       "\n",
       "    .dataframe thead th {\n",
       "        text-align: right;\n",
       "    }\n",
       "</style>\n",
       "<table border=\"1\" class=\"dataframe\">\n",
       "  <thead>\n",
       "    <tr style=\"text-align: right;\">\n",
       "      <th></th>\n",
       "      <th>0</th>\n",
       "    </tr>\n",
       "  </thead>\n",
       "  <tbody>\n",
       "    <tr>\n",
       "      <th>0</th>\n",
       "      <td>https://www.samsung.com/us/shop/labor-day-pack...</td>\n",
       "    </tr>\n",
       "    <tr>\n",
       "      <th>1</th>\n",
       "      <td>https://www.samsung.com/us/home-appliances/was...</td>\n",
       "    </tr>\n",
       "    <tr>\n",
       "      <th>2</th>\n",
       "      <td>https://www.samsung.com/us/home-appliances/was...</td>\n",
       "    </tr>\n",
       "    <tr>\n",
       "      <th>3</th>\n",
       "      <td>https://www.samsung.com/us/home-appliances/was...</td>\n",
       "    </tr>\n",
       "    <tr>\n",
       "      <th>4</th>\n",
       "      <td>https://www.samsung.com/us/home-appliances/was...</td>\n",
       "    </tr>\n",
       "    <tr>\n",
       "      <th>...</th>\n",
       "      <td>...</td>\n",
       "    </tr>\n",
       "    <tr>\n",
       "      <th>234</th>\n",
       "      <td>https://www.samsung.com/us/home-appliances/ref...</td>\n",
       "    </tr>\n",
       "    <tr>\n",
       "      <th>235</th>\n",
       "      <td>https://www.samsung.com/us/home-appliances/ref...</td>\n",
       "    </tr>\n",
       "    <tr>\n",
       "      <th>236</th>\n",
       "      <td>https://www.samsung.com/us/home-appliances/ref...</td>\n",
       "    </tr>\n",
       "    <tr>\n",
       "      <th>237</th>\n",
       "      <td>https://www.samsung.com/us/home-appliances/ref...</td>\n",
       "    </tr>\n",
       "    <tr>\n",
       "      <th>238</th>\n",
       "      <td>https://www.samsung.com/us/home-appliances/ref...</td>\n",
       "    </tr>\n",
       "  </tbody>\n",
       "</table>\n",
       "<p>239 rows × 1 columns</p>\n",
       "</div>"
      ],
      "text/plain": [
       "                                                     0\n",
       "0    https://www.samsung.com/us/shop/labor-day-pack...\n",
       "1    https://www.samsung.com/us/home-appliances/was...\n",
       "2    https://www.samsung.com/us/home-appliances/was...\n",
       "3    https://www.samsung.com/us/home-appliances/was...\n",
       "4    https://www.samsung.com/us/home-appliances/was...\n",
       "..                                                 ...\n",
       "234  https://www.samsung.com/us/home-appliances/ref...\n",
       "235  https://www.samsung.com/us/home-appliances/ref...\n",
       "236  https://www.samsung.com/us/home-appliances/ref...\n",
       "237  https://www.samsung.com/us/home-appliances/ref...\n",
       "238  https://www.samsung.com/us/home-appliances/ref...\n",
       "\n",
       "[239 rows x 1 columns]"
      ]
     },
     "execution_count": 342,
     "metadata": {},
     "output_type": "execute_result"
    }
   ],
   "source": [
    "import os\n",
    "os.chdir(r\"C:\\Users\\ywy\\Desktop\\min\\LG플젝\\url 추가\")\n",
    "\n",
    "# 빈 DF\n",
    "import pandas as pd\n",
    "df = pd.DataFrame(url_lists)\n",
    "df.reset_index(drop = True,inplace = True)\n",
    "df.to_csv(\"ss_us.csv\")\n",
    "df"
   ]
  },
  {
   "cell_type": "markdown",
   "id": "b9b96127-6af6-4ae7-ad78-a8a2904ea428",
   "metadata": {},
   "source": [
    "# 중복 확인"
   ]
  },
  {
   "cell_type": "code",
   "execution_count": 344,
   "id": "4b2272a9-e1b1-4920-9c6c-d9756a15a72a",
   "metadata": {},
   "outputs": [
    {
     "data": {
      "text/html": [
       "<div>\n",
       "<style scoped>\n",
       "    .dataframe tbody tr th:only-of-type {\n",
       "        vertical-align: middle;\n",
       "    }\n",
       "\n",
       "    .dataframe tbody tr th {\n",
       "        vertical-align: top;\n",
       "    }\n",
       "\n",
       "    .dataframe thead th {\n",
       "        text-align: right;\n",
       "    }\n",
       "</style>\n",
       "<table border=\"1\" class=\"dataframe\">\n",
       "  <thead>\n",
       "    <tr style=\"text-align: right;\">\n",
       "      <th></th>\n",
       "      <th>추가할 URL</th>\n",
       "    </tr>\n",
       "  </thead>\n",
       "  <tbody>\n",
       "    <tr>\n",
       "      <th>0</th>\n",
       "      <td>https://www.samsung.com/ae/refrigerators/frenc...</td>\n",
       "    </tr>\n",
       "    <tr>\n",
       "      <th>1</th>\n",
       "      <td>https://www.samsung.com/ae/refrigerators/botto...</td>\n",
       "    </tr>\n",
       "    <tr>\n",
       "      <th>2</th>\n",
       "      <td>https://www.samsung.com/ae/refrigerators/one-d...</td>\n",
       "    </tr>\n",
       "    <tr>\n",
       "      <th>3</th>\n",
       "      <td>https://www.samsung.com/ae/refrigerators/one-d...</td>\n",
       "    </tr>\n",
       "    <tr>\n",
       "      <th>4</th>\n",
       "      <td>https://www.samsung.com/ae/refrigerators/bespo...</td>\n",
       "    </tr>\n",
       "    <tr>\n",
       "      <th>...</th>\n",
       "      <td>...</td>\n",
       "    </tr>\n",
       "    <tr>\n",
       "      <th>1622</th>\n",
       "      <td>https://www.samsung.com/za/air-conditioners/wa...</td>\n",
       "    </tr>\n",
       "    <tr>\n",
       "      <th>1623</th>\n",
       "      <td>https://www.samsung.com/za/air-conditioners/wa...</td>\n",
       "    </tr>\n",
       "    <tr>\n",
       "      <th>1624</th>\n",
       "      <td>https://www.samsung.com/za/air-conditioners/wa...</td>\n",
       "    </tr>\n",
       "    <tr>\n",
       "      <th>1625</th>\n",
       "      <td>https://www.samsung.com/za/air-conditioners/wa...</td>\n",
       "    </tr>\n",
       "    <tr>\n",
       "      <th>1626</th>\n",
       "      <td>https://www.samsung.com/za/air-conditioners/wa...</td>\n",
       "    </tr>\n",
       "  </tbody>\n",
       "</table>\n",
       "<p>1627 rows × 1 columns</p>\n",
       "</div>"
      ],
      "text/plain": [
       "                                                추가할 URL\n",
       "0     https://www.samsung.com/ae/refrigerators/frenc...\n",
       "1     https://www.samsung.com/ae/refrigerators/botto...\n",
       "2     https://www.samsung.com/ae/refrigerators/one-d...\n",
       "3     https://www.samsung.com/ae/refrigerators/one-d...\n",
       "4     https://www.samsung.com/ae/refrigerators/bespo...\n",
       "...                                                 ...\n",
       "1622  https://www.samsung.com/za/air-conditioners/wa...\n",
       "1623  https://www.samsung.com/za/air-conditioners/wa...\n",
       "1624  https://www.samsung.com/za/air-conditioners/wa...\n",
       "1625  https://www.samsung.com/za/air-conditioners/wa...\n",
       "1626  https://www.samsung.com/za/air-conditioners/wa...\n",
       "\n",
       "[1627 rows x 1 columns]"
      ]
     },
     "execution_count": 344,
     "metadata": {},
     "output_type": "execute_result"
    }
   ],
   "source": [
    "os.chdir(r'C:\\Users\\ywy\\Downloads')\n",
    "df = pd.read_csv(\"LGE 산학협력 SV_삼성.xlsx - 삼성 수집된 URL.csv\")\n",
    "df"
   ]
  },
  {
   "cell_type": "code",
   "execution_count": 348,
   "id": "63832bda-fb80-464e-9b6c-aa8e2db4ce8b",
   "metadata": {},
   "outputs": [
    {
     "data": {
      "text/html": [
       "<div>\n",
       "<style scoped>\n",
       "    .dataframe tbody tr th:only-of-type {\n",
       "        vertical-align: middle;\n",
       "    }\n",
       "\n",
       "    .dataframe tbody tr th {\n",
       "        vertical-align: top;\n",
       "    }\n",
       "\n",
       "    .dataframe thead th {\n",
       "        text-align: right;\n",
       "    }\n",
       "</style>\n",
       "<table border=\"1\" class=\"dataframe\">\n",
       "  <thead>\n",
       "    <tr style=\"text-align: right;\">\n",
       "      <th></th>\n",
       "      <th>추가할 URL</th>\n",
       "    </tr>\n",
       "  </thead>\n",
       "  <tbody>\n",
       "    <tr>\n",
       "      <th>0</th>\n",
       "      <td>https://www.samsung.com/ae/refrigerators/frenc...</td>\n",
       "    </tr>\n",
       "    <tr>\n",
       "      <th>1</th>\n",
       "      <td>https://www.samsung.com/ae/refrigerators/botto...</td>\n",
       "    </tr>\n",
       "    <tr>\n",
       "      <th>2</th>\n",
       "      <td>https://www.samsung.com/ae/refrigerators/one-d...</td>\n",
       "    </tr>\n",
       "    <tr>\n",
       "      <th>3</th>\n",
       "      <td>https://www.samsung.com/ae/refrigerators/one-d...</td>\n",
       "    </tr>\n",
       "    <tr>\n",
       "      <th>4</th>\n",
       "      <td>https://www.samsung.com/ae/refrigerators/bespo...</td>\n",
       "    </tr>\n",
       "    <tr>\n",
       "      <th>...</th>\n",
       "      <td>...</td>\n",
       "    </tr>\n",
       "    <tr>\n",
       "      <th>1379</th>\n",
       "      <td>https://www.samsung.com/za/air-conditioners/wa...</td>\n",
       "    </tr>\n",
       "    <tr>\n",
       "      <th>1380</th>\n",
       "      <td>https://www.samsung.com/za/air-conditioners/wa...</td>\n",
       "    </tr>\n",
       "    <tr>\n",
       "      <th>1381</th>\n",
       "      <td>https://www.samsung.com/za/air-conditioners/wa...</td>\n",
       "    </tr>\n",
       "    <tr>\n",
       "      <th>1382</th>\n",
       "      <td>https://www.samsung.com/za/air-conditioners/wa...</td>\n",
       "    </tr>\n",
       "    <tr>\n",
       "      <th>1383</th>\n",
       "      <td>https://www.samsung.com/za/air-conditioners/wa...</td>\n",
       "    </tr>\n",
       "  </tbody>\n",
       "</table>\n",
       "<p>1384 rows × 1 columns</p>\n",
       "</div>"
      ],
      "text/plain": [
       "                                                추가할 URL\n",
       "0     https://www.samsung.com/ae/refrigerators/frenc...\n",
       "1     https://www.samsung.com/ae/refrigerators/botto...\n",
       "2     https://www.samsung.com/ae/refrigerators/one-d...\n",
       "3     https://www.samsung.com/ae/refrigerators/one-d...\n",
       "4     https://www.samsung.com/ae/refrigerators/bespo...\n",
       "...                                                 ...\n",
       "1379  https://www.samsung.com/za/air-conditioners/wa...\n",
       "1380  https://www.samsung.com/za/air-conditioners/wa...\n",
       "1381  https://www.samsung.com/za/air-conditioners/wa...\n",
       "1382  https://www.samsung.com/za/air-conditioners/wa...\n",
       "1383  https://www.samsung.com/za/air-conditioners/wa...\n",
       "\n",
       "[1384 rows x 1 columns]"
      ]
     },
     "execution_count": 348,
     "metadata": {},
     "output_type": "execute_result"
    }
   ],
   "source": [
    "df = df.drop_duplicates()\n",
    "df.reset_index(drop = True,inplace = True)\n",
    "df"
   ]
  },
  {
   "cell_type": "code",
   "execution_count": 349,
   "id": "98a4e422-2b4d-48f3-9923-fca7dcfb5313",
   "metadata": {},
   "outputs": [],
   "source": [
    "df.to_csv(\"ss_url최종.csv\")"
   ]
  },
  {
   "cell_type": "code",
   "execution_count": null,
   "id": "31b06e7a-b6ae-456c-9441-90564797d494",
   "metadata": {},
   "outputs": [],
   "source": []
  }
 ],
 "metadata": {
  "kernelspec": {
   "display_name": "Python 3",
   "language": "python",
   "name": "python3"
  },
  "language_info": {
   "codemirror_mode": {
    "name": "ipython",
    "version": 3
   },
   "file_extension": ".py",
   "mimetype": "text/x-python",
   "name": "python",
   "nbconvert_exporter": "python",
   "pygments_lexer": "ipython3",
   "version": "3.8.10"
  }
 },
 "nbformat": 4,
 "nbformat_minor": 5
}
