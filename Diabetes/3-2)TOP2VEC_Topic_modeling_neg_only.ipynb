{
  "nbformat": 4,
  "nbformat_minor": 0,
  "metadata": {
    "colab": {
      "name": "[3-2]TOP2VEC Topic modeling neg only",
      "provenance": [],
      "collapsed_sections": [],
      "machine_shape": "hm"
    },
    "kernelspec": {
      "name": "python3",
      "display_name": "Python 3"
    },
    "language_info": {
      "name": "python"
    },
    "accelerator": "GPU"
  },
  "cells": [
    {
      "cell_type": "markdown",
      "metadata": {
        "id": "szDtSot7Bzhj"
      },
      "source": [
        "# Top2Vec 을 활용한 토픽모델링"
      ]
    },
    {
      "cell_type": "code",
      "metadata": {
        "id": "HX5t-3sE86vK"
      },
      "source": [
        "#importing libraries\n",
        "import pandas as pd\n",
        "from datetime import datetime\n",
        "import numpy as np\n",
        "import scipy as sp\n",
        "import sklearn\n",
        "import sys\n",
        "import os\n",
        "\n",
        "import matplotlib.pyplot as plt\n",
        "import seaborn as sns\n",
        "\n",
        "from nltk.corpus import stopwords\n",
        "import nltk\n",
        "from nltk.stem import WordNetLemmatizer, SnowballStemmer\n",
        "from nltk.stem.porter import *\n",
        "from nltk import word_tokenize\n",
        "\n",
        "from sklearn.feature_extraction.text import CountVectorizer, TfidfTransformer, TfidfVectorizer\n",
        "from sklearn.decomposition import LatentDirichletAllocation\n",
        "from sklearn.decomposition import NMF\n",
        "from sklearn.preprocessing import normalize\n",
        "from scipy import linalg\n",
        "\n",
        "# !pip install gensim 완료\n",
        "import gensim\n",
        "from gensim.utils import simple_preprocess\n",
        "from gensim.parsing.preprocessing import STOPWORDS\n",
        "import pickle\n",
        "import string\n",
        "import time\n"
      ],
      "execution_count": null,
      "outputs": []
    },
    {
      "cell_type": "code",
      "metadata": {
        "colab": {
          "base_uri": "https://localhost:8080/"
        },
        "id": "QgW5Ap7SB0oZ",
        "outputId": "6aa0c269-8667-482d-e12d-a022d43e262c"
      },
      "source": [
        "from google.colab import drive\n",
        "drive.mount('/gdrive')"
      ],
      "execution_count": null,
      "outputs": [
        {
          "output_type": "stream",
          "text": [
            "Mounted at /gdrive\n"
          ],
          "name": "stdout"
        }
      ]
    },
    {
      "cell_type": "code",
      "metadata": {
        "id": "KY5E7zWsB6gL",
        "colab": {
          "base_uri": "https://localhost:8080/",
          "height": 1000
        },
        "outputId": "c7af8378-aed9-4a28-9106-cce955da7ebd"
      },
      "source": [
        "path = r'/gdrive/MyDrive/석사 수업/2학기/비즈니스 텍스트마이닝/diabetes_SA'\n",
        "os.chdir(path)\n",
        "\n",
        "with open('neg_doc','rb') as fr:\n",
        "  df = pickle.load(fr)\n",
        "df"
      ],
      "execution_count": null,
      "outputs": [
        {
          "output_type": "execute_result",
          "data": {
            "text/html": [
              "<div>\n",
              "<style scoped>\n",
              "    .dataframe tbody tr th:only-of-type {\n",
              "        vertical-align: middle;\n",
              "    }\n",
              "\n",
              "    .dataframe tbody tr th {\n",
              "        vertical-align: top;\n",
              "    }\n",
              "\n",
              "    .dataframe thead th {\n",
              "        text-align: right;\n",
              "    }\n",
              "</style>\n",
              "<table border=\"1\" class=\"dataframe\">\n",
              "  <thead>\n",
              "    <tr style=\"text-align: right;\">\n",
              "      <th></th>\n",
              "      <th>title</th>\n",
              "      <th>content</th>\n",
              "      <th>writer</th>\n",
              "      <th>date</th>\n",
              "      <th>view</th>\n",
              "      <th>likes</th>\n",
              "      <th>no_comments</th>\n",
              "      <th>board</th>\n",
              "      <th>url</th>\n",
              "      <th>year</th>\n",
              "      <th>month</th>\n",
              "      <th>hour</th>\n",
              "      <th>text_content</th>\n",
              "      <th>text_title</th>\n",
              "      <th>content_sep</th>\n",
              "      <th>title_sep</th>\n",
              "      <th>content_p</th>\n",
              "      <th>title_p</th>\n",
              "      <th>content_joined</th>\n",
              "      <th>neg</th>\n",
              "      <th>pos</th>\n",
              "      <th>sent_pred</th>\n",
              "    </tr>\n",
              "  </thead>\n",
              "  <tbody>\n",
              "    <tr>\n",
              "      <th>0</th>\n",
              "      <td>\\n            약 부작용이 있으면 어떻게 하나요??\\n</td>\n",
              "      <td>\\n관리를 못해 당화혈색소가 8.9가 됐더라구요ㅜ원래먹던약이 직듀오서방정 10/10...</td>\n",
              "      <td>\\n                    긍정왕썰\\n</td>\n",
              "      <td>2021-05-14 18:42:00</td>\n",
              "      <td>157</td>\n",
              "      <td>0.0</td>\n",
              "      <td>8.0</td>\n",
              "      <td>all_couns</td>\n",
              "      <td>https://cafe.naver.com/ArticleRead.nhn?clubid=...</td>\n",
              "      <td>2021</td>\n",
              "      <td>5</td>\n",
              "      <td>18</td>\n",
              "      <td>관리를 못해 당화혈색소가   됐더라구요ㅜ원래먹던약이 직듀오서방정   디아미크롱서방정...</td>\n",
              "      <td>약 부작용이 있으면 어떻게 하나요</td>\n",
              "      <td>[관리를 못해 당화혈 색소가 됐더라구 요ㅜ원래 먹던 약이 직 듀오 서방 정 디아미크...</td>\n",
              "      <td>[약 부작용이 있으면 어떻게 하나요]</td>\n",
              "      <td>[관리, 당화, 혈, 색소, 더, 원래, 먹다, 약, 직, 듀오, 서방, 정, 디,...</td>\n",
              "      <td>[약, 부작용, 어떻다, 하나요]</td>\n",
              "      <td>관리 당화 혈 색소 더 원래 먹다 약 직 듀오 서방 정 디 아미 크롱 방정 이번 새...</td>\n",
              "      <td>1.570287</td>\n",
              "      <td>-1.855057</td>\n",
              "      <td>0</td>\n",
              "    </tr>\n",
              "    <tr>\n",
              "      <th>1</th>\n",
              "      <td>\\n            안녕하세요~ 당뇨기계 추천 받고자 합니다\\n</td>\n",
              "      <td>\\n어머니가 오래동안 당뇨를 가지고 계신데 기계가 오래되어 바꿔 드리고 싶은데 체혈...</td>\n",
              "      <td>\\n                    티타2\\n</td>\n",
              "      <td>2021-05-14 18:30:00</td>\n",
              "      <td>101</td>\n",
              "      <td>0.0</td>\n",
              "      <td>8.0</td>\n",
              "      <td>all_couns</td>\n",
              "      <td>https://cafe.naver.com/ArticleRead.nhn?clubid=...</td>\n",
              "      <td>2021</td>\n",
              "      <td>5</td>\n",
              "      <td>18</td>\n",
              "      <td>어머니가 오래동안 당뇨를 가지고 계신데 기계가 오래되어 바꿔 드리고 싶은데 체혈  ...</td>\n",
              "      <td>안녕하세요  당뇨기계 추천 받고자 합니다</td>\n",
              "      <td>[어머니가 오래 동안 당뇨를 가지고 계신데 기계가 오래되어 바꿔 드리고 싶은데 체혈...</td>\n",
              "      <td>[안녕하세요, 당뇨기계 추천 받고 자 합니다]</td>\n",
              "      <td>[어머니, 당뇨, 가지, 계시다, 기계, 오래되다, 바꾸다, 드리다, 싶다, 채혈,...</td>\n",
              "      <td>[안녕하다, 당뇨, 기계, 추천, 받다, 자]</td>\n",
              "      <td>어머니 당뇨 가지 계시다 기계 오래되다 바꾸다 드리다 싶다 채혈 아프다 않다 시험지...</td>\n",
              "      <td>0.183513</td>\n",
              "      <td>-0.491494</td>\n",
              "      <td>0</td>\n",
              "    </tr>\n",
              "    <tr>\n",
              "      <th>2</th>\n",
              "      <td>\\n            체중과의 사투를 벌이고 있네요ㅠ\\n</td>\n",
              "      <td>\\n확진후8개월만에 10키로가 내의지와는 전혀상관없이 체중이 빠져버렸네요 ​마지노선...</td>\n",
              "      <td>\\n                    천왕봉\\n</td>\n",
              "      <td>2021-05-14 17:27:00</td>\n",
              "      <td>221</td>\n",
              "      <td>0.0</td>\n",
              "      <td>16.0</td>\n",
              "      <td>all_couns</td>\n",
              "      <td>https://cafe.naver.com/ArticleRead.nhn?clubid=...</td>\n",
              "      <td>2021</td>\n",
              "      <td>5</td>\n",
              "      <td>17</td>\n",
              "      <td>내의지와는 전혀상관없이 체중이 빠져버렸네요 ​마지노선인  사수하기 위해     ...</td>\n",
              "      <td>체중과의 사투를 벌이고 있네요ㅠ</td>\n",
              "      <td>[내의지와는 전혀 상관없이 체중이 빠져버렸네요, 마지노선인 사수하기 위해 먹던 잡곡...</td>\n",
              "      <td>[체중과의 사투를 벌이고 있네요ㅠ]</td>\n",
              "      <td>[의지, 전혀, 체중, 빠지다, 버리다, 마지노선, 사수, 위해, 먹다, 잡곡, 밥...</td>\n",
              "      <td>[체중, 사투, 벌이]</td>\n",
              "      <td>의지 전혀 체중 빠지다 버리다 마지노선 사수 위해 먹다 잡곡 밥 오늘 그램 올리다 ...</td>\n",
              "      <td>2.397109</td>\n",
              "      <td>-2.645771</td>\n",
              "      <td>0</td>\n",
              "    </tr>\n",
              "    <tr>\n",
              "      <th>3</th>\n",
              "      <td>\\n            쌀국수\\n</td>\n",
              "      <td>\\n안녕들하세요^^점심에 쌀국수를 먹었네요 ㅋㅋ높을거라 생각은 했지만 ㅠㅠ1시간 후...</td>\n",
              "      <td>\\n                    희뿡2\\n</td>\n",
              "      <td>2021-05-14 16:02:00</td>\n",
              "      <td>107</td>\n",
              "      <td>0.0</td>\n",
              "      <td>4.0</td>\n",
              "      <td>all_couns</td>\n",
              "      <td>https://cafe.naver.com/ArticleRead.nhn?clubid=...</td>\n",
              "      <td>2021</td>\n",
              "      <td>5</td>\n",
              "      <td>16</td>\n",
              "      <td>안녕들하세요^^점심에 쌀국수를 먹었네요 ㅋㅋ높을거라 생각은 했지만  후  후  ^^...</td>\n",
              "      <td>쌀국수</td>\n",
              "      <td>[안녕들 하세요 점심에 쌀국수를 먹었네요 ㅋㅋ, 높을 거라 생각은 했지만 후 후 쌀...</td>\n",
              "      <td>[쌀국수]</td>\n",
              "      <td>[점심, 쌀국수, 먹다, 높다, 생각, 후, 후, 쌀국수, 거리, 두기, 공복, 어렵다]</td>\n",
              "      <td>[쌀국수]</td>\n",
              "      <td>점심 쌀국수 먹다 높다 생각 후 후 쌀국수 거리 두기 공복 어렵다</td>\n",
              "      <td>-0.143517</td>\n",
              "      <td>-0.179952</td>\n",
              "      <td>0</td>\n",
              "    </tr>\n",
              "    <tr>\n",
              "      <th>4</th>\n",
              "      <td>\\n            운동하면 오히려 왜혈당이 오르나요?\\n</td>\n",
              "      <td>\\n예전엔안그랬는데당뇨약먹고 부터는 운동 하면 혈당이더오르네요?오늘같은 경우 식전에...</td>\n",
              "      <td>\\n                    제라툴\\n</td>\n",
              "      <td>2021-05-14 15:58:00</td>\n",
              "      <td>293</td>\n",
              "      <td>0.0</td>\n",
              "      <td>4.0</td>\n",
              "      <td>all_couns</td>\n",
              "      <td>https://cafe.naver.com/ArticleRead.nhn?clubid=...</td>\n",
              "      <td>2021</td>\n",
              "      <td>5</td>\n",
              "      <td>15</td>\n",
              "      <td>예전엔안그랬는데당뇨약먹고 부터는 운동 하면 혈당이더오르네요 오늘같은 경우 식전에  ...</td>\n",
              "      <td>운동하면 오히려 왜혈당이 오르나요</td>\n",
              "      <td>[예전엔 안 그랬는데 당뇨약 먹고 부터는 운동 하면 혈당이 더 오르네요, 오늘 같은...</td>\n",
              "      <td>[운동하면 오히려 왜 혈당이 오르나요]</td>\n",
              "      <td>[예전, 안, 당뇨, 약, 운동, 혈당, 더, 오르다, 오늘, 경우, 식, 전, 다...</td>\n",
              "      <td>[운동, 오히려, 왜, 혈당, 오르다]</td>\n",
              "      <td>예전 안 당뇨 약 운동 혈당 더 오르다 오늘 경우 식 전 다음 혈당 재 으레 나오다...</td>\n",
              "      <td>0.201569</td>\n",
              "      <td>-0.536045</td>\n",
              "      <td>0</td>\n",
              "    </tr>\n",
              "    <tr>\n",
              "      <th>...</th>\n",
              "      <td>...</td>\n",
              "      <td>...</td>\n",
              "      <td>...</td>\n",
              "      <td>...</td>\n",
              "      <td>...</td>\n",
              "      <td>...</td>\n",
              "      <td>...</td>\n",
              "      <td>...</td>\n",
              "      <td>...</td>\n",
              "      <td>...</td>\n",
              "      <td>...</td>\n",
              "      <td>...</td>\n",
              "      <td>...</td>\n",
              "      <td>...</td>\n",
              "      <td>...</td>\n",
              "      <td>...</td>\n",
              "      <td>...</td>\n",
              "      <td>...</td>\n",
              "      <td>...</td>\n",
              "      <td>...</td>\n",
              "      <td>...</td>\n",
              "      <td>...</td>\n",
              "    </tr>\n",
              "    <tr>\n",
              "      <th>23137</th>\n",
              "      <td>\\n            26일 힘내라\\n</td>\n",
              "      <td>≫아침몸무게/저녁몸무게 :68kg</td>\n",
              "      <td>\\n                    힘내라 나야\\n</td>\n",
              "      <td>2010-08-26 15:05:00</td>\n",
              "      <td>53</td>\n",
              "      <td>0.0</td>\n",
              "      <td>2.0</td>\n",
              "      <td>exerc</td>\n",
              "      <td>https://cafe.naver.com/ArticleRead.nhn?clubid=...</td>\n",
              "      <td>2010</td>\n",
              "      <td>8</td>\n",
              "      <td>15</td>\n",
              "      <td>≫아침몸무게 저녁몸무게</td>\n",
              "      <td>힘내라</td>\n",
              "      <td>[≫아침 몸무게 저녁 몸무게]</td>\n",
              "      <td>[힘내라]</td>\n",
              "      <td>[아침, 몸무게, 저녁, 몸무게]</td>\n",
              "      <td>[힘내다]</td>\n",
              "      <td>아침 몸무게 저녁 몸무게</td>\n",
              "      <td>-0.151557</td>\n",
              "      <td>-0.207595</td>\n",
              "      <td>0</td>\n",
              "    </tr>\n",
              "    <tr>\n",
              "      <th>23138</th>\n",
              "      <td>\\n            [웃짜 8월25일 -7일차 71.6kg] 이소라 다이어트 ...</td>\n",
              "      <td>≫목표몸무게/현재몸무게 : 54kg / 71.6(표준체중 + 17.6kg)</td>\n",
              "      <td>\\n                    웃짜\\n</td>\n",
              "      <td>2010-08-25 22:51:00</td>\n",
              "      <td>171</td>\n",
              "      <td>0.0</td>\n",
              "      <td>3.0</td>\n",
              "      <td>exerc</td>\n",
              "      <td>https://cafe.naver.com/ArticleRead.nhn?clubid=...</td>\n",
              "      <td>2010</td>\n",
              "      <td>8</td>\n",
              "      <td>22</td>\n",
              "      <td>≫목표몸무게 현재몸무게       표준체중</td>\n",
              "      <td>이소라 다이어트 체조   그리고 혈당기</td>\n",
              "      <td>[≫ 목표 몸무게 현재 몸무게 표준체중]</td>\n",
              "      <td>[이소라 다이어트 체조 그리고 혈당기]</td>\n",
              "      <td>[목표, 몸무게, 현재, 몸무게, 표준, 체중]</td>\n",
              "      <td>[이소라, 다이어트, 체조, 혈당]</td>\n",
              "      <td>목표 몸무게 현재 몸무게 표준 체중</td>\n",
              "      <td>1.245663</td>\n",
              "      <td>-1.536207</td>\n",
              "      <td>0</td>\n",
              "    </tr>\n",
              "    <tr>\n",
              "      <th>23139</th>\n",
              "      <td>\\n            8/25 나나의 입원일기 3일째(500-&gt;140)\\n   ...</td>\n",
              "      <td>입원 1,2일째에는...</td>\n",
              "      <td>\\n                    나나\\n</td>\n",
              "      <td>2010-08-25 19:23:00</td>\n",
              "      <td>210</td>\n",
              "      <td>0.0</td>\n",
              "      <td>5.0</td>\n",
              "      <td>exerc</td>\n",
              "      <td>https://cafe.naver.com/ArticleRead.nhn?clubid=...</td>\n",
              "      <td>2010</td>\n",
              "      <td>8</td>\n",
              "      <td>19</td>\n",
              "      <td>입원</td>\n",
              "      <td>나나의 입원일기</td>\n",
              "      <td>[입원]</td>\n",
              "      <td>[나나의 입원일기]</td>\n",
              "      <td>[입원]</td>\n",
              "      <td>[나나, 입원, 일기]</td>\n",
              "      <td>입원</td>\n",
              "      <td>0.495256</td>\n",
              "      <td>-0.806772</td>\n",
              "      <td>0</td>\n",
              "    </tr>\n",
              "    <tr>\n",
              "      <th>23140</th>\n",
              "      <td>\\n            8/23 나나의 입원일기 1일째\\n</td>\n",
              "      <td>새벽 6시 반에 일어나</td>\n",
              "      <td>\\n                    나나\\n</td>\n",
              "      <td>2010-08-25 09:49:00</td>\n",
              "      <td>214</td>\n",
              "      <td>0.0</td>\n",
              "      <td>6.0</td>\n",
              "      <td>exerc</td>\n",
              "      <td>https://cafe.naver.com/ArticleRead.nhn?clubid=...</td>\n",
              "      <td>2010</td>\n",
              "      <td>8</td>\n",
              "      <td>9</td>\n",
              "      <td>새벽  반에 일어나</td>\n",
              "      <td>나나의 입원일기</td>\n",
              "      <td>[새벽 반에 일어나]</td>\n",
              "      <td>[나나의 입원일기]</td>\n",
              "      <td>[새벽, 반, 일다]</td>\n",
              "      <td>[나나, 입원, 일기]</td>\n",
              "      <td>새벽 반 일다</td>\n",
              "      <td>1.650019</td>\n",
              "      <td>-1.948385</td>\n",
              "      <td>0</td>\n",
              "    </tr>\n",
              "    <tr>\n",
              "      <th>23141</th>\n",
              "      <td>\\n            [웃짜 8월24일 -6일차 73.6kg] 식단을 짜야 한다...</td>\n",
              "      <td>≫목표몸무게/현재몸무게 : 54kg / 73.6(표준체중 + 19.6)</td>\n",
              "      <td>\\n                    웃짜\\n</td>\n",
              "      <td>2010-08-24 22:19:00</td>\n",
              "      <td>62</td>\n",
              "      <td>0.0</td>\n",
              "      <td>3.0</td>\n",
              "      <td>exerc</td>\n",
              "      <td>https://cafe.naver.com/ArticleRead.nhn?clubid=...</td>\n",
              "      <td>2010</td>\n",
              "      <td>8</td>\n",
              "      <td>22</td>\n",
              "      <td>≫목표몸무게 현재몸무게       표준체중</td>\n",
              "      <td>식단을 짜야 한다   얼른</td>\n",
              "      <td>[≫ 목표 몸무게 현재 몸무게 표준체중]</td>\n",
              "      <td>[식단을 짜야 한 다 얼른]</td>\n",
              "      <td>[목표, 몸무게, 현재, 몸무게, 표준, 체중]</td>\n",
              "      <td>[식단, 짜다, 히다, 얼른]</td>\n",
              "      <td>목표 몸무게 현재 몸무게 표준 체중</td>\n",
              "      <td>1.245663</td>\n",
              "      <td>-1.536207</td>\n",
              "      <td>0</td>\n",
              "    </tr>\n",
              "  </tbody>\n",
              "</table>\n",
              "<p>23142 rows × 22 columns</p>\n",
              "</div>"
            ],
            "text/plain": [
              "                                                   title  ... sent_pred\n",
              "0           \\n            약 부작용이 있으면 어떻게 하나요??\\n          ...         0\n",
              "1         \\n            안녕하세요~ 당뇨기계 추천 받고자 합니다\\n          ...         0\n",
              "2              \\n            체중과의 사투를 벌이고 있네요ㅠ\\n          ...         0\n",
              "3                            \\n            쌀국수\\n          ...         0\n",
              "4            \\n            운동하면 오히려 왜혈당이 오르나요?\\n          ...         0\n",
              "...                                                  ...  ...       ...\n",
              "23137                    \\n            26일 힘내라\\n          ...         0\n",
              "23138  \\n            [웃짜 8월25일 -7일차 71.6kg] 이소라 다이어트 ...  ...         0\n",
              "23139  \\n            8/25 나나의 입원일기 3일째(500->140)\\n   ...  ...         0\n",
              "23140          \\n            8/23 나나의 입원일기 1일째\\n          ...         0\n",
              "23141  \\n            [웃짜 8월24일 -6일차 73.6kg] 식단을 짜야 한다...  ...         0\n",
              "\n",
              "[23142 rows x 22 columns]"
            ]
          },
          "metadata": {
            "tags": []
          },
          "execution_count": 7
        }
      ]
    },
    {
      "cell_type": "code",
      "metadata": {
        "id": "Y3pyu-EkDCN1"
      },
      "source": [
        "# !pip install top2vec\n",
        "\n",
        "from top2vec import Top2Vec"
      ],
      "execution_count": null,
      "outputs": []
    },
    {
      "cell_type": "code",
      "metadata": {
        "colab": {
          "base_uri": "https://localhost:8080/",
          "height": 73
        },
        "id": "5A0AYDYhDZO3",
        "outputId": "09c8d052-582a-4102-e02c-e32b21ae80ee"
      },
      "source": [
        "# content\n",
        "# word to a str\n",
        "content_joined = df['content_p'].apply(lambda x: \" \".join(x)) # input은  [docu1,docu2] 의 형태. \n",
        "content_joined_list = list(content_joined)\n",
        "content_joined_list[0]\n",
        "#wc_input = joined.sum()"
      ],
      "execution_count": null,
      "outputs": [
        {
          "output_type": "execute_result",
          "data": {
            "application/vnd.google.colaboratory.intrinsic+json": {
              "type": "string"
            },
            "text/plain": [
              "'관리 당화 혈 색소 더 원래 먹다 약 직 듀오 서방 정 디 아미 크롱 방정 이번 새다 추가 게 리 피토 엠 서방 정 약 바꾸다 첫날 두통 심하다 오가다 그 다음 날 약 설사 속 쓰리다 소화 불량 생기 식욕 없어지다 그렇다 다른 건 속 쓰리다 참다 힘들다 달 뒤 관리 다시 가기 전 가야'"
            ]
          },
          "metadata": {
            "tags": []
          },
          "execution_count": 9
        }
      ]
    },
    {
      "cell_type": "code",
      "metadata": {
        "colab": {
          "base_uri": "https://localhost:8080/",
          "height": 36
        },
        "id": "SrWs-ibHFfNp",
        "outputId": "9e234580-8f59-4170-b706-fac05e5c1ad5"
      },
      "source": [
        "#title\n",
        "# word to a str\n",
        "joined_title = df['title_p'].apply(lambda x: \" \".join(x)) # input은  [docu1,docu2] 의 형태. \n",
        "title_joined_list = list(joined_title)\n",
        "title_joined_list[0]\n",
        "#wc_input = joined.sum()"
      ],
      "execution_count": null,
      "outputs": [
        {
          "output_type": "execute_result",
          "data": {
            "application/vnd.google.colaboratory.intrinsic+json": {
              "type": "string"
            },
            "text/plain": [
              "'약 부작용 어떻다 하나요'"
            ]
          },
          "metadata": {
            "tags": []
          },
          "execution_count": 20
        }
      ]
    },
    {
      "cell_type": "code",
      "metadata": {
        "colab": {
          "base_uri": "https://localhost:8080/"
        },
        "id": "I12qq7tRDkSD",
        "outputId": "0b47d0fa-5686-4cf3-b816-ee071c211dd4"
      },
      "source": [
        "model = Top2Vec(documents=title_joined_list, speed=\"learn\", workers=8, min_count = 75) #min_counts = 바꿔볼 수도."
      ],
      "execution_count": null,
      "outputs": [
        {
          "output_type": "stream",
          "text": [
            "2021-05-30 12:48:28,165 - top2vec - INFO - Pre-processing documents for training\n",
            "2021-05-30 12:48:29,038 - top2vec - INFO - Creating joint document/word embedding\n",
            "2021-05-30 12:50:20,131 - top2vec - INFO - Creating lower dimension embedding of documents\n",
            "2021-05-30 12:50:38,651 - top2vec - INFO - Finding dense areas of documents\n",
            "2021-05-30 12:50:40,685 - top2vec - INFO - Finding topics\n"
          ],
          "name": "stderr"
        }
      ]
    },
    {
      "cell_type": "code",
      "metadata": {
        "id": "s5s0YhoHDkUi"
      },
      "source": [
        "# !pip install tensorflow tensorflow_hub tensorflow_text"
      ],
      "execution_count": null,
      "outputs": []
    },
    {
      "cell_type": "code",
      "metadata": {
        "id": "NsWtcFaIEISP",
        "colab": {
          "base_uri": "https://localhost:8080/"
        },
        "outputId": "e4fb41bd-0cdb-41a4-9cc6-b952da9d442c"
      },
      "source": [
        "model.get_num_topics() # 4개의 토픽 생성."
      ],
      "execution_count": null,
      "outputs": [
        {
          "output_type": "execute_result",
          "data": {
            "text/plain": [
              "3"
            ]
          },
          "metadata": {
            "tags": []
          },
          "execution_count": 76
        }
      ]
    },
    {
      "cell_type": "code",
      "metadata": {
        "id": "Bjn8HAeoJC4A",
        "colab": {
          "base_uri": "https://localhost:8080/"
        },
        "outputId": "ed50dda0-5e41-46b5-def7-e1d71b6e0aa0"
      },
      "source": [
        "model.get_topic_sizes()"
      ],
      "execution_count": null,
      "outputs": [
        {
          "output_type": "execute_result",
          "data": {
            "text/plain": [
              "(array([8669, 7407, 7066]), array([0, 1, 2]))"
            ]
          },
          "metadata": {
            "tags": []
          },
          "execution_count": 80
        }
      ]
    },
    {
      "cell_type": "code",
      "metadata": {
        "id": "q1SBeoGEJGSh"
      },
      "source": [
        "topic_words, word_scores, topic_nums = model.get_topics(3)\n"
      ],
      "execution_count": null,
      "outputs": []
    },
    {
      "cell_type": "code",
      "metadata": {
        "colab": {
          "base_uri": "https://localhost:8080/"
        },
        "id": "3JX8WAiWJixT",
        "outputId": "4aa97cf8-d361-4cf5-f44b-d1f677052873"
      },
      "source": [
        "# 제목을 topic modeling.\n",
        "topic_words"
      ],
      "execution_count": null,
      "outputs": [
        {
          "output_type": "execute_result",
          "data": {
            "text/plain": [
              "array([['먹다', '검사', '병원', '없다', '부탁드리다', '혈당', '경우', '식사', '결과', '들다',\n",
              "        '조절', '수치', '고민', '주다', '가다', '어떻다', '먹이다', '계시다', '높다', '저녁',\n",
              "        '공복', '체크', '타다', '다시', '내과', '시간', '자전거', '봐주다', '정상', '오늘',\n",
              "        '추천', '바꾸다', '드리다', '차이', '빠지다', '드시다', '당화', '지다', '식단', '이렇다',\n",
              "        '때문', '좋다', '혈압', '식후', '계속', '맞다', '임신', '내일', '복용', '혹시'],\n",
              "       ['당화', '떨어지다', '마감', '대해', '처음', '당뇨', '아침', '정말', '알려주다', '보신',\n",
              "        '조언', '아큐첵', '해주다', '결과', '추천', '재다', '올리다', '보험', '현미', '확진',\n",
              "        '지다', '체크', '걸다', '사다', '계속', '걷기', '도움', '착하다', '방법', '어제',\n",
              "        '진단', '하루', '내과', '관리', '싶다', '금일', '드리다', '경우', '점심', '당화혈색소',\n",
              "        '먹이다', '식전', '측정', '먹다', '식후', '봐주다', '효과', '쓰다', '하나', '받다'],\n",
              "       ['먹다', '대해', '받다', '하나', '갑자기', '현미', '혈압', '먹이다', '오늘', '샐러드',\n",
              "        '봐주다', '확진', '좋다', '계속', '들다', '정상', '측정기', '경우', '꾸다', '혈당',\n",
              "        '내일', '지다', '당화혈색소', '높다', '고민', '당뇨', '내과', '타다', '요즘', '빠지다',\n",
              "        '되다', '어떻다', '추천', '조절', '계시다', '결과', '질문', '도와주다', '정말', '보험',\n",
              "        '식사', '이렇다', '부탁드리다', '맞다', '착하다', '조언', '해주다', '식후', '방법', '수치']],\n",
              "      dtype='<U5')"
            ]
          },
          "metadata": {
            "tags": []
          },
          "execution_count": 82
        }
      ]
    },
    {
      "cell_type": "code",
      "metadata": {
        "id": "fT4qwA9ULwuy"
      },
      "source": [
        "documents, document_scores, document_ids = model.search_documents_by_topic(topic_num=0, num_docs=10)\n"
      ],
      "execution_count": null,
      "outputs": []
    },
    {
      "cell_type": "code",
      "metadata": {
        "id": "mP_1dRHQU45N",
        "colab": {
          "base_uri": "https://localhost:8080/"
        },
        "outputId": "c7bd0c1e-46e2-4629-920b-156b973218c0"
      },
      "source": [
        "# topic에 해당하는 확인\n",
        "documents"
      ],
      "execution_count": null,
      "outputs": [
        {
          "output_type": "execute_result",
          "data": {
            "text/plain": [
              "array(['저녁 약속 이제 끝 건가', '금일 당화혈색소 마감 혈당', '요즘 예식장 뷔페 음식',\n",
              "       '당화 혈 검사 겸 어지러움 때문 병원 검사 가다 오다', '당뇨 약 바꾸다 낫다 혈당 조절 안',\n",
              "       '혈압 대해 자다 아시 분', '정말 초보 질문 먹다 싶다', '합병증 언제 오다', '채단 타다 단 채 타다',\n",
              "       '젠 운동 시간대 바꾸다'], dtype=object)"
            ]
          },
          "metadata": {
            "tags": []
          },
          "execution_count": 100
        }
      ]
    },
    {
      "cell_type": "code",
      "metadata": {
        "id": "1wD16fIjO14c",
        "colab": {
          "base_uri": "https://localhost:8080/"
        },
        "outputId": "b6560dc7-b2f1-4db5-eded-401c2ad8baca"
      },
      "source": [
        "topic_nums"
      ],
      "execution_count": null,
      "outputs": [
        {
          "output_type": "execute_result",
          "data": {
            "text/plain": [
              "array([0, 1, 2, 3, 4, 5, 6, 7, 8, 9])"
            ]
          },
          "metadata": {
            "tags": []
          },
          "execution_count": 16
        }
      ]
    },
    {
      "cell_type": "code",
      "metadata": {
        "id": "UxAfW9kaUJ5z",
        "colab": {
          "base_uri": "https://localhost:8080/"
        },
        "outputId": "02eb38cd-fd23-41a5-f333-12d0b00c05d2"
      },
      "source": [
        "topic_words"
      ],
      "execution_count": null,
      "outputs": [
        {
          "output_type": "execute_result",
          "data": {
            "text/plain": [
              "[array(['혈당', '식후', '공복', '피크', '들어오다', '시간', '보통', '밀리다', '나오다', '이해',\n",
              "        '높다', '정도', '거의', '나와다', '범위', '걸다', '정상', '정상인', '해보다', '건가',\n",
              "        '유지', '기준', '식이', '기저', '그렇다', '의미', '재는', '숫자', '올라가다', '수치',\n",
              "        '이렇다', '평균', '나름', '지나서다', '관리', '넘다', '전날', '측정', '튀다', '저녁',\n",
              "        '인슐린', '차이', '경우', '넘기다', '오르다', '체크', '늘리다', '취침', '어떻다', '아예'],\n",
              "       dtype='<U5'),\n",
              " array(['평균', '공복', '혈당', '측정기', '안녕하다', '당화혈색소', '당화', '지난', '측정', '오차',\n",
              "        '나오다', '범위', '차이', '기기', '내려가다', '유지', '아큐첵', '높다', '지방간', '재다',\n",
              "        '기존', '비교', '자가', '진단', '정상', '처방', '식후', '의사', '퍼포머', '검사', '작년',\n",
              "        '관리', '기준', '식이', '최근', '혈색소', '감량', '해보다', '이번', '건강검진', '재는',\n",
              "        '채혈', '바꾸다', '중인', '확진', '기계', '처음', '다시', '수치', '숫자'], dtype='<U5'),\n",
              " array(['투여', '인슐린', '맞다', '입원', '경우', '혈당', '상황', '지속', '설명', '지금', '상태',\n",
              "        '이해', '의사', '식후', '처방', '어렵다', '건가', '시작', '주사', '잡히다', '이하',\n",
              "        '이렇다', '어떻다', '문의', '지다', '조절', '높다', '약물', '이후', '길다', '중이', '병원',\n",
              "        '다른', '퇴원', '언제', '의미', '노보', '되다', '정도', '잡다', '식전', '문제', '거의',\n",
              "        '그렇다', '유지', '수도', '수치', '금식', '따르다', '관리'], dtype='<U5'),\n",
              " array(['혈색소', '당화', '당화혈색소', '검사', '의사', '다시', '당일', '공복', '진단', '당뇨',\n",
              "        '부하', '작년', '측정', '혈당', '관리', '해보다', '나오다', '정상', '검진', '병원', '당시',\n",
              "        '지난', '약도', '떨어지다', '받다', '이상', '안녕하다', '범위', '그때', '어떻다', '확진',\n",
              "        '말씀', '항상', '얘기', '건강검진', '결과', '테스트', '수치', '판정', '평균', '지금',\n",
              "        '이후', '오차', '내과', '심하다', '높다', '가까이', '수도', '들이다', '회원'],\n",
              "       dtype='<U5'),\n",
              " array(['연속', '지속', '칼슘', '혈당', '사용', '제품', '효과', '몰다', '많다', '되다', '좋다',\n",
              "        '매일', '초보', '어떻다', '찾아보다', '구입', '상태', '포함', '식후', '주다', '이르다',\n",
              "        '실험', '지다', '어렵다', '하루', '구매', '따르다', '오히려', '섭취', '역시', '측정',\n",
              "        '경우', '방법', '바라다', '며칠', '가요', '위해', '가다', '지나가다', '해보다', '시키다',\n",
              "        '닥터', '잠깐', '해도', '대한', '주의', '때문', '들어오다', '측정기', '처방전'],\n",
              "       dtype='<U5'),\n",
              " array(['문제', '않다', '평소', '그게', '췌장', '유지', '상태', '생각', '되다', '떨어지다',\n",
              "        '그렇다', '전날', '인하다', '들어오다', '분비', '세포', '많다', '가다', '가장', '얼마나',\n",
              "        '의사', '수도', '위해', '혈당', '지다', '지치다', '정도', '이렇다', '지금', '마지막',\n",
              "        '경우', '합병증', '조절', '크게', '이다', '공복', '높다', '스트레스', '언제', '항상',\n",
              "        '그것', '좋다', '듯이', '여러분', '마음', '영향', '들이다', '정상', '사실', '인슐린'],\n",
              "       dtype='<U5'),\n",
              " array(['어플', '쓰다', '예상', '혈당', '해보다', '싶다', '들어오다', '그냥', '케어', '달이',\n",
              "        '다른', '센스', '끄다', '차이', '기록', '보고', '종종', '넘다', '사용', '테스트', '잠깐',\n",
              "        '작년', '얼마', '낫다', '깔다', '그릇', '쓰시', '시험지', '나오다', '예정', '다시', '처음',\n",
              "        '안녕하다', '퍼포머', '매번', '빡세', '측정', '아무', '진짜', '아큐첵', '기도', '기계',\n",
              "        '자다', '이후', '지다', '이다', '오차', '어떻다', '제품', '짜장면'], dtype='<U5'),\n",
              " array(['피크', '밀리다', '보통', '식후', '혈당', '내려오다', '공복', '나와다', '걸다', '내려가다',\n",
              "        '들어오다', '오르다', '시간', '높다', '범위', '숫자', '테스트', '정도', '올라가다', '유지',\n",
              "        '편이', '뛰다', '지치다', '재는', '차이', '종종', '나오다', '튀다', '최근', '근력', '아예',\n",
              "        '항상', '평소', '떨어지다', '저녁', '거의', '고혈', '기저', '아닌다', '평균', '늘리다',\n",
              "        '원래', '단계', '이렇다', '근래', '의미', '재다', '가볍다', '매일', '넘어가다'],\n",
              "       dtype='<U5'),\n",
              " array(['속도', '정도', '좋다', '않다', '이후', '없다', '많다', '이렇다', '상태', '그것', '되다',\n",
              "        '가장', '위해', '가다', '자다', '참고', '허벅지', '떨어지다', '지다', '운동', '혈당',\n",
              "        '달리다', '이용', '때문', '근육', '오다', '매일', '그냥', '어렵다', '시도', '아주', '의사',\n",
              "        '정말', '나다', '약하다', '지금', '해도', '다시', '역시', '이유', '쉽다', '이르다', '하루',\n",
              "        '크게', '하나', '먹다', '효과', '타다', '방법', '약간'], dtype='<U5'),\n",
              " array(['기저', '식후', '오르다', '지나다', '초속', '컨디션', '지나서다', '저녁', '식전', '혈당',\n",
              "        '자리', '취침', '테스트', '보통', '재고', '종일', '고혈', '마감', '나와다', '이건',\n",
              "        '밀리다', '라테', '점심', '올라가다', '지나가다', '내려가다', '점점', '걸다', '잠깐', '지치다',\n",
              "        '어제', '평균', '넘다', '시간', '들어오다', '얼마나', '떨어주다', '공복', '요즘', '아닌다',\n",
              "        '생각', '달리다', '뛰다', '피곤하다', '나오다', '떨어지다', '그렇다', '튀다', '다시', '재는'],\n",
              "       dtype='<U5'),\n",
              " array(['분비', '포도당', '세포', '호르몬', '발생', '상승', '경우', '가장', '이르다', '히다',\n",
              "        '증가', '위해', '유지', '이유', '대한', '인하다', '이해', '기능', '원인', '췌장',\n",
              "        '높아지다', '않다', '또한', '수준', '실제', '모든', '현상', '많다', '흡수', '저항',\n",
              "        '대부분', '혈액', '당뇨병', '따라서', '소화', '인슐린', '따르다', '위험', '의미', '비만',\n",
              "        '순환', '매우', '되다', '거나', '나쁘다', '포함', '높이다', '우리', '사람', '상태'],\n",
              "       dtype='<U5'),\n",
              " array(['증세', '갑자기', '현상', '응급실', '증상', '느끼다', '떨리다', '느낌', '생기다', '나아지다',\n",
              "        '심해지다', '붓다', '쓰러지다', '지나다', '자고', '심하다', '정상인', '눕다', '깨다',\n",
              "        '일어나다', '나타나다', '그게', '계속', '인하다', '원인', '바닥', '느껴지다', '컨디션', '자꾸',\n",
              "        '상태', '지금', '순간', '걸리다', '지나가다', '고혈', '혈당', '그렇다', '종일', '유지',\n",
              "        '되다', '않다', '아프다', '떨어지다', '길다', '이후', '그러다', '지내다', '저리다', '지다',\n",
              "        '문제'], dtype='<U5'),\n",
              " array(['강도', '나가다', '잠깐', '대로', '싶다', '해도', '운동', '걸다', '좋다', '걷기', '이렇다',\n",
              "        '정도', '매일', '하루', '이제', '지금', '그냥', '혈당', '버리다', '고장', '지다', '거의',\n",
              "        '기르다', '들이다', '올라가다', '풀리다', '자다', '해보다', '정말', '움직', '요즘', '오다',\n",
              "        '오히려', '힘들다', '지나서다', '다리', '느낌', '그러다', '넘기다', '나다', '이다', '최고',\n",
              "        '겨울', '얼마', '금방', '속도', '등산', '사실', '바라다', '저리'], dtype='<U5'),\n",
              " array(['단위', '섭취', '탄수', '간식', '줄다', '식사', '탄수화물', '칼로리', '과일', '않다',\n",
              "        '정도', '늘리다', '거나', '최대한', '높아지다', '많다', '자다', '이렇다', '중간', '오히려',\n",
              "        '줄이다', '히다', '어렵다', '쉽다', '단백질', '높이다', '식사량', '좋다', '야채', '위해',\n",
              "        '어떻다', '되다', '운동', '잠자다', '소량', '제한', '싶다', '이르다', '유지', '연구',\n",
              "        '보통', '매일', '조절', '식단', '음식', '올라가다', '혈당', '절대', '문제', '먹다'],\n",
              "       dtype='<U5'),\n",
              " array(['약과', '저녁', '먹다', '식후', '넘기다', '지다', '그러다', '지나다', '떨어주다', '나니',\n",
              "        '종종', '하나', '낫다', '피곤하다', '역시', '주말', '올라가다', '차려', '시간', '지금',\n",
              "        '순간', '점심', '정말', '걸다', '넘다', '일어나다', '퇴근', '다시', '어제', '일찍', '다행',\n",
              "        '매일', '이렇다', '혈당', '자다', '약도', '느껴지다', '배부르다', '중간', '예전', '정도',\n",
              "        '그냥', '올라다', '지난', '싶다', '좋다', '버리다', '공복', '파이팅', '경험'],\n",
              "       dtype='<U5'),\n",
              " array(['부하', '검사', '당화혈색소', '당화', '정상', '혈색소', '관리', '내과', '건강검진', '판정',\n",
              "        '여쭈다', '식이', '의사', '확진', '받다', '검진', '병원', '작년', '그때', '소견', '범위',\n",
              "        '나오다', '공복', '대학병원', '자가', '정맥혈', '결과', '다시', '말씀', '단계', '해보다',\n",
              "        '내분비', '확정', '선생님', '그동안', '걱정', '진료', '중인', '수치', '측정', '의심',\n",
              "        '기다', '혈당', '높다', '진단', '안녕하다', '단백뇨', '그게', '출산', '예약'],\n",
              "       dtype='<U5'),\n",
              " array(['근육', '지다', '이렇다', '많다', '않다', '좋다', '그러다', '사람', '체력', '시작', '자다',\n",
              "        '그것', '기본', '매일', '그게', '심하다', '지금', '생각', '힘들다', '문제', '변화', '이다',\n",
              "        '약도', '나아지다', '다리', '지나다', '주다', '운동', '흘리다', '되다', '버리다', '떨어지다',\n",
              "        '위해', '상태', '초반', '점점', '주의', '유지', '평소', '줄다', '느끼다', '생기다', '말다',\n",
              "        '올라가다', '누구', '지치다', '싶다', '넘기다', '멈추다', '정도'], dtype='<U5'),\n",
              " array(['금식', '병원', '진료', '예약', '전날', '검사', '가면', '대학병원', '입원', '내과', '가다',\n",
              "        '가라', '가늘다', '인슐린', '나오다', '기다리다', '걱정', '말씀', '수치', '교수', '내분비',\n",
              "        '다른', '선생님', '어제', '다니다', '지금', '하나요', '의사', '건가', '오라', '일주일',\n",
              "        '내내', '산부인과', '높다', '다시', '확정', '얘기', '넘다', '가야', '고요', '바로', '안정',\n",
              "        '식이요법', '상황', '담당', '퇴원', '혈당', '직장', '절대', '그때'], dtype='<U5'),\n",
              " array(['등록', '공단', '신청', '처방전', '지원', '건가', '구입', '인터넷', '임신', '받다', '구매',\n",
              "        '담당', '소모', '청구', '확정', '아무', '여쭈다', '병원', '방문', '가늘다', '재료', '문의',\n",
              "        '대학병원', '임산부', '봐주다', '산부인과', '가다', '다른', '예약', '의료', '내과', '내내',\n",
              "        '혈당', '시간', '진료', '다니다', '보험', '잠깐', '주문', '주시', '하나요', '통과', '매번',\n",
              "        '소견', '도착', '기록', '금요일', '해도', '체크', '상담'], dtype='<U5'),\n",
              " array(['오전', '오후', '저녁', '내내', '점심', '번만', '어제', '근무', '오늘', '식후', '넘다',\n",
              "        '일요일', '일찍', '들어오다', '아침', '식전', '낫다', '지다', '하루', '혈당', '새벽',\n",
              "        '월요일', '일어나서', '퇴근', '잡히다', '맞다', '공복', '지속', '걷기', '시간', '돈가스',\n",
              "        '토요일', '쉬다', '가다', '간식', '전날', '높다', '주다', '내일', '먹다', '나오다', '출근',\n",
              "        '시작', '자고', '얼른', '직장', '아기', '잠도', '잠깐', '중간'], dtype='<U5')]"
            ]
          },
          "metadata": {
            "tags": []
          },
          "execution_count": 22
        }
      ]
    },
    {
      "cell_type": "markdown",
      "metadata": {
        "id": "ttWtafghMDlR"
      },
      "source": [
        "# TOP2VEC 이 안된다면.. LDA"
      ]
    },
    {
      "cell_type": "code",
      "metadata": {
        "id": "sMvyBNhBT_1f"
      },
      "source": [
        "## sklearn에서 LDA\n",
        " \n",
        "    \n",
        "# Document - Term Matrix만들기\n",
        "from sklearn.feature_extraction.text import CountVectorizer\n",
        "\n",
        "# the vectorizer object will be used to transform text to vector form\n",
        "vectorizer = CountVectorizer(max_df=0.9, min_df=2)\n",
        "\n",
        "# apply transformation\n",
        "df['title_n_str']=[' '.join(token) for token in df['content_p']]\n",
        "tf = vectorizer.fit_transform(df['title_n_str']).toarray()\n",
        "# sklearn LDA는 numpy array형태로 들어가기에!\n",
        "\n",
        "\n",
        "\n",
        "# tf_feature_names tells us what word each column in the matric represents\n",
        "tf_feature_names = vectorizer.get_feature_names()\n",
        "\n",
        "\n",
        "from sklearn.decomposition import LatentDirichletAllocation\n",
        "\n",
        "number_of_topics = 10\n",
        "\n",
        "model = LatentDirichletAllocation(n_components=number_of_topics, random_state=0)\n",
        "\n",
        "model.fit(tf)\n",
        "\n",
        "def display_topics(model, feature_names, no_top_words):\n",
        "    topic_dict = {}\n",
        "    for topic_idx, topic in enumerate(model.components_):\n",
        "        topic_dict[\"Topic %d words\" % (topic_idx)]= ['{}'.format(feature_names[i])\n",
        "                        for i in topic.argsort()[:-no_top_words - 1:-1]]\n",
        "        topic_dict[\"Topic %d weights\" % (topic_idx)]= ['{:.1f}'.format(topic[i])\n",
        "                        for i in topic.argsort()[:-no_top_words - 1:-1]]\n",
        "    return pd.DataFrame(topic_dict)\n",
        "\n",
        "no_top_words = 5\n",
        "topic_dictionary=display_topics(model, tf_feature_names, no_top_words)\n",
        "\n"
      ],
      "execution_count": null,
      "outputs": []
    },
    {
      "cell_type": "code",
      "metadata": {
        "colab": {
          "base_uri": "https://localhost:8080/",
          "height": 324
        },
        "id": "1RUjsYsMv4Rc",
        "outputId": "96029b0a-2f15-40bd-db72-171dc97ab914"
      },
      "source": [
        "topic_dictionary"
      ],
      "execution_count": null,
      "outputs": [
        {
          "output_type": "execute_result",
          "data": {
            "text/html": [
              "<div>\n",
              "<style scoped>\n",
              "    .dataframe tbody tr th:only-of-type {\n",
              "        vertical-align: middle;\n",
              "    }\n",
              "\n",
              "    .dataframe tbody tr th {\n",
              "        vertical-align: top;\n",
              "    }\n",
              "\n",
              "    .dataframe thead th {\n",
              "        text-align: right;\n",
              "    }\n",
              "</style>\n",
              "<table border=\"1\" class=\"dataframe\">\n",
              "  <thead>\n",
              "    <tr style=\"text-align: right;\">\n",
              "      <th></th>\n",
              "      <th>Topic 0 words</th>\n",
              "      <th>Topic 0 weights</th>\n",
              "      <th>Topic 1 words</th>\n",
              "      <th>Topic 1 weights</th>\n",
              "      <th>Topic 2 words</th>\n",
              "      <th>Topic 2 weights</th>\n",
              "      <th>Topic 3 words</th>\n",
              "      <th>Topic 3 weights</th>\n",
              "      <th>Topic 4 words</th>\n",
              "      <th>Topic 4 weights</th>\n",
              "      <th>Topic 5 words</th>\n",
              "      <th>Topic 5 weights</th>\n",
              "      <th>Topic 6 words</th>\n",
              "      <th>Topic 6 weights</th>\n",
              "      <th>Topic 7 words</th>\n",
              "      <th>Topic 7 weights</th>\n",
              "      <th>Topic 8 words</th>\n",
              "      <th>Topic 8 weights</th>\n",
              "      <th>Topic 9 words</th>\n",
              "      <th>Topic 9 weights</th>\n",
              "    </tr>\n",
              "  </thead>\n",
              "  <tbody>\n",
              "    <tr>\n",
              "      <th>0</th>\n",
              "      <td>혈당</td>\n",
              "      <td>8642.9</td>\n",
              "      <td>먹다</td>\n",
              "      <td>8277.5</td>\n",
              "      <td>당뇨</td>\n",
              "      <td>3216.2</td>\n",
              "      <td>건강</td>\n",
              "      <td>695.0</td>\n",
              "      <td>혈당</td>\n",
              "      <td>1564.4</td>\n",
              "      <td>먹다</td>\n",
              "      <td>2872.1</td>\n",
              "      <td>먹다</td>\n",
              "      <td>3797.0</td>\n",
              "      <td>쓰다</td>\n",
              "      <td>580.1</td>\n",
              "      <td>운동</td>\n",
              "      <td>3035.1</td>\n",
              "      <td>아프다</td>\n",
              "      <td>342.6</td>\n",
              "    </tr>\n",
              "    <tr>\n",
              "      <th>1</th>\n",
              "      <td>공복</td>\n",
              "      <td>4949.4</td>\n",
              "      <td>넣다</td>\n",
              "      <td>1149.1</td>\n",
              "      <td>검사</td>\n",
              "      <td>2642.2</td>\n",
              "      <td>좋다</td>\n",
              "      <td>529.5</td>\n",
              "      <td>맞다</td>\n",
              "      <td>1097.0</td>\n",
              "      <td>당뇨</td>\n",
              "      <td>1666.1</td>\n",
              "      <td>오늘</td>\n",
              "      <td>875.1</td>\n",
              "      <td>오늘</td>\n",
              "      <td>303.7</td>\n",
              "      <td>오늘</td>\n",
              "      <td>677.3</td>\n",
              "      <td>없다</td>\n",
              "      <td>335.7</td>\n",
              "    </tr>\n",
              "    <tr>\n",
              "      <th>2</th>\n",
              "      <td>먹다</td>\n",
              "      <td>4380.5</td>\n",
              "      <td>혈당</td>\n",
              "      <td>1127.9</td>\n",
              "      <td>병원</td>\n",
              "      <td>2620.8</td>\n",
              "      <td>효과</td>\n",
              "      <td>377.8</td>\n",
              "      <td>인슐린</td>\n",
              "      <td>1048.5</td>\n",
              "      <td>관리</td>\n",
              "      <td>1287.5</td>\n",
              "      <td>들다</td>\n",
              "      <td>835.1</td>\n",
              "      <td>대다</td>\n",
              "      <td>226.3</td>\n",
              "      <td>걷다</td>\n",
              "      <td>584.8</td>\n",
              "      <td>맞다</td>\n",
              "      <td>331.4</td>\n",
              "    </tr>\n",
              "    <tr>\n",
              "      <th>3</th>\n",
              "      <td>나오다</td>\n",
              "      <td>4286.6</td>\n",
              "      <td>아침</td>\n",
              "      <td>988.2</td>\n",
              "      <td>받다</td>\n",
              "      <td>2392.6</td>\n",
              "      <td>비타민</td>\n",
              "      <td>313.9</td>\n",
              "      <td>당뇨</td>\n",
              "      <td>719.7</td>\n",
              "      <td>운동</td>\n",
              "      <td>1189.1</td>\n",
              "      <td>오다</td>\n",
              "      <td>776.5</td>\n",
              "      <td>가다</td>\n",
              "      <td>221.0</td>\n",
              "      <td>걷기</td>\n",
              "      <td>565.6</td>\n",
              "      <td>가다</td>\n",
              "      <td>320.5</td>\n",
              "    </tr>\n",
              "    <tr>\n",
              "      <th>4</th>\n",
              "      <td>수치</td>\n",
              "      <td>3031.2</td>\n",
              "      <td>점심</td>\n",
              "      <td>917.3</td>\n",
              "      <td>가다</td>\n",
              "      <td>1449.3</td>\n",
              "      <td>히다</td>\n",
              "      <td>301.7</td>\n",
              "      <td>받다</td>\n",
              "      <td>667.9</td>\n",
              "      <td>않다</td>\n",
              "      <td>989.2</td>\n",
              "      <td>없다</td>\n",
              "      <td>668.0</td>\n",
              "      <td>사람</td>\n",
              "      <td>205.2</td>\n",
              "      <td>자전거</td>\n",
              "      <td>529.8</td>\n",
              "      <td>들다</td>\n",
              "      <td>257.9</td>\n",
              "    </tr>\n",
              "  </tbody>\n",
              "</table>\n",
              "</div>"
            ],
            "text/plain": [
              "  Topic 0 words Topic 0 weights  ... Topic 9 words Topic 9 weights\n",
              "0            혈당          8642.9  ...           아프다           342.6\n",
              "1            공복          4949.4  ...            없다           335.7\n",
              "2            먹다          4380.5  ...            맞다           331.4\n",
              "3           나오다          4286.6  ...            가다           320.5\n",
              "4            수치          3031.2  ...            들다           257.9\n",
              "\n",
              "[5 rows x 20 columns]"
            ]
          },
          "metadata": {
            "tags": []
          },
          "execution_count": 52
        }
      ]
    }
  ]
}
