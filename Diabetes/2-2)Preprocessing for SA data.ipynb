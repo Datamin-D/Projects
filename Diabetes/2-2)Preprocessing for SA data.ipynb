{
 "cells": [
  {
   "cell_type": "markdown",
   "metadata": {},
   "source": [
    "# Sentiment Analysis에 활용될 Dataset 또한 크롤링한 데이터 전처리와 같은 절차를 밟았습니다. \n",
    "# 내용은 2-1과 대부분 동일합니다."
   ]
  },
  {
   "cell_type": "markdown",
   "metadata": {},
   "source": [
    "# Importing Libraries & Df"
   ]
  },
  {
   "cell_type": "code",
   "execution_count": 2,
   "metadata": {},
   "outputs": [],
   "source": [
    "# !pip install gensim"
   ]
  },
  {
   "cell_type": "code",
   "execution_count": 4,
   "metadata": {},
   "outputs": [],
   "source": [
    "import pandas as pd\n",
    "from datetime import datetime\n",
    "import numpy as np\n",
    "import scipy as sp\n",
    "import sklearn\n",
    "import sys\n",
    "import os\n",
    "\n",
    "import matplotlib.pyplot as plt\n",
    "import seaborn as sns\n",
    "\n",
    "from nltk.corpus import stopwords\n",
    "import nltk\n",
    "from nltk.stem import WordNetLemmatizer, SnowballStemmer\n",
    "from nltk.stem.porter import *\n",
    "from nltk import word_tokenize\n",
    "\n",
    "from sklearn.feature_extraction.text import CountVectorizer, TfidfTransformer, TfidfVectorizer\n",
    "from sklearn.decomposition import LatentDirichletAllocation\n",
    "from sklearn.decomposition import NMF\n",
    "from sklearn.preprocessing import normalize\n",
    "from scipy import linalg\n",
    "\n",
    "# !pip install gensim 완료\n",
    "import gensim\n",
    "from gensim.utils import simple_preprocess\n",
    "from gensim.parsing.preprocessing import STOPWORDS\n",
    "import pickle\n",
    "import string\n",
    "import time\n"
   ]
  },
  {
   "cell_type": "code",
   "execution_count": 5,
   "metadata": {},
   "outputs": [],
   "source": [
    "path = r'C:\\Users\\MinSeong\\Desktop\\수업\\비즈니스 텍마\\Term Proj'\n",
    "os.chdir(path)\n",
    "\n",
    "df = pd.read_excel('5_total_train.xlsx')"
   ]
  },
  {
   "cell_type": "code",
   "execution_count": 3,
   "metadata": {},
   "outputs": [
    {
     "name": "stdout",
     "output_type": "stream",
     "text": [
      "<class 'pandas.core.frame.DataFrame'>\n",
      "RangeIndex: 122130 entries, 0 to 122129\n",
      "Data columns (total 2 columns):\n",
      " #   Column  Non-Null Count   Dtype \n",
      "---  ------  --------------   ----- \n",
      " 0   Text    122130 non-null  object\n",
      " 1   Label   122130 non-null  object\n",
      "dtypes: object(2)\n",
      "memory usage: 1.9+ MB\n"
     ]
    }
   ],
   "source": [
    "df.info()"
   ]
  },
  {
   "cell_type": "markdown",
   "metadata": {},
   "source": [
    "# Cleaning Text"
   ]
  },
  {
   "cell_type": "code",
   "execution_count": 4,
   "metadata": {},
   "outputs": [],
   "source": [
    "def clean_text(text):\n",
    "    text = re.sub('http[s]?://\\S+', '', text) # http url 제거\n",
    "    text = re.sub('\\S*@\\S*\\s?', '', text) #\n",
    "    text = re.sub(r'\\[.*?\\]', '', text) # \n",
    "    text = re.sub(r'\\w*\\d\\w*', '', text) # 숫자 포함하는 텍스트 제거\n",
    "    text = re.sub('[?.,;:|\\)*~\"`’!\\-_+<>@\\#$%&-=#}※]', ' ', text)#특수문자 이모티콘 제거.\n",
    "    text = re.sub(\"\\n\", '', text) #개행문자 제거\n",
    "    text = re.sub(\"\\r\", '', text) #개행문자 제거\n",
    "    text = re.sub(\"\\xa0\", '', text) #개행문자 제거\n",
    "    text = re.sub(r'Copyright .* rights reserved', '', text) # \"Copyright all rights reserved\" 제거\n",
    "    return text\n",
    "# content   \n",
    "df['text_content'] = pd.DataFrame(df.Text.apply(lambda x: clean_text(x)))\n"
   ]
  },
  {
   "cell_type": "markdown",
   "metadata": {},
   "source": [
    "# seperate sentences"
   ]
  },
  {
   "cell_type": "code",
   "execution_count": 5,
   "metadata": {},
   "outputs": [
    {
     "data": {
      "text/plain": [
       "0               [이거 정말 내 취향인데 역시 내 남친]\n",
       "1                  [이거 엄청 비싼건데 너무 고마워]\n",
       "2    [이거 내가 갖고 싶었던 건지 어떻게 알았어 정말 센스쟁이]\n",
       "3                        [이제 재수생활 끝이다]\n",
       "4               [엄마 이제 어깨 펴고 다녀 나 붙었어]\n",
       "Name: content_sep, dtype: object"
      ]
     },
     "execution_count": 5,
     "metadata": {},
     "output_type": "execute_result"
    }
   ],
   "source": [
    "import kss\n",
    "# content\n",
    "\n",
    "df['content_sep'] = df['text_content'].apply(lambda x: kss.split_sentences(x))\n",
    "df['content_sep'].head()\n"
   ]
  },
  {
   "cell_type": "markdown",
   "metadata": {},
   "source": [
    "# 띄어쓰기, 맞춤법 수정"
   ]
  },
  {
   "cell_type": "code",
   "execution_count": 6,
   "metadata": {},
   "outputs": [],
   "source": [
    "def space(docu):\n",
    "    docu_spaced = []\n",
    "    for sent in docu:\n",
    "        docu_spaced.append(spacing(sent))\n",
    "    return docu_spaced"
   ]
  },
  {
   "cell_type": "code",
   "execution_count": 7,
   "metadata": {},
   "outputs": [],
   "source": [
    "from pykospacing import spacing\n",
    "\n",
    "docu = df['content_sep'].loc[0]\n",
    "docu_spaced = []\n",
    "for sent in docu:\n",
    "    docu_spaced.append(spacing(sent))"
   ]
  },
  {
   "cell_type": "markdown",
   "metadata": {},
   "source": [
    "띄어쓰기 수정"
   ]
  },
  {
   "cell_type": "code",
   "execution_count": 8,
   "metadata": {},
   "outputs": [
    {
     "name": "stdout",
     "output_type": "stream",
     "text": [
      "73.0 분 소요\n"
     ]
    }
   ],
   "source": [
    "#띄어쓰기\n",
    "from pykospacing import spacing\n",
    "def space(docu):\n",
    "    docu_spaced = []\n",
    "    for sent in docu:\n",
    "        docu_spaced.append(spacing(sent))\n",
    "    return docu_spaced\n",
    "    \n",
    "sys.setrecursionlimit(3000)\n",
    "\n",
    "begin = time.time()\n",
    "\n",
    "df['content_sep']  = df['content_sep'].apply(lambda x: space(x))\n",
    "df['content_sep'].head()\n",
    "\n",
    "end = time.time()\n",
    "print(np.round((end - begin)/60),\"분 소요\")"
   ]
  },
  {
   "cell_type": "markdown",
   "metadata": {},
   "source": [
    "맞춤법 수정"
   ]
  },
  {
   "cell_type": "code",
   "execution_count": 9,
   "metadata": {},
   "outputs": [
    {
     "name": "stdout",
     "output_type": "stream",
     "text": [
      "51.0 분 소요\n"
     ]
    }
   ],
   "source": [
    "#맞춤법\n",
    "import time\n",
    "begin = time.time()\n",
    "\n",
    "\n",
    "from hanspell import spell_checker\n",
    "def spell(docu):\n",
    "    try:\n",
    "        docu_spelled = []\n",
    "        for sent in docu:\n",
    "            docu_spelled.append(spell_checker.check(sent).checked)\n",
    "    except:\n",
    "        docu_spelled = docu\n",
    "    return docu_spelled\n",
    "        \n",
    "df['content_p'] = df['content_sep'].apply(lambda x: spell(x))\n",
    "\n",
    "end = time.time()\n",
    "print(np.round((end - begin)/60),\"분 소요\")"
   ]
  },
  {
   "cell_type": "code",
   "execution_count": 10,
   "metadata": {},
   "outputs": [],
   "source": [
    "# 맞춤법, 띄어쓰기 수정한 tect\n",
    "#df.to_csv('preprocessed_df_pre_형태소.csv')"
   ]
  },
  {
   "cell_type": "code",
   "execution_count": 11,
   "metadata": {},
   "outputs": [
    {
     "data": {
      "text/html": [
       "<div>\n",
       "<style scoped>\n",
       "    .dataframe tbody tr th:only-of-type {\n",
       "        vertical-align: middle;\n",
       "    }\n",
       "\n",
       "    .dataframe tbody tr th {\n",
       "        vertical-align: top;\n",
       "    }\n",
       "\n",
       "    .dataframe thead th {\n",
       "        text-align: right;\n",
       "    }\n",
       "</style>\n",
       "<table border=\"1\" class=\"dataframe\">\n",
       "  <thead>\n",
       "    <tr style=\"text-align: right;\">\n",
       "      <th></th>\n",
       "      <th>Text</th>\n",
       "      <th>Label</th>\n",
       "      <th>text_content</th>\n",
       "      <th>content_sep</th>\n",
       "      <th>content_p</th>\n",
       "    </tr>\n",
       "  </thead>\n",
       "  <tbody>\n",
       "    <tr>\n",
       "      <th>0</th>\n",
       "      <td>이거 정말 내 취향인데 역시 내 남친</td>\n",
       "      <td>Happiness</td>\n",
       "      <td>이거 정말 내 취향인데 역시 내 남친</td>\n",
       "      <td>[이 거 정말 내 취향인데 역시 내 남친]</td>\n",
       "      <td>[이거 정말 내 취향인데 역시 내 남자친구]</td>\n",
       "    </tr>\n",
       "    <tr>\n",
       "      <th>1</th>\n",
       "      <td>이거 엄청 비싼건데 너무 고마워</td>\n",
       "      <td>Happiness</td>\n",
       "      <td>이거 엄청 비싼건데 너무 고마워</td>\n",
       "      <td>[이 거 엄청 비싼 건데 너무 고마워]</td>\n",
       "      <td>[이거 엄청 비싼 건데 너무 고마워]</td>\n",
       "    </tr>\n",
       "    <tr>\n",
       "      <th>2</th>\n",
       "      <td>이거 내가 갖고 싶었던 건지 어떻게 알았어 정말 센스쟁이</td>\n",
       "      <td>Happiness</td>\n",
       "      <td>이거 내가 갖고 싶었던 건지 어떻게 알았어 정말 센스쟁이</td>\n",
       "      <td>[이 거 내가 갖고 싶었던 건지 어떻게 알았어 정말 센스쟁이]</td>\n",
       "      <td>[이거 내가 갖고 싶었던 건지 어떻게 알았어 정말 센스쟁이]</td>\n",
       "    </tr>\n",
       "    <tr>\n",
       "      <th>3</th>\n",
       "      <td>이제 재수생활 끝이다</td>\n",
       "      <td>Happiness</td>\n",
       "      <td>이제 재수생활 끝이다</td>\n",
       "      <td>[이제 재수 생활 끝이다]</td>\n",
       "      <td>[이제 재수 생활 끝이다]</td>\n",
       "    </tr>\n",
       "    <tr>\n",
       "      <th>4</th>\n",
       "      <td>엄마 이제 어깨 펴고 다녀 나 붙었어</td>\n",
       "      <td>Happiness</td>\n",
       "      <td>엄마 이제 어깨 펴고 다녀 나 붙었어</td>\n",
       "      <td>[엄마 이 제 어깨 펴고 다녀 나 붙었어]</td>\n",
       "      <td>[엄마 이제 어깨 펴고 다녀 나붙었어]</td>\n",
       "    </tr>\n",
       "  </tbody>\n",
       "</table>\n",
       "</div>"
      ],
      "text/plain": [
       "                              Text      Label  \\\n",
       "0             이거 정말 내 취향인데 역시 내 남친  Happiness   \n",
       "1                이거 엄청 비싼건데 너무 고마워  Happiness   \n",
       "2  이거 내가 갖고 싶었던 건지 어떻게 알았어 정말 센스쟁이  Happiness   \n",
       "3                      이제 재수생활 끝이다  Happiness   \n",
       "4             엄마 이제 어깨 펴고 다녀 나 붙었어  Happiness   \n",
       "\n",
       "                      text_content                         content_sep  \\\n",
       "0             이거 정말 내 취향인데 역시 내 남친             [이 거 정말 내 취향인데 역시 내 남친]   \n",
       "1                이거 엄청 비싼건데 너무 고마워               [이 거 엄청 비싼 건데 너무 고마워]   \n",
       "2  이거 내가 갖고 싶었던 건지 어떻게 알았어 정말 센스쟁이  [이 거 내가 갖고 싶었던 건지 어떻게 알았어 정말 센스쟁이]   \n",
       "3                      이제 재수생활 끝이다                      [이제 재수 생활 끝이다]   \n",
       "4             엄마 이제 어깨 펴고 다녀 나 붙었어             [엄마 이 제 어깨 펴고 다녀 나 붙었어]   \n",
       "\n",
       "                           content_p  \n",
       "0           [이거 정말 내 취향인데 역시 내 남자친구]  \n",
       "1               [이거 엄청 비싼 건데 너무 고마워]  \n",
       "2  [이거 내가 갖고 싶었던 건지 어떻게 알았어 정말 센스쟁이]  \n",
       "3                     [이제 재수 생활 끝이다]  \n",
       "4              [엄마 이제 어깨 펴고 다녀 나붙었어]  "
      ]
     },
     "execution_count": 11,
     "metadata": {},
     "output_type": "execute_result"
    }
   ],
   "source": [
    "df.head()"
   ]
  },
  {
   "cell_type": "markdown",
   "metadata": {},
   "source": [
    "# 숫자 제거"
   ]
  },
  {
   "cell_type": "code",
   "execution_count": 15,
   "metadata": {},
   "outputs": [
    {
     "ename": "IndexError",
     "evalue": "list index out of range",
     "output_type": "error",
     "traceback": [
      "\u001b[1;31m---------------------------------------------------------------------------\u001b[0m",
      "\u001b[1;31mIndexError\u001b[0m                                Traceback (most recent call last)",
      "\u001b[1;32m<ipython-input-15-b2fb3aa9f51c>\u001b[0m in \u001b[0;36m<module>\u001b[1;34m\u001b[0m\n\u001b[0;32m      1\u001b[0m \u001b[1;31m#content\u001b[0m\u001b[1;33m\u001b[0m\u001b[1;33m\u001b[0m\u001b[1;33m\u001b[0m\u001b[0m\n\u001b[0;32m      2\u001b[0m \u001b[0mp\u001b[0m\u001b[1;33m=\u001b[0m\u001b[0mre\u001b[0m\u001b[1;33m.\u001b[0m\u001b[0mcompile\u001b[0m\u001b[1;33m(\u001b[0m\u001b[1;34m\"[0-9]+\"\u001b[0m\u001b[1;33m)\u001b[0m\u001b[1;33m\u001b[0m\u001b[1;33m\u001b[0m\u001b[0m\n\u001b[1;32m----> 3\u001b[1;33m \u001b[0mdf\u001b[0m\u001b[1;33m[\u001b[0m\u001b[1;34m'content_p'\u001b[0m\u001b[1;33m]\u001b[0m \u001b[1;33m=\u001b[0m \u001b[0mdf\u001b[0m\u001b[1;33m[\u001b[0m\u001b[1;34m'content_p'\u001b[0m\u001b[1;33m]\u001b[0m\u001b[1;33m.\u001b[0m\u001b[0mapply\u001b[0m\u001b[1;33m(\u001b[0m\u001b[1;32mlambda\u001b[0m \u001b[0mx\u001b[0m\u001b[1;33m:\u001b[0m \u001b[0mp\u001b[0m\u001b[1;33m.\u001b[0m\u001b[0msub\u001b[0m\u001b[1;33m(\u001b[0m\u001b[1;34m\" \"\u001b[0m\u001b[1;33m,\u001b[0m\u001b[0mx\u001b[0m\u001b[1;33m[\u001b[0m\u001b[1;36m0\u001b[0m\u001b[1;33m]\u001b[0m\u001b[1;33m)\u001b[0m\u001b[1;33m)\u001b[0m\u001b[1;33m\u001b[0m\u001b[1;33m\u001b[0m\u001b[0m\n\u001b[0m",
      "\u001b[1;32m~\\anaconda3\\lib\\site-packages\\pandas\\core\\series.py\u001b[0m in \u001b[0;36mapply\u001b[1;34m(self, func, convert_dtype, args, **kwds)\u001b[0m\n\u001b[0;32m   4136\u001b[0m             \u001b[1;32melse\u001b[0m\u001b[1;33m:\u001b[0m\u001b[1;33m\u001b[0m\u001b[1;33m\u001b[0m\u001b[0m\n\u001b[0;32m   4137\u001b[0m                 \u001b[0mvalues\u001b[0m \u001b[1;33m=\u001b[0m \u001b[0mself\u001b[0m\u001b[1;33m.\u001b[0m\u001b[0mastype\u001b[0m\u001b[1;33m(\u001b[0m\u001b[0mobject\u001b[0m\u001b[1;33m)\u001b[0m\u001b[1;33m.\u001b[0m\u001b[0m_values\u001b[0m\u001b[1;33m\u001b[0m\u001b[1;33m\u001b[0m\u001b[0m\n\u001b[1;32m-> 4138\u001b[1;33m                 \u001b[0mmapped\u001b[0m \u001b[1;33m=\u001b[0m \u001b[0mlib\u001b[0m\u001b[1;33m.\u001b[0m\u001b[0mmap_infer\u001b[0m\u001b[1;33m(\u001b[0m\u001b[0mvalues\u001b[0m\u001b[1;33m,\u001b[0m \u001b[0mf\u001b[0m\u001b[1;33m,\u001b[0m \u001b[0mconvert\u001b[0m\u001b[1;33m=\u001b[0m\u001b[0mconvert_dtype\u001b[0m\u001b[1;33m)\u001b[0m\u001b[1;33m\u001b[0m\u001b[1;33m\u001b[0m\u001b[0m\n\u001b[0m\u001b[0;32m   4139\u001b[0m \u001b[1;33m\u001b[0m\u001b[0m\n\u001b[0;32m   4140\u001b[0m         \u001b[1;32mif\u001b[0m \u001b[0mlen\u001b[0m\u001b[1;33m(\u001b[0m\u001b[0mmapped\u001b[0m\u001b[1;33m)\u001b[0m \u001b[1;32mand\u001b[0m \u001b[0misinstance\u001b[0m\u001b[1;33m(\u001b[0m\u001b[0mmapped\u001b[0m\u001b[1;33m[\u001b[0m\u001b[1;36m0\u001b[0m\u001b[1;33m]\u001b[0m\u001b[1;33m,\u001b[0m \u001b[0mSeries\u001b[0m\u001b[1;33m)\u001b[0m\u001b[1;33m:\u001b[0m\u001b[1;33m\u001b[0m\u001b[1;33m\u001b[0m\u001b[0m\n",
      "\u001b[1;32mpandas\\_libs\\lib.pyx\u001b[0m in \u001b[0;36mpandas._libs.lib.map_infer\u001b[1;34m()\u001b[0m\n",
      "\u001b[1;32m<ipython-input-15-b2fb3aa9f51c>\u001b[0m in \u001b[0;36m<lambda>\u001b[1;34m(x)\u001b[0m\n\u001b[0;32m      1\u001b[0m \u001b[1;31m#content\u001b[0m\u001b[1;33m\u001b[0m\u001b[1;33m\u001b[0m\u001b[1;33m\u001b[0m\u001b[0m\n\u001b[0;32m      2\u001b[0m \u001b[0mp\u001b[0m\u001b[1;33m=\u001b[0m\u001b[0mre\u001b[0m\u001b[1;33m.\u001b[0m\u001b[0mcompile\u001b[0m\u001b[1;33m(\u001b[0m\u001b[1;34m\"[0-9]+\"\u001b[0m\u001b[1;33m)\u001b[0m\u001b[1;33m\u001b[0m\u001b[1;33m\u001b[0m\u001b[0m\n\u001b[1;32m----> 3\u001b[1;33m \u001b[0mdf\u001b[0m\u001b[1;33m[\u001b[0m\u001b[1;34m'content_p'\u001b[0m\u001b[1;33m]\u001b[0m \u001b[1;33m=\u001b[0m \u001b[0mdf\u001b[0m\u001b[1;33m[\u001b[0m\u001b[1;34m'content_p'\u001b[0m\u001b[1;33m]\u001b[0m\u001b[1;33m.\u001b[0m\u001b[0mapply\u001b[0m\u001b[1;33m(\u001b[0m\u001b[1;32mlambda\u001b[0m \u001b[0mx\u001b[0m\u001b[1;33m:\u001b[0m \u001b[0mp\u001b[0m\u001b[1;33m.\u001b[0m\u001b[0msub\u001b[0m\u001b[1;33m(\u001b[0m\u001b[1;34m\" \"\u001b[0m\u001b[1;33m,\u001b[0m\u001b[0mx\u001b[0m\u001b[1;33m[\u001b[0m\u001b[1;36m0\u001b[0m\u001b[1;33m]\u001b[0m\u001b[1;33m)\u001b[0m\u001b[1;33m)\u001b[0m\u001b[1;33m\u001b[0m\u001b[1;33m\u001b[0m\u001b[0m\n\u001b[0m",
      "\u001b[1;31mIndexError\u001b[0m: list index out of range"
     ]
    }
   ],
   "source": [
    "#content\n",
    "p=re.compile(\"[0-9]+\")\n",
    "df['content_p'] = df['content_p'].apply(lambda x: p.sub(\" \",x[0]))\n"
   ]
  },
  {
   "cell_type": "code",
   "execution_count": 17,
   "metadata": {},
   "outputs": [],
   "source": [
    "\n",
    "# pkl_name = 'preprocessed_SA_pre_형태소'\n",
    "# with open(pkl_name,'wb') as fw:\n",
    "#   pickle.dump(df,fw)"
   ]
  },
  {
   "cell_type": "markdown",
   "metadata": {},
   "source": [
    " 형태소 쪼개기전 pickle loading"
   ]
  },
  {
   "cell_type": "code",
   "execution_count": 6,
   "metadata": {},
   "outputs": [
    {
     "data": {
      "text/html": [
       "<div>\n",
       "<style scoped>\n",
       "    .dataframe tbody tr th:only-of-type {\n",
       "        vertical-align: middle;\n",
       "    }\n",
       "\n",
       "    .dataframe tbody tr th {\n",
       "        vertical-align: top;\n",
       "    }\n",
       "\n",
       "    .dataframe thead th {\n",
       "        text-align: right;\n",
       "    }\n",
       "</style>\n",
       "<table border=\"1\" class=\"dataframe\">\n",
       "  <thead>\n",
       "    <tr style=\"text-align: right;\">\n",
       "      <th></th>\n",
       "      <th>Text</th>\n",
       "      <th>Label</th>\n",
       "      <th>text_content</th>\n",
       "      <th>content_sep</th>\n",
       "      <th>content_p</th>\n",
       "    </tr>\n",
       "  </thead>\n",
       "  <tbody>\n",
       "    <tr>\n",
       "      <th>0</th>\n",
       "      <td>이거 정말 내 취향인데 역시 내 남친</td>\n",
       "      <td>Happiness</td>\n",
       "      <td>이거 정말 내 취향인데 역시 내 남친</td>\n",
       "      <td>[이 거 정말 내 취향인데 역시 내 남친]</td>\n",
       "      <td>[이거 정말 내 취향인데 역시 내 남자친구]</td>\n",
       "    </tr>\n",
       "    <tr>\n",
       "      <th>1</th>\n",
       "      <td>이거 엄청 비싼건데 너무 고마워</td>\n",
       "      <td>Happiness</td>\n",
       "      <td>이거 엄청 비싼건데 너무 고마워</td>\n",
       "      <td>[이 거 엄청 비싼 건데 너무 고마워]</td>\n",
       "      <td>[이거 엄청 비싼 건데 너무 고마워]</td>\n",
       "    </tr>\n",
       "    <tr>\n",
       "      <th>2</th>\n",
       "      <td>이거 내가 갖고 싶었던 건지 어떻게 알았어 정말 센스쟁이</td>\n",
       "      <td>Happiness</td>\n",
       "      <td>이거 내가 갖고 싶었던 건지 어떻게 알았어 정말 센스쟁이</td>\n",
       "      <td>[이 거 내가 갖고 싶었던 건지 어떻게 알았어 정말 센스쟁이]</td>\n",
       "      <td>[이거 내가 갖고 싶었던 건지 어떻게 알았어 정말 센스쟁이]</td>\n",
       "    </tr>\n",
       "    <tr>\n",
       "      <th>3</th>\n",
       "      <td>이제 재수생활 끝이다</td>\n",
       "      <td>Happiness</td>\n",
       "      <td>이제 재수생활 끝이다</td>\n",
       "      <td>[이제 재수 생활 끝이다]</td>\n",
       "      <td>[이제 재수 생활 끝이다]</td>\n",
       "    </tr>\n",
       "    <tr>\n",
       "      <th>4</th>\n",
       "      <td>엄마 이제 어깨 펴고 다녀 나 붙었어</td>\n",
       "      <td>Happiness</td>\n",
       "      <td>엄마 이제 어깨 펴고 다녀 나 붙었어</td>\n",
       "      <td>[엄마 이 제 어깨 펴고 다녀 나 붙었어]</td>\n",
       "      <td>[엄마 이제 어깨 펴고 다녀 나붙었어]</td>\n",
       "    </tr>\n",
       "    <tr>\n",
       "      <th>...</th>\n",
       "      <td>...</td>\n",
       "      <td>...</td>\n",
       "      <td>...</td>\n",
       "      <td>...</td>\n",
       "      <td>...</td>\n",
       "    </tr>\n",
       "    <tr>\n",
       "      <th>122125</th>\n",
       "      <td>기자의 정체성이 무슨 소용이야 다 쓸모 없어 부질없어 알아주지도 않잖아</td>\n",
       "      <td>Sadness</td>\n",
       "      <td>기자의 정체성이 무슨 소용이야 다 쓸모 없어 부질없어 알아주지도 않잖아</td>\n",
       "      <td>[기자의 정체성이 무슨 소용 이야 다 쓸 모 없어 부질없어 알아주지도 않잖아]</td>\n",
       "      <td>[기자의 정체성이 무슨 소용이야 다 쓸모없어 부질없어 알아주지도 않잖아]</td>\n",
       "    </tr>\n",
       "    <tr>\n",
       "      <th>122126</th>\n",
       "      <td>이러다가 가짜 뉴스인 거 들키기라도 하면 너는 그대로 모가지야</td>\n",
       "      <td>Angry</td>\n",
       "      <td>이러다가 가짜 뉴스인 거 들키기라도 하면 너는 그대로 모가지야</td>\n",
       "      <td>[이러다가 가짜 뉴스인 거 들 키기라도 하면 너는 그대로 모가 지야]</td>\n",
       "      <td>[이러다가 가짜 뉴스 인 거 들 키기라도 하면 너는 그대로 모가 지야]</td>\n",
       "    </tr>\n",
       "    <tr>\n",
       "      <th>122127</th>\n",
       "      <td>누가 들킨대? 너만 입 다물고 있으면 세상 사람들 아무도 몰라</td>\n",
       "      <td>Angry</td>\n",
       "      <td>누가 들킨대  너만 입 다물고 있으면 세상 사람들 아무도 몰라</td>\n",
       "      <td>[누가 들킨 대 너만 입 다물고 있으면 세상 사람들 아무도 몰라]</td>\n",
       "      <td>[누가 들킨 대 너만 입 다물고 있으면 세상 사람들 아무도 몰라]</td>\n",
       "    </tr>\n",
       "    <tr>\n",
       "      <th>122128</th>\n",
       "      <td>나는 정의의 수호자로서 꼭 올바름을 실현할 거야 기대하도록 해 정의는 언제나 승리한다고</td>\n",
       "      <td>Neutral</td>\n",
       "      <td>나는 정의의 수호자로서 꼭 올바름을 실현할 거야 기대하도록 해 정의는 언제나 승리한다고</td>\n",
       "      <td>[나는 정의의 수호자로서 꼭 올바름을 실현할 거야 기대하도록 해 정의는 언제나 승리...</td>\n",
       "      <td>[나는 정의의 수호자로서 꼭 올바름을 실현할 거야 기대하도록 해 정의는 언제나 승리...</td>\n",
       "    </tr>\n",
       "    <tr>\n",
       "      <th>122129</th>\n",
       "      <td>이 세상에 정의 따위는 필요 없어 니 입맛대로 살다가는 쫄딱 망할 걸</td>\n",
       "      <td>Angry</td>\n",
       "      <td>이 세상에 정의 따위는 필요 없어 니 입맛대로 살다가는 쫄딱 망할 걸</td>\n",
       "      <td>[이 세상에 정의 따위는 필요 없어 니 입맛대로 살다가는 쫄딱 망할 걸]</td>\n",
       "      <td>[이 세상에 정의 따위는 필요 없어 네 입맛대로 살다가는 쫄딱 망할 걸]</td>\n",
       "    </tr>\n",
       "  </tbody>\n",
       "</table>\n",
       "<p>122130 rows × 5 columns</p>\n",
       "</div>"
      ],
      "text/plain": [
       "                                                    Text      Label  \\\n",
       "0                                   이거 정말 내 취향인데 역시 내 남친  Happiness   \n",
       "1                                      이거 엄청 비싼건데 너무 고마워  Happiness   \n",
       "2                        이거 내가 갖고 싶었던 건지 어떻게 알았어 정말 센스쟁이  Happiness   \n",
       "3                                            이제 재수생활 끝이다  Happiness   \n",
       "4                                   엄마 이제 어깨 펴고 다녀 나 붙었어  Happiness   \n",
       "...                                                  ...        ...   \n",
       "122125          기자의 정체성이 무슨 소용이야 다 쓸모 없어 부질없어 알아주지도 않잖아     Sadness   \n",
       "122126                이러다가 가짜 뉴스인 거 들키기라도 하면 너는 그대로 모가지야      Angry   \n",
       "122127                누가 들킨대? 너만 입 다물고 있으면 세상 사람들 아무도 몰라      Angry   \n",
       "122128  나는 정의의 수호자로서 꼭 올바름을 실현할 거야 기대하도록 해 정의는 언제나 승리한다고    Neutral   \n",
       "122129            이 세상에 정의 따위는 필요 없어 니 입맛대로 살다가는 쫄딱 망할 걸      Angry   \n",
       "\n",
       "                                            text_content  \\\n",
       "0                                   이거 정말 내 취향인데 역시 내 남친   \n",
       "1                                      이거 엄청 비싼건데 너무 고마워   \n",
       "2                        이거 내가 갖고 싶었던 건지 어떻게 알았어 정말 센스쟁이   \n",
       "3                                            이제 재수생활 끝이다   \n",
       "4                                   엄마 이제 어깨 펴고 다녀 나 붙었어   \n",
       "...                                                  ...   \n",
       "122125          기자의 정체성이 무슨 소용이야 다 쓸모 없어 부질없어 알아주지도 않잖아    \n",
       "122126                이러다가 가짜 뉴스인 거 들키기라도 하면 너는 그대로 모가지야   \n",
       "122127                누가 들킨대  너만 입 다물고 있으면 세상 사람들 아무도 몰라   \n",
       "122128  나는 정의의 수호자로서 꼭 올바름을 실현할 거야 기대하도록 해 정의는 언제나 승리한다고   \n",
       "122129            이 세상에 정의 따위는 필요 없어 니 입맛대로 살다가는 쫄딱 망할 걸   \n",
       "\n",
       "                                              content_sep  \\\n",
       "0                                 [이 거 정말 내 취향인데 역시 내 남친]   \n",
       "1                                   [이 거 엄청 비싼 건데 너무 고마워]   \n",
       "2                      [이 거 내가 갖고 싶었던 건지 어떻게 알았어 정말 센스쟁이]   \n",
       "3                                          [이제 재수 생활 끝이다]   \n",
       "4                                 [엄마 이 제 어깨 펴고 다녀 나 붙었어]   \n",
       "...                                                   ...   \n",
       "122125        [기자의 정체성이 무슨 소용 이야 다 쓸 모 없어 부질없어 알아주지도 않잖아]   \n",
       "122126             [이러다가 가짜 뉴스인 거 들 키기라도 하면 너는 그대로 모가 지야]   \n",
       "122127               [누가 들킨 대 너만 입 다물고 있으면 세상 사람들 아무도 몰라]   \n",
       "122128  [나는 정의의 수호자로서 꼭 올바름을 실현할 거야 기대하도록 해 정의는 언제나 승리...   \n",
       "122129           [이 세상에 정의 따위는 필요 없어 니 입맛대로 살다가는 쫄딱 망할 걸]   \n",
       "\n",
       "                                                content_p  \n",
       "0                                [이거 정말 내 취향인데 역시 내 남자친구]  \n",
       "1                                    [이거 엄청 비싼 건데 너무 고마워]  \n",
       "2                       [이거 내가 갖고 싶었던 건지 어떻게 알았어 정말 센스쟁이]  \n",
       "3                                          [이제 재수 생활 끝이다]  \n",
       "4                                   [엄마 이제 어깨 펴고 다녀 나붙었어]  \n",
       "...                                                   ...  \n",
       "122125           [기자의 정체성이 무슨 소용이야 다 쓸모없어 부질없어 알아주지도 않잖아]  \n",
       "122126            [이러다가 가짜 뉴스 인 거 들 키기라도 하면 너는 그대로 모가 지야]  \n",
       "122127               [누가 들킨 대 너만 입 다물고 있으면 세상 사람들 아무도 몰라]  \n",
       "122128  [나는 정의의 수호자로서 꼭 올바름을 실현할 거야 기대하도록 해 정의는 언제나 승리...  \n",
       "122129           [이 세상에 정의 따위는 필요 없어 네 입맛대로 살다가는 쫄딱 망할 걸]  \n",
       "\n",
       "[122130 rows x 5 columns]"
      ]
     },
     "execution_count": 6,
     "metadata": {},
     "output_type": "execute_result"
    }
   ],
   "source": [
    "# with open('preprocessed_SA_pre_형태소','rb') as fr:\n",
    "#   df = pickle.load(fr)\n",
    "# df"
   ]
  },
  {
   "cell_type": "markdown",
   "metadata": {},
   "source": [
    "# 형태소 분석"
   ]
  },
  {
   "cell_type": "code",
   "execution_count": 7,
   "metadata": {},
   "outputs": [],
   "source": [
    "#!pip install konlpy\n",
    "from konlpy.tag import Okt"
   ]
  },
  {
   "cell_type": "code",
   "execution_count": 8,
   "metadata": {},
   "outputs": [
    {
     "data": {
      "text/html": [
       "<div>\n",
       "<style scoped>\n",
       "    .dataframe tbody tr th:only-of-type {\n",
       "        vertical-align: middle;\n",
       "    }\n",
       "\n",
       "    .dataframe tbody tr th {\n",
       "        vertical-align: top;\n",
       "    }\n",
       "\n",
       "    .dataframe thead th {\n",
       "        text-align: right;\n",
       "    }\n",
       "</style>\n",
       "<table border=\"1\" class=\"dataframe\">\n",
       "  <thead>\n",
       "    <tr style=\"text-align: right;\">\n",
       "      <th></th>\n",
       "      <th>Text</th>\n",
       "      <th>Label</th>\n",
       "      <th>text_content</th>\n",
       "      <th>content_sep</th>\n",
       "      <th>content_p</th>\n",
       "    </tr>\n",
       "  </thead>\n",
       "  <tbody>\n",
       "    <tr>\n",
       "      <th>0</th>\n",
       "      <td>이거 정말 내 취향인데 역시 내 남친</td>\n",
       "      <td>Happiness</td>\n",
       "      <td>이거 정말 내 취향인데 역시 내 남친</td>\n",
       "      <td>[이 거 정말 내 취향인데 역시 내 남친]</td>\n",
       "      <td>[이거 정말 내 취향인데 역시 내 남자친구]</td>\n",
       "    </tr>\n",
       "    <tr>\n",
       "      <th>1</th>\n",
       "      <td>이거 엄청 비싼건데 너무 고마워</td>\n",
       "      <td>Happiness</td>\n",
       "      <td>이거 엄청 비싼건데 너무 고마워</td>\n",
       "      <td>[이 거 엄청 비싼 건데 너무 고마워]</td>\n",
       "      <td>[이거 엄청 비싼 건데 너무 고마워]</td>\n",
       "    </tr>\n",
       "    <tr>\n",
       "      <th>2</th>\n",
       "      <td>이거 내가 갖고 싶었던 건지 어떻게 알았어 정말 센스쟁이</td>\n",
       "      <td>Happiness</td>\n",
       "      <td>이거 내가 갖고 싶었던 건지 어떻게 알았어 정말 센스쟁이</td>\n",
       "      <td>[이 거 내가 갖고 싶었던 건지 어떻게 알았어 정말 센스쟁이]</td>\n",
       "      <td>[이거 내가 갖고 싶었던 건지 어떻게 알았어 정말 센스쟁이]</td>\n",
       "    </tr>\n",
       "    <tr>\n",
       "      <th>3</th>\n",
       "      <td>이제 재수생활 끝이다</td>\n",
       "      <td>Happiness</td>\n",
       "      <td>이제 재수생활 끝이다</td>\n",
       "      <td>[이제 재수 생활 끝이다]</td>\n",
       "      <td>[이제 재수 생활 끝이다]</td>\n",
       "    </tr>\n",
       "    <tr>\n",
       "      <th>4</th>\n",
       "      <td>엄마 이제 어깨 펴고 다녀 나 붙었어</td>\n",
       "      <td>Happiness</td>\n",
       "      <td>엄마 이제 어깨 펴고 다녀 나 붙었어</td>\n",
       "      <td>[엄마 이 제 어깨 펴고 다녀 나 붙었어]</td>\n",
       "      <td>[엄마 이제 어깨 펴고 다녀 나붙었어]</td>\n",
       "    </tr>\n",
       "    <tr>\n",
       "      <th>...</th>\n",
       "      <td>...</td>\n",
       "      <td>...</td>\n",
       "      <td>...</td>\n",
       "      <td>...</td>\n",
       "      <td>...</td>\n",
       "    </tr>\n",
       "    <tr>\n",
       "      <th>122125</th>\n",
       "      <td>기자의 정체성이 무슨 소용이야 다 쓸모 없어 부질없어 알아주지도 않잖아</td>\n",
       "      <td>Sadness</td>\n",
       "      <td>기자의 정체성이 무슨 소용이야 다 쓸모 없어 부질없어 알아주지도 않잖아</td>\n",
       "      <td>[기자의 정체성이 무슨 소용 이야 다 쓸 모 없어 부질없어 알아주지도 않잖아]</td>\n",
       "      <td>[기자의 정체성이 무슨 소용이야 다 쓸모없어 부질없어 알아주지도 않잖아]</td>\n",
       "    </tr>\n",
       "    <tr>\n",
       "      <th>122126</th>\n",
       "      <td>이러다가 가짜 뉴스인 거 들키기라도 하면 너는 그대로 모가지야</td>\n",
       "      <td>Angry</td>\n",
       "      <td>이러다가 가짜 뉴스인 거 들키기라도 하면 너는 그대로 모가지야</td>\n",
       "      <td>[이러다가 가짜 뉴스인 거 들 키기라도 하면 너는 그대로 모가 지야]</td>\n",
       "      <td>[이러다가 가짜 뉴스 인 거 들 키기라도 하면 너는 그대로 모가 지야]</td>\n",
       "    </tr>\n",
       "    <tr>\n",
       "      <th>122127</th>\n",
       "      <td>누가 들킨대? 너만 입 다물고 있으면 세상 사람들 아무도 몰라</td>\n",
       "      <td>Angry</td>\n",
       "      <td>누가 들킨대  너만 입 다물고 있으면 세상 사람들 아무도 몰라</td>\n",
       "      <td>[누가 들킨 대 너만 입 다물고 있으면 세상 사람들 아무도 몰라]</td>\n",
       "      <td>[누가 들킨 대 너만 입 다물고 있으면 세상 사람들 아무도 몰라]</td>\n",
       "    </tr>\n",
       "    <tr>\n",
       "      <th>122128</th>\n",
       "      <td>나는 정의의 수호자로서 꼭 올바름을 실현할 거야 기대하도록 해 정의는 언제나 승리한다고</td>\n",
       "      <td>Neutral</td>\n",
       "      <td>나는 정의의 수호자로서 꼭 올바름을 실현할 거야 기대하도록 해 정의는 언제나 승리한다고</td>\n",
       "      <td>[나는 정의의 수호자로서 꼭 올바름을 실현할 거야 기대하도록 해 정의는 언제나 승리...</td>\n",
       "      <td>[나는 정의의 수호자로서 꼭 올바름을 실현할 거야 기대하도록 해 정의는 언제나 승리...</td>\n",
       "    </tr>\n",
       "    <tr>\n",
       "      <th>122129</th>\n",
       "      <td>이 세상에 정의 따위는 필요 없어 니 입맛대로 살다가는 쫄딱 망할 걸</td>\n",
       "      <td>Angry</td>\n",
       "      <td>이 세상에 정의 따위는 필요 없어 니 입맛대로 살다가는 쫄딱 망할 걸</td>\n",
       "      <td>[이 세상에 정의 따위는 필요 없어 니 입맛대로 살다가는 쫄딱 망할 걸]</td>\n",
       "      <td>[이 세상에 정의 따위는 필요 없어 네 입맛대로 살다가는 쫄딱 망할 걸]</td>\n",
       "    </tr>\n",
       "  </tbody>\n",
       "</table>\n",
       "<p>122130 rows × 5 columns</p>\n",
       "</div>"
      ],
      "text/plain": [
       "                                                    Text      Label  \\\n",
       "0                                   이거 정말 내 취향인데 역시 내 남친  Happiness   \n",
       "1                                      이거 엄청 비싼건데 너무 고마워  Happiness   \n",
       "2                        이거 내가 갖고 싶었던 건지 어떻게 알았어 정말 센스쟁이  Happiness   \n",
       "3                                            이제 재수생활 끝이다  Happiness   \n",
       "4                                   엄마 이제 어깨 펴고 다녀 나 붙었어  Happiness   \n",
       "...                                                  ...        ...   \n",
       "122125          기자의 정체성이 무슨 소용이야 다 쓸모 없어 부질없어 알아주지도 않잖아     Sadness   \n",
       "122126                이러다가 가짜 뉴스인 거 들키기라도 하면 너는 그대로 모가지야      Angry   \n",
       "122127                누가 들킨대? 너만 입 다물고 있으면 세상 사람들 아무도 몰라      Angry   \n",
       "122128  나는 정의의 수호자로서 꼭 올바름을 실현할 거야 기대하도록 해 정의는 언제나 승리한다고    Neutral   \n",
       "122129            이 세상에 정의 따위는 필요 없어 니 입맛대로 살다가는 쫄딱 망할 걸      Angry   \n",
       "\n",
       "                                            text_content  \\\n",
       "0                                   이거 정말 내 취향인데 역시 내 남친   \n",
       "1                                      이거 엄청 비싼건데 너무 고마워   \n",
       "2                        이거 내가 갖고 싶었던 건지 어떻게 알았어 정말 센스쟁이   \n",
       "3                                            이제 재수생활 끝이다   \n",
       "4                                   엄마 이제 어깨 펴고 다녀 나 붙었어   \n",
       "...                                                  ...   \n",
       "122125          기자의 정체성이 무슨 소용이야 다 쓸모 없어 부질없어 알아주지도 않잖아    \n",
       "122126                이러다가 가짜 뉴스인 거 들키기라도 하면 너는 그대로 모가지야   \n",
       "122127                누가 들킨대  너만 입 다물고 있으면 세상 사람들 아무도 몰라   \n",
       "122128  나는 정의의 수호자로서 꼭 올바름을 실현할 거야 기대하도록 해 정의는 언제나 승리한다고   \n",
       "122129            이 세상에 정의 따위는 필요 없어 니 입맛대로 살다가는 쫄딱 망할 걸   \n",
       "\n",
       "                                              content_sep  \\\n",
       "0                                 [이 거 정말 내 취향인데 역시 내 남친]   \n",
       "1                                   [이 거 엄청 비싼 건데 너무 고마워]   \n",
       "2                      [이 거 내가 갖고 싶었던 건지 어떻게 알았어 정말 센스쟁이]   \n",
       "3                                          [이제 재수 생활 끝이다]   \n",
       "4                                 [엄마 이 제 어깨 펴고 다녀 나 붙었어]   \n",
       "...                                                   ...   \n",
       "122125        [기자의 정체성이 무슨 소용 이야 다 쓸 모 없어 부질없어 알아주지도 않잖아]   \n",
       "122126             [이러다가 가짜 뉴스인 거 들 키기라도 하면 너는 그대로 모가 지야]   \n",
       "122127               [누가 들킨 대 너만 입 다물고 있으면 세상 사람들 아무도 몰라]   \n",
       "122128  [나는 정의의 수호자로서 꼭 올바름을 실현할 거야 기대하도록 해 정의는 언제나 승리...   \n",
       "122129           [이 세상에 정의 따위는 필요 없어 니 입맛대로 살다가는 쫄딱 망할 걸]   \n",
       "\n",
       "                                                content_p  \n",
       "0                                [이거 정말 내 취향인데 역시 내 남자친구]  \n",
       "1                                    [이거 엄청 비싼 건데 너무 고마워]  \n",
       "2                       [이거 내가 갖고 싶었던 건지 어떻게 알았어 정말 센스쟁이]  \n",
       "3                                          [이제 재수 생활 끝이다]  \n",
       "4                                   [엄마 이제 어깨 펴고 다녀 나붙었어]  \n",
       "...                                                   ...  \n",
       "122125           [기자의 정체성이 무슨 소용이야 다 쓸모없어 부질없어 알아주지도 않잖아]  \n",
       "122126            [이러다가 가짜 뉴스 인 거 들 키기라도 하면 너는 그대로 모가 지야]  \n",
       "122127               [누가 들킨 대 너만 입 다물고 있으면 세상 사람들 아무도 몰라]  \n",
       "122128  [나는 정의의 수호자로서 꼭 올바름을 실현할 거야 기대하도록 해 정의는 언제나 승리...  \n",
       "122129           [이 세상에 정의 따위는 필요 없어 네 입맛대로 살다가는 쫄딱 망할 걸]  \n",
       "\n",
       "[122130 rows x 5 columns]"
      ]
     },
     "execution_count": 8,
     "metadata": {},
     "output_type": "execute_result"
    }
   ],
   "source": [
    "with open('preprocessed_SA_pre_형태소','rb') as fr:\n",
    "  df = pickle.load(fr)\n",
    "df"
   ]
  },
  {
   "cell_type": "code",
   "execution_count": 9,
   "metadata": {},
   "outputs": [],
   "source": [
    "from konlpy.tag import Okt  \n",
    "okt=Okt()  \n",
    "\n",
    "def pos_tagging(sent_list):\n",
    "    sent_tokens=[]\n",
    "    for sentence in sent_list:\n",
    "        sent_tokens.append(okt.pos(sentence))\n",
    "    return(sent_tokens)\n",
    "\n",
    "df['content_p']=df['content_p'].apply(lambda x: pos_tagging(x))"
   ]
  },
  {
   "cell_type": "code",
   "execution_count": 10,
   "metadata": {},
   "outputs": [
    {
     "data": {
      "text/html": [
       "<div>\n",
       "<style scoped>\n",
       "    .dataframe tbody tr th:only-of-type {\n",
       "        vertical-align: middle;\n",
       "    }\n",
       "\n",
       "    .dataframe tbody tr th {\n",
       "        vertical-align: top;\n",
       "    }\n",
       "\n",
       "    .dataframe thead th {\n",
       "        text-align: right;\n",
       "    }\n",
       "</style>\n",
       "<table border=\"1\" class=\"dataframe\">\n",
       "  <thead>\n",
       "    <tr style=\"text-align: right;\">\n",
       "      <th></th>\n",
       "      <th>Text</th>\n",
       "      <th>Label</th>\n",
       "      <th>text_content</th>\n",
       "      <th>content_sep</th>\n",
       "      <th>content_p</th>\n",
       "    </tr>\n",
       "  </thead>\n",
       "  <tbody>\n",
       "    <tr>\n",
       "      <th>0</th>\n",
       "      <td>이거 정말 내 취향인데 역시 내 남친</td>\n",
       "      <td>Happiness</td>\n",
       "      <td>이거 정말 내 취향인데 역시 내 남친</td>\n",
       "      <td>[이 거 정말 내 취향인데 역시 내 남친]</td>\n",
       "      <td>[[(이, Determiner), (거, Noun), (정말, Noun), (내, ...</td>\n",
       "    </tr>\n",
       "    <tr>\n",
       "      <th>1</th>\n",
       "      <td>이거 엄청 비싼건데 너무 고마워</td>\n",
       "      <td>Happiness</td>\n",
       "      <td>이거 엄청 비싼건데 너무 고마워</td>\n",
       "      <td>[이 거 엄청 비싼 건데 너무 고마워]</td>\n",
       "      <td>[[(이, Determiner), (거, Noun), (엄청, Adverb), (비...</td>\n",
       "    </tr>\n",
       "    <tr>\n",
       "      <th>2</th>\n",
       "      <td>이거 내가 갖고 싶었던 건지 어떻게 알았어 정말 센스쟁이</td>\n",
       "      <td>Happiness</td>\n",
       "      <td>이거 내가 갖고 싶었던 건지 어떻게 알았어 정말 센스쟁이</td>\n",
       "      <td>[이 거 내가 갖고 싶었던 건지 어떻게 알았어 정말 센스쟁이]</td>\n",
       "      <td>[[(이, Determiner), (거, Noun), (내, Noun), (가, J...</td>\n",
       "    </tr>\n",
       "    <tr>\n",
       "      <th>3</th>\n",
       "      <td>이제 재수생활 끝이다</td>\n",
       "      <td>Happiness</td>\n",
       "      <td>이제 재수생활 끝이다</td>\n",
       "      <td>[이제 재수 생활 끝이다]</td>\n",
       "      <td>[[(이제, Noun), (재수, Noun), (생활, Noun), (끝, Noun...</td>\n",
       "    </tr>\n",
       "    <tr>\n",
       "      <th>4</th>\n",
       "      <td>엄마 이제 어깨 펴고 다녀 나 붙었어</td>\n",
       "      <td>Happiness</td>\n",
       "      <td>엄마 이제 어깨 펴고 다녀 나 붙었어</td>\n",
       "      <td>[엄마 이 제 어깨 펴고 다녀 나 붙었어]</td>\n",
       "      <td>[[(엄마, Noun), (이제, Noun), (어깨, Noun), (펴고, Ver...</td>\n",
       "    </tr>\n",
       "  </tbody>\n",
       "</table>\n",
       "</div>"
      ],
      "text/plain": [
       "                              Text      Label  \\\n",
       "0             이거 정말 내 취향인데 역시 내 남친  Happiness   \n",
       "1                이거 엄청 비싼건데 너무 고마워  Happiness   \n",
       "2  이거 내가 갖고 싶었던 건지 어떻게 알았어 정말 센스쟁이  Happiness   \n",
       "3                      이제 재수생활 끝이다  Happiness   \n",
       "4             엄마 이제 어깨 펴고 다녀 나 붙었어  Happiness   \n",
       "\n",
       "                      text_content                         content_sep  \\\n",
       "0             이거 정말 내 취향인데 역시 내 남친             [이 거 정말 내 취향인데 역시 내 남친]   \n",
       "1                이거 엄청 비싼건데 너무 고마워               [이 거 엄청 비싼 건데 너무 고마워]   \n",
       "2  이거 내가 갖고 싶었던 건지 어떻게 알았어 정말 센스쟁이  [이 거 내가 갖고 싶었던 건지 어떻게 알았어 정말 센스쟁이]   \n",
       "3                      이제 재수생활 끝이다                      [이제 재수 생활 끝이다]   \n",
       "4             엄마 이제 어깨 펴고 다녀 나 붙었어             [엄마 이 제 어깨 펴고 다녀 나 붙었어]   \n",
       "\n",
       "                                           content_p  \n",
       "0  [[(이, Determiner), (거, Noun), (정말, Noun), (내, ...  \n",
       "1  [[(이, Determiner), (거, Noun), (엄청, Adverb), (비...  \n",
       "2  [[(이, Determiner), (거, Noun), (내, Noun), (가, J...  \n",
       "3  [[(이제, Noun), (재수, Noun), (생활, Noun), (끝, Noun...  \n",
       "4  [[(엄마, Noun), (이제, Noun), (어깨, Noun), (펴고, Ver...  "
      ]
     },
     "execution_count": 10,
     "metadata": {},
     "output_type": "execute_result"
    }
   ],
   "source": [
    "df.head()"
   ]
  },
  {
   "cell_type": "code",
   "execution_count": 11,
   "metadata": {},
   "outputs": [],
   "source": [
    "\n",
    "# 명사, 동사, 형용사만 추출. 어미, 조사등은 배제.\n",
    "\n",
    "def n_v_a_selection(sent_list):    \n",
    "    sent_tokens=[]\n",
    "    for sentence in sent_list:\n",
    "        new_sent=[]\n",
    "        for token in sentence:\n",
    "            if (token[1]=='Noun' or token[1]=='Adjective' or token[1]=='Verb'):\n",
    "                new_sent.append(token)\n",
    "        sent_tokens.append(new_sent)\n",
    "    return(sent_tokens)\n",
    "\n",
    "df['content_p']=df['content_p'].apply(lambda x: n_v_a_selection(x))\n"
   ]
  },
  {
   "cell_type": "code",
   "execution_count": 12,
   "metadata": {},
   "outputs": [],
   "source": [
    "\n",
    "# 표제어 추출\n",
    "#pip install soylemma \n",
    "from soylemma import Lemmatizer\n",
    "\n",
    "lemmatizer = Lemmatizer()\n",
    "\n",
    "def lemma(sent_list):\n",
    "    sent_stems=[]\n",
    "    for sentence in sent_list:\n",
    "        new_sent=[]\n",
    "        for token in sentence:\n",
    "            if (token[1]=='Adjective')|(token[1]=='Verb'): #명사는 필요 없음.\n",
    "                stem_result=lemmatizer.lemmatize(token[0])\n",
    "                if len(stem_result)!=0:              # 빈 리스트가 반환되는 경우 제외\n",
    "                    new_sent.append(stem_result[0])  # 결과 중 맨 앞에 것만 추가\n",
    "            else:\n",
    "                new_sent.append(token)\n",
    "                    \n",
    "        sent_stems.append(new_sent)\n",
    "    return(sent_stems)\n",
    "            \n",
    "df['content_p']=df['content_p'].apply(lambda x: lemma(x))\n"
   ]
  },
  {
   "cell_type": "code",
   "execution_count": 13,
   "metadata": {},
   "outputs": [
    {
     "data": {
      "text/plain": [
       "0         [[(거, Noun), (정말, Noun), (내, Noun), (취향, Noun)...\n",
       "1         [[(거, Noun), (비싸다, Adjective), (고맙다, Adjective)]]\n",
       "2         [[(거, Noun), (내, Noun), (갖다, Verb), (싶다, Verb)...\n",
       "3         [[(이제, Noun), (재수, Noun), (생활, Noun), (끝, Noun)]]\n",
       "4         [[(엄마, Noun), (이제, Noun), (어깨, Noun), (펴다, Ver...\n",
       "                                ...                        \n",
       "122125    [[(기자, Noun), (정체, Noun), (무슨, Noun), (소용, Nou...\n",
       "122126    [[(가짜, Noun), (뉴스, Noun), (인, Noun), (거, Noun)...\n",
       "122127    [[(누가, Noun), (들키다, Verb), (대다, Verb), (너, Nou...\n",
       "122128    [[(나, Noun), (정의, Noun), (수호, Noun), (로서, Noun...\n",
       "122129    [[(이, Noun), (세상, Noun), (정의, Noun), (따위, Noun...\n",
       "Name: content_p, Length: 122130, dtype: object"
      ]
     },
     "execution_count": 13,
     "metadata": {},
     "output_type": "execute_result"
    }
   ],
   "source": [
    "df['content_p']"
   ]
  },
  {
   "cell_type": "code",
   "execution_count": 14,
   "metadata": {},
   "outputs": [],
   "source": [
    "#stopwords 전에 저장\n",
    "pkl_name = 'preprocessed_SA_pre_stopwords'\n",
    "with open(pkl_name,'wb') as fw:\n",
    "  pickle.dump(df,fw)\n"
   ]
  },
  {
   "cell_type": "markdown",
   "metadata": {},
   "source": [
    "# stop words 지우기 check point"
   ]
  },
  {
   "cell_type": "code",
   "execution_count": 15,
   "metadata": {
    "tags": []
   },
   "outputs": [],
   "source": [
    "\n",
    "with open('preprocessed_SA_pre_stopwords','rb') as fr:\n",
    "  df = pickle.load(fr)\n",
    "df.reset_index(drop = True, inplace = True)"
   ]
  },
  {
   "cell_type": "code",
   "execution_count": 122,
   "metadata": {},
   "outputs": [],
   "source": [
    "#df['content_p'].loc[22209]"
   ]
  },
  {
   "cell_type": "markdown",
   "metadata": {},
   "source": [
    "# Stopwords 제거.\n",
    "\n"
   ]
  },
  {
   "cell_type": "code",
   "execution_count": 16,
   "metadata": {},
   "outputs": [],
   "source": [
    "#분석시에는 추가\n",
    "def rem_stopwords(sent_list):\n",
    "    stopwords=[('이','Noun'), ('거','Noun'),('오','Noun'), ('것','Noun'),('있다','Adjective'),('있다', 'Verb'),\\\n",
    "               ('하다','Adjective'),('하다','Verb'),('보다','Verb'),('아니다','Adjective'),('내', 'Noun'),('안녕', 'Noun'),\\\n",
    "              ('요', 'Noun'),('되다', 'Verb'),('제', 'Noun'),('이다', 'Adjective'),\\\n",
    "              ('같다', 'Adjective'),('때', 'Noun'),('저', 'Noun'),('좀', 'Noun')]\n",
    "    sent_stop=[]\n",
    "    for sentence in sent_list:\n",
    "        new_sent=[]\n",
    "        for token in sentence:\n",
    "            if token not in stopwords:\n",
    "                new_sent.append(token)\n",
    "        sent_stop.append(new_sent)\n",
    "    return(sent_stop)\n",
    "   \n",
    "df['content_p']=df['content_p'].apply(lambda x: rem_stopwords(x))"
   ]
  },
  {
   "cell_type": "code",
   "execution_count": 17,
   "metadata": {},
   "outputs": [],
   "source": [
    "\n",
    "# pos 태그 제거\n",
    "def rem_tag(sent_list):\n",
    "    sent_final=[]\n",
    "    for sentence in sent_list:\n",
    "        new_sent=[]\n",
    "        for token in sentence:\n",
    "            new_sent.append(token[0])\n",
    "        sent_final.append(new_sent)\n",
    "    return(sent_final)\n",
    "\n",
    "#review_df['comment_n']=review_df['comment_n'].apply(lambda x: rem_tag(x))\n",
    "\n",
    "   \n",
    "df['content_p']=df['content_p'].apply(lambda x: rem_tag(x))"
   ]
  },
  {
   "cell_type": "code",
   "execution_count": null,
   "metadata": {},
   "outputs": [],
   "source": [
    "df['content_p']"
   ]
  },
  {
   "cell_type": "code",
   "execution_count": 18,
   "metadata": {},
   "outputs": [],
   "source": [
    "# one list로 만들기\n",
    "\n",
    "def one_word_list(sent_list):\n",
    "    one_list=[]\n",
    "    for sentence in sent_list:\n",
    "        one_list.extend(sentence)\n",
    "    return(one_list)\n",
    "\n",
    "\n",
    "   \n",
    "df['content_p']=df['content_p'].apply(lambda x: one_word_list(x))"
   ]
  },
  {
   "cell_type": "code",
   "execution_count": 19,
   "metadata": {},
   "outputs": [
    {
     "data": {
      "text/plain": [
       "0                                    [정말, 취향, 역시, 남자친구]\n",
       "1                                            [비싸다, 고맙다]\n",
       "2                         [갖다, 싶다, 걸다, 어떻다, 알다, 정말, 센스]\n",
       "3                                       [이제, 재수, 생활, 끝]\n",
       "4                                 [엄마, 이제, 어깨, 펴다, 다니다]\n",
       "                              ...                      \n",
       "122125                       [기자, 정체, 무슨, 소용, 알아주다, 않다]\n",
       "122126               [가짜, 뉴스, 인, 들다, 키기, 너, 그대로, 모, 지다]\n",
       "122127         [누가, 들키다, 대다, 너, 입, 다물다, 세상, 사람, 아무, 몰다]\n",
       "122128          [나, 정의, 수호, 로서, 꼭, 올바르다, 실현, 해, 정의, 승리]\n",
       "122129    [세상, 정의, 따위, 필요, 없다, 네, 입맛, 살다가다, 쫄딱, 망하다, 걸]\n",
       "Name: content_p, Length: 122130, dtype: object"
      ]
     },
     "execution_count": 19,
     "metadata": {},
     "output_type": "execute_result"
    }
   ],
   "source": [
    "df['content_p']"
   ]
  },
  {
   "cell_type": "markdown",
   "metadata": {},
   "source": [
    "preprocessing 완료."
   ]
  },
  {
   "cell_type": "code",
   "execution_count": 20,
   "metadata": {},
   "outputs": [],
   "source": [
    "#df.to_csv('preprocessed_SA.csv')\n",
    "with open(\"preprocessed_SA\",\"wb\") as fw:\n",
    "    pickle.dump(df,fw)\n"
   ]
  },
  {
   "cell_type": "code",
   "execution_count": 22,
   "metadata": {},
   "outputs": [],
   "source": [
    "with open(\"preprocessed_SA\",\"rb\") as fr:\n",
    "    df = pickle.load(fr)"
   ]
  }
 ],
 "metadata": {
  "kernelspec": {
   "display_name": "Python 3",
   "language": "python",
   "name": "python3"
  },
  "language_info": {
   "codemirror_mode": {
    "name": "ipython",
    "version": 3
   },
   "file_extension": ".py",
   "mimetype": "text/x-python",
   "name": "python",
   "nbconvert_exporter": "python",
   "pygments_lexer": "ipython3",
   "version": "3.8.8"
  }
 },
 "nbformat": 4,
 "nbformat_minor": 4
}
