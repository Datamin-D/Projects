{
  "nbformat": 4,
  "nbformat_minor": 0,
  "metadata": {
    "colab": {
      "name": "[LG data con] EDA & Model",
      "provenance": [],
      "collapsed_sections": [],
      "toc_visible": true,
      "authorship_tag": "ABX9TyPGfdU78MjFSlIIkOEFUMvq",
      "include_colab_link": true
    },
    "kernelspec": {
      "name": "python3",
      "display_name": "Python 3"
    }
  },
  "cells": [
    {
      "cell_type": "markdown",
      "metadata": {
        "id": "view-in-github",
        "colab_type": "text"
      },
      "source": [
        "<a href=\"https://colab.research.google.com/github/Datamin-D/Projects/blob/main/%5BLG_data_con%5D_EDA_%26_Model.ipynb\" target=\"_parent\"><img src=\"https://colab.research.google.com/assets/colab-badge.svg\" alt=\"Open In Colab\"/></a>"
      ]
    },
    {
      "cell_type": "markdown",
      "metadata": {
        "id": "_OtxaBQJSGHP"
      },
      "source": [
        "# 1.Loading Data "
      ]
    },
    {
      "cell_type": "code",
      "metadata": {
        "id": "UJytemQtTrSS",
        "colab": {
          "base_uri": "https://localhost:8080/"
        },
        "outputId": "fc32c7c9-69ee-46f4-a62c-060e75553563"
      },
      "source": [
        "#connecting gdrive\r\n",
        "\r\n",
        "from google.colab import drive\r\n",
        "drive.mount('/gdrive')"
      ],
      "execution_count": null,
      "outputs": [
        {
          "output_type": "stream",
          "text": [
            "Drive already mounted at /gdrive; to attempt to forcibly remount, call drive.mount(\"/gdrive\", force_remount=True).\n"
          ],
          "name": "stdout"
        }
      ]
    },
    {
      "cell_type": "code",
      "metadata": {
        "id": "MiM_WI0AS2ed"
      },
      "source": [
        "#libraries\r\n",
        "import pandas as pd\r\n",
        "import time\r\n",
        "import numpy as np\r\n",
        "import matplotlib.pyplot as plt\r\n",
        "%matplotlib inline\r\n",
        "import seaborn as sns\r\n",
        "color = sns.color_palette()\r\n"
      ],
      "execution_count": null,
      "outputs": []
    },
    {
      "cell_type": "code",
      "metadata": {
        "colab": {
          "base_uri": "https://localhost:8080/"
        },
        "id": "nELZfdsNSZUN",
        "outputId": "1a6e4fb5-aa5c-4594-d83d-baa5064f9cf8"
      },
      "source": [
        "# loading data\r\n",
        "sample_submission = pd.read_csv('/gdrive/MyDrive/대회, 프로젝트/LG data con/sample_submission.csv')\r\n",
        "test_err = pd.read_csv('/gdrive/MyDrive/대회, 프로젝트/LG data con/test_err_data.csv')\r\n",
        "test_quality = pd.read_csv('/gdrive/MyDrive/대회, 프로젝트/LG data con/test_quality_data.csv')\r\n",
        "train_err = pd.read_csv('/gdrive/MyDrive/대회, 프로젝트/LG data con/train_err_data.csv')\r\n",
        "train_problem = pd.read_csv('/gdrive/MyDrive/대회, 프로젝트/LG data con/train_problem_data.csv')\r\n",
        "train_quality = pd.read_csv('/gdrive/MyDrive/대회, 프로젝트/LG data con/train_quality_data.csv')"
      ],
      "execution_count": null,
      "outputs": [
        {
          "output_type": "stream",
          "text": [
            "/usr/local/lib/python3.6/dist-packages/IPython/core/interactiveshell.py:2718: DtypeWarning: Columns (4,11,12) have mixed types.Specify dtype option on import or set low_memory=False.\n",
            "  interactivity=interactivity, compiler=compiler, result=result)\n",
            "/usr/local/lib/python3.6/dist-packages/IPython/core/interactiveshell.py:2718: DtypeWarning: Columns (10,11,12) have mixed types.Specify dtype option on import or set low_memory=False.\n",
            "  interactivity=interactivity, compiler=compiler, result=result)\n"
          ],
          "name": "stderr"
        }
      ]
    },
    {
      "cell_type": "markdown",
      "metadata": {
        "id": "9TPhPYDDWXKx"
      },
      "source": [
        "# 2.Preprocessing"
      ]
    },
    {
      "cell_type": "markdown",
      "metadata": {
        "id": "OLcECTR1hFXq"
      },
      "source": [
        "## train_err, test_err"
      ]
    },
    {
      "cell_type": "code",
      "metadata": {
        "colab": {
          "base_uri": "https://localhost:8080/",
          "height": 407
        },
        "id": "5eJ-0Ealnc2B",
        "outputId": "f8a4ef6c-f4fd-4faf-d790-b87d2cfb3310"
      },
      "source": [
        "train_err"
      ],
      "execution_count": null,
      "outputs": [
        {
          "output_type": "execute_result",
          "data": {
            "text/html": [
              "<div>\n",
              "<style scoped>\n",
              "    .dataframe tbody tr th:only-of-type {\n",
              "        vertical-align: middle;\n",
              "    }\n",
              "\n",
              "    .dataframe tbody tr th {\n",
              "        vertical-align: top;\n",
              "    }\n",
              "\n",
              "    .dataframe thead th {\n",
              "        text-align: right;\n",
              "    }\n",
              "</style>\n",
              "<table border=\"1\" class=\"dataframe\">\n",
              "  <thead>\n",
              "    <tr style=\"text-align: right;\">\n",
              "      <th></th>\n",
              "      <th>user_id</th>\n",
              "      <th>time</th>\n",
              "      <th>model_nm</th>\n",
              "      <th>fwver</th>\n",
              "      <th>errtype</th>\n",
              "      <th>errcode</th>\n",
              "    </tr>\n",
              "  </thead>\n",
              "  <tbody>\n",
              "    <tr>\n",
              "      <th>0</th>\n",
              "      <td>10000</td>\n",
              "      <td>20201101025616</td>\n",
              "      <td>model_3</td>\n",
              "      <td>05.15.2138</td>\n",
              "      <td>15</td>\n",
              "      <td>1</td>\n",
              "    </tr>\n",
              "    <tr>\n",
              "      <th>1</th>\n",
              "      <td>10000</td>\n",
              "      <td>20201101030309</td>\n",
              "      <td>model_3</td>\n",
              "      <td>05.15.2138</td>\n",
              "      <td>12</td>\n",
              "      <td>1</td>\n",
              "    </tr>\n",
              "    <tr>\n",
              "      <th>2</th>\n",
              "      <td>10000</td>\n",
              "      <td>20201101030309</td>\n",
              "      <td>model_3</td>\n",
              "      <td>05.15.2138</td>\n",
              "      <td>11</td>\n",
              "      <td>1</td>\n",
              "    </tr>\n",
              "    <tr>\n",
              "      <th>3</th>\n",
              "      <td>10000</td>\n",
              "      <td>20201101050514</td>\n",
              "      <td>model_3</td>\n",
              "      <td>05.15.2138</td>\n",
              "      <td>16</td>\n",
              "      <td>1</td>\n",
              "    </tr>\n",
              "    <tr>\n",
              "      <th>4</th>\n",
              "      <td>10000</td>\n",
              "      <td>20201101050515</td>\n",
              "      <td>model_3</td>\n",
              "      <td>05.15.2138</td>\n",
              "      <td>4</td>\n",
              "      <td>0</td>\n",
              "    </tr>\n",
              "    <tr>\n",
              "      <th>...</th>\n",
              "      <td>...</td>\n",
              "      <td>...</td>\n",
              "      <td>...</td>\n",
              "      <td>...</td>\n",
              "      <td>...</td>\n",
              "      <td>...</td>\n",
              "    </tr>\n",
              "    <tr>\n",
              "      <th>16554658</th>\n",
              "      <td>24999</td>\n",
              "      <td>20201130163051</td>\n",
              "      <td>model_3</td>\n",
              "      <td>05.15.2138</td>\n",
              "      <td>15</td>\n",
              "      <td>1</td>\n",
              "    </tr>\n",
              "    <tr>\n",
              "      <th>16554659</th>\n",
              "      <td>24999</td>\n",
              "      <td>20201130172625</td>\n",
              "      <td>model_3</td>\n",
              "      <td>05.15.2138</td>\n",
              "      <td>16</td>\n",
              "      <td>1</td>\n",
              "    </tr>\n",
              "    <tr>\n",
              "      <th>16554660</th>\n",
              "      <td>24999</td>\n",
              "      <td>20201130172625</td>\n",
              "      <td>model_3</td>\n",
              "      <td>05.15.2138</td>\n",
              "      <td>4</td>\n",
              "      <td>0</td>\n",
              "    </tr>\n",
              "    <tr>\n",
              "      <th>16554661</th>\n",
              "      <td>24999</td>\n",
              "      <td>20201130172631</td>\n",
              "      <td>model_3</td>\n",
              "      <td>05.15.2138</td>\n",
              "      <td>4</td>\n",
              "      <td>0</td>\n",
              "    </tr>\n",
              "    <tr>\n",
              "      <th>16554662</th>\n",
              "      <td>24999</td>\n",
              "      <td>20201130210625</td>\n",
              "      <td>model_3</td>\n",
              "      <td>05.15.2138</td>\n",
              "      <td>15</td>\n",
              "      <td>1</td>\n",
              "    </tr>\n",
              "  </tbody>\n",
              "</table>\n",
              "<p>16554663 rows × 6 columns</p>\n",
              "</div>"
            ],
            "text/plain": [
              "          user_id            time model_nm       fwver  errtype errcode\n",
              "0           10000  20201101025616  model_3  05.15.2138       15       1\n",
              "1           10000  20201101030309  model_3  05.15.2138       12       1\n",
              "2           10000  20201101030309  model_3  05.15.2138       11       1\n",
              "3           10000  20201101050514  model_3  05.15.2138       16       1\n",
              "4           10000  20201101050515  model_3  05.15.2138        4       0\n",
              "...           ...             ...      ...         ...      ...     ...\n",
              "16554658    24999  20201130163051  model_3  05.15.2138       15       1\n",
              "16554659    24999  20201130172625  model_3  05.15.2138       16       1\n",
              "16554660    24999  20201130172625  model_3  05.15.2138        4       0\n",
              "16554661    24999  20201130172631  model_3  05.15.2138        4       0\n",
              "16554662    24999  20201130210625  model_3  05.15.2138       15       1\n",
              "\n",
              "[16554663 rows x 6 columns]"
            ]
          },
          "metadata": {
            "tags": []
          },
          "execution_count": 8
        }
      ]
    },
    {
      "cell_type": "code",
      "metadata": {
        "id": "eJmLCaaSZPxe"
      },
      "source": [
        "# # time 컬럼 전처리 #datetime분석가능한 형태로.\r\n",
        "\r\n",
        "# # pandas datetime을 활용할 수 있는 형태로 바꿔주기\r\n",
        "# def divide_time(time):\r\n",
        "#   time = str(time)\r\n",
        "#   Year = time[:4]\r\n",
        "#   Month = time[4:6]\r\n",
        "#   Day = time[6:8]\r\n",
        "#   Hour = time[8:10]\r\n",
        "#   minute = time[10:12]\r\n",
        "#   second = time[12:]\r\n",
        "#   #print(Year+\"-\"+Month+\"-\"+Day+\" \"+Hour+\":\"+minute+\":\"+second)\r\n",
        "#   return Year+\"-\"+Month+\"-\"+Day+\" \"+Hour+\":\"+minute+\":\"+second\r\n",
        "#train_err['parsed_time']= train_err['time'].map(lambda x: divide_time(x))\r\n",
        "# 이럴필요 없음. pd.date_time(df['컬럼'],format = '') 쓰면됨.\r\n",
        "\r\n",
        "\r\n",
        "#train\r\n",
        "train_err\r\n",
        "train_err['parsed_time'] = pd.to_datetime(train_err['time'],format ='%Y%m%d%H%M%S') # format으로 datetime인지가능\r\n",
        "train_err.drop(['time'],axis = 1,inplace = True)\r\n",
        "#test도 \r\n",
        "test_err\r\n",
        "test_err['parsed_time'] = pd.to_datetime(test_err['time'],format ='%Y%m%d%H%M%S') \r\n",
        "test_err.drop(['time'],axis = 1,inplace = True)\r\n"
      ],
      "execution_count": null,
      "outputs": []
    },
    {
      "cell_type": "code",
      "metadata": {
        "id": "U93_vN2idJeY",
        "colab": {
          "base_uri": "https://localhost:8080/",
          "height": 324
        },
        "outputId": "eef24ccf-d1f4-4ded-bd45-b8707792026b"
      },
      "source": [
        "test_err.drop(['time'],axis = 1,inplace = True)"
      ],
      "execution_count": null,
      "outputs": [
        {
          "output_type": "error",
          "ename": "KeyError",
          "evalue": "ignored",
          "traceback": [
            "\u001b[0;31m---------------------------------------------------------------------------\u001b[0m",
            "\u001b[0;31mKeyError\u001b[0m                                  Traceback (most recent call last)",
            "\u001b[0;32m<ipython-input-10-f20272ca15a5>\u001b[0m in \u001b[0;36m<module>\u001b[0;34m()\u001b[0m\n\u001b[0;32m----> 1\u001b[0;31m \u001b[0mtest_err\u001b[0m\u001b[0;34m.\u001b[0m\u001b[0mdrop\u001b[0m\u001b[0;34m(\u001b[0m\u001b[0;34m[\u001b[0m\u001b[0;34m'time'\u001b[0m\u001b[0;34m]\u001b[0m\u001b[0;34m,\u001b[0m\u001b[0maxis\u001b[0m \u001b[0;34m=\u001b[0m \u001b[0;36m1\u001b[0m\u001b[0;34m,\u001b[0m\u001b[0minplace\u001b[0m \u001b[0;34m=\u001b[0m \u001b[0;32mTrue\u001b[0m\u001b[0;34m)\u001b[0m\u001b[0;34m\u001b[0m\u001b[0;34m\u001b[0m\u001b[0m\n\u001b[0m",
            "\u001b[0;32m/usr/local/lib/python3.6/dist-packages/pandas/core/frame.py\u001b[0m in \u001b[0;36mdrop\u001b[0;34m(self, labels, axis, index, columns, level, inplace, errors)\u001b[0m\n\u001b[1;32m   4172\u001b[0m             \u001b[0mlevel\u001b[0m\u001b[0;34m=\u001b[0m\u001b[0mlevel\u001b[0m\u001b[0;34m,\u001b[0m\u001b[0;34m\u001b[0m\u001b[0;34m\u001b[0m\u001b[0m\n\u001b[1;32m   4173\u001b[0m             \u001b[0minplace\u001b[0m\u001b[0;34m=\u001b[0m\u001b[0minplace\u001b[0m\u001b[0;34m,\u001b[0m\u001b[0;34m\u001b[0m\u001b[0;34m\u001b[0m\u001b[0m\n\u001b[0;32m-> 4174\u001b[0;31m             \u001b[0merrors\u001b[0m\u001b[0;34m=\u001b[0m\u001b[0merrors\u001b[0m\u001b[0;34m,\u001b[0m\u001b[0;34m\u001b[0m\u001b[0;34m\u001b[0m\u001b[0m\n\u001b[0m\u001b[1;32m   4175\u001b[0m         )\n\u001b[1;32m   4176\u001b[0m \u001b[0;34m\u001b[0m\u001b[0m\n",
            "\u001b[0;32m/usr/local/lib/python3.6/dist-packages/pandas/core/generic.py\u001b[0m in \u001b[0;36mdrop\u001b[0;34m(self, labels, axis, index, columns, level, inplace, errors)\u001b[0m\n\u001b[1;32m   3887\u001b[0m         \u001b[0;32mfor\u001b[0m \u001b[0maxis\u001b[0m\u001b[0;34m,\u001b[0m \u001b[0mlabels\u001b[0m \u001b[0;32min\u001b[0m \u001b[0maxes\u001b[0m\u001b[0;34m.\u001b[0m\u001b[0mitems\u001b[0m\u001b[0;34m(\u001b[0m\u001b[0;34m)\u001b[0m\u001b[0;34m:\u001b[0m\u001b[0;34m\u001b[0m\u001b[0;34m\u001b[0m\u001b[0m\n\u001b[1;32m   3888\u001b[0m             \u001b[0;32mif\u001b[0m \u001b[0mlabels\u001b[0m \u001b[0;32mis\u001b[0m \u001b[0;32mnot\u001b[0m \u001b[0;32mNone\u001b[0m\u001b[0;34m:\u001b[0m\u001b[0;34m\u001b[0m\u001b[0;34m\u001b[0m\u001b[0m\n\u001b[0;32m-> 3889\u001b[0;31m                 \u001b[0mobj\u001b[0m \u001b[0;34m=\u001b[0m \u001b[0mobj\u001b[0m\u001b[0;34m.\u001b[0m\u001b[0m_drop_axis\u001b[0m\u001b[0;34m(\u001b[0m\u001b[0mlabels\u001b[0m\u001b[0;34m,\u001b[0m \u001b[0maxis\u001b[0m\u001b[0;34m,\u001b[0m \u001b[0mlevel\u001b[0m\u001b[0;34m=\u001b[0m\u001b[0mlevel\u001b[0m\u001b[0;34m,\u001b[0m \u001b[0merrors\u001b[0m\u001b[0;34m=\u001b[0m\u001b[0merrors\u001b[0m\u001b[0;34m)\u001b[0m\u001b[0;34m\u001b[0m\u001b[0;34m\u001b[0m\u001b[0m\n\u001b[0m\u001b[1;32m   3890\u001b[0m \u001b[0;34m\u001b[0m\u001b[0m\n\u001b[1;32m   3891\u001b[0m         \u001b[0;32mif\u001b[0m \u001b[0minplace\u001b[0m\u001b[0;34m:\u001b[0m\u001b[0;34m\u001b[0m\u001b[0;34m\u001b[0m\u001b[0m\n",
            "\u001b[0;32m/usr/local/lib/python3.6/dist-packages/pandas/core/generic.py\u001b[0m in \u001b[0;36m_drop_axis\u001b[0;34m(self, labels, axis, level, errors)\u001b[0m\n\u001b[1;32m   3921\u001b[0m                 \u001b[0mnew_axis\u001b[0m \u001b[0;34m=\u001b[0m \u001b[0maxis\u001b[0m\u001b[0;34m.\u001b[0m\u001b[0mdrop\u001b[0m\u001b[0;34m(\u001b[0m\u001b[0mlabels\u001b[0m\u001b[0;34m,\u001b[0m \u001b[0mlevel\u001b[0m\u001b[0;34m=\u001b[0m\u001b[0mlevel\u001b[0m\u001b[0;34m,\u001b[0m \u001b[0merrors\u001b[0m\u001b[0;34m=\u001b[0m\u001b[0merrors\u001b[0m\u001b[0;34m)\u001b[0m\u001b[0;34m\u001b[0m\u001b[0;34m\u001b[0m\u001b[0m\n\u001b[1;32m   3922\u001b[0m             \u001b[0;32melse\u001b[0m\u001b[0;34m:\u001b[0m\u001b[0;34m\u001b[0m\u001b[0;34m\u001b[0m\u001b[0m\n\u001b[0;32m-> 3923\u001b[0;31m                 \u001b[0mnew_axis\u001b[0m \u001b[0;34m=\u001b[0m \u001b[0maxis\u001b[0m\u001b[0;34m.\u001b[0m\u001b[0mdrop\u001b[0m\u001b[0;34m(\u001b[0m\u001b[0mlabels\u001b[0m\u001b[0;34m,\u001b[0m \u001b[0merrors\u001b[0m\u001b[0;34m=\u001b[0m\u001b[0merrors\u001b[0m\u001b[0;34m)\u001b[0m\u001b[0;34m\u001b[0m\u001b[0;34m\u001b[0m\u001b[0m\n\u001b[0m\u001b[1;32m   3924\u001b[0m             \u001b[0mresult\u001b[0m \u001b[0;34m=\u001b[0m \u001b[0mself\u001b[0m\u001b[0;34m.\u001b[0m\u001b[0mreindex\u001b[0m\u001b[0;34m(\u001b[0m\u001b[0;34m**\u001b[0m\u001b[0;34m{\u001b[0m\u001b[0maxis_name\u001b[0m\u001b[0;34m:\u001b[0m \u001b[0mnew_axis\u001b[0m\u001b[0;34m}\u001b[0m\u001b[0;34m)\u001b[0m\u001b[0;34m\u001b[0m\u001b[0;34m\u001b[0m\u001b[0m\n\u001b[1;32m   3925\u001b[0m \u001b[0;34m\u001b[0m\u001b[0m\n",
            "\u001b[0;32m/usr/local/lib/python3.6/dist-packages/pandas/core/indexes/base.py\u001b[0m in \u001b[0;36mdrop\u001b[0;34m(self, labels, errors)\u001b[0m\n\u001b[1;32m   5285\u001b[0m         \u001b[0;32mif\u001b[0m \u001b[0mmask\u001b[0m\u001b[0;34m.\u001b[0m\u001b[0many\u001b[0m\u001b[0;34m(\u001b[0m\u001b[0;34m)\u001b[0m\u001b[0;34m:\u001b[0m\u001b[0;34m\u001b[0m\u001b[0;34m\u001b[0m\u001b[0m\n\u001b[1;32m   5286\u001b[0m             \u001b[0;32mif\u001b[0m \u001b[0merrors\u001b[0m \u001b[0;34m!=\u001b[0m \u001b[0;34m\"ignore\"\u001b[0m\u001b[0;34m:\u001b[0m\u001b[0;34m\u001b[0m\u001b[0;34m\u001b[0m\u001b[0m\n\u001b[0;32m-> 5287\u001b[0;31m                 \u001b[0;32mraise\u001b[0m \u001b[0mKeyError\u001b[0m\u001b[0;34m(\u001b[0m\u001b[0;34mf\"{labels[mask]} not found in axis\"\u001b[0m\u001b[0;34m)\u001b[0m\u001b[0;34m\u001b[0m\u001b[0;34m\u001b[0m\u001b[0m\n\u001b[0m\u001b[1;32m   5288\u001b[0m             \u001b[0mindexer\u001b[0m \u001b[0;34m=\u001b[0m \u001b[0mindexer\u001b[0m\u001b[0;34m[\u001b[0m\u001b[0;34m~\u001b[0m\u001b[0mmask\u001b[0m\u001b[0;34m]\u001b[0m\u001b[0;34m\u001b[0m\u001b[0;34m\u001b[0m\u001b[0m\n\u001b[1;32m   5289\u001b[0m         \u001b[0;32mreturn\u001b[0m \u001b[0mself\u001b[0m\u001b[0;34m.\u001b[0m\u001b[0mdelete\u001b[0m\u001b[0;34m(\u001b[0m\u001b[0mindexer\u001b[0m\u001b[0;34m)\u001b[0m\u001b[0;34m\u001b[0m\u001b[0;34m\u001b[0m\u001b[0m\n",
            "\u001b[0;31mKeyError\u001b[0m: \"['time'] not found in axis\""
          ]
        }
      ]
    },
    {
      "cell_type": "code",
      "metadata": {
        "id": "SnSnP7hUnweQ"
      },
      "source": [
        "train_err"
      ],
      "execution_count": null,
      "outputs": []
    },
    {
      "cell_type": "markdown",
      "metadata": {
        "id": "k4Mlrjjpozlx"
      },
      "source": [
        "## train_quality, test_quality"
      ]
    },
    {
      "cell_type": "code",
      "metadata": {
        "id": "IY2PtrmcWaOE"
      },
      "source": [
        "train_quality"
      ],
      "execution_count": null,
      "outputs": []
    },
    {
      "cell_type": "code",
      "metadata": {
        "id": "ZZfKIbd-pAga"
      },
      "source": [
        "#time 컬럼 전처리\r\n",
        "\r\n",
        "#train\r\n",
        "\r\n",
        "train_quality['parsed_time'] = pd.to_datetime(train_quality['time'],format ='%Y%m%d%H%M%S') # format으로 datetime인지가능\r\n",
        "train_quality.drop(['time'],axis = 1,inplace = True)\r\n",
        "#test도 \r\n",
        "\r\n",
        "test_quality['parsed_time'] = pd.to_datetime(test_quality['time'],format ='%Y%m%d%H%M%S') \r\n",
        "test_quality.drop(['time'],axis = 1,inplace = True)\r\n"
      ],
      "execution_count": null,
      "outputs": []
    },
    {
      "cell_type": "markdown",
      "metadata": {
        "id": "U7wnbbw5p5Pi"
      },
      "source": [
        "##  train_problem"
      ]
    },
    {
      "cell_type": "code",
      "metadata": {
        "id": "bPMolJGfp1Mr"
      },
      "source": [
        "#time 컬럼 전처리\r\n",
        "train_problem['parsed_time'] = pd.to_datetime(train_problem['time'],format = \"%Y%m%d%H%M%S\")\r\n",
        "train_problem.drop(['time'],axis = 1,inplace = True)\r\n",
        "train_problem"
      ],
      "execution_count": null,
      "outputs": []
    },
    {
      "cell_type": "markdown",
      "metadata": {
        "id": "DpNDDOZ6S86C"
      },
      "source": [
        "#3.EDA"
      ]
    },
    {
      "cell_type": "markdown",
      "metadata": {
        "id": "uS5kKjBCAh3P"
      },
      "source": [
        "-데이터 합쳐야하나..? 뭘? \r\n",
        "\r\n",
        "-결측치도 확인"
      ]
    },
    {
      "cell_type": "markdown",
      "metadata": {
        "id": "64esnLLCvBWV"
      },
      "source": [
        "##train_err"
      ]
    },
    {
      "cell_type": "code",
      "metadata": {
        "id": "j6LozxQWvD8c"
      },
      "source": [
        "train_err\r\n",
        "#시스템에 발생한 에러 로그\r\n",
        "\r\n",
        "#errtype? errcode? 차이?\r\n",
        "#fwver는? Firmware Version인듯.\r\n",
        "#model_nm? Q 모델 네임. 무슨 모델?\r\n",
        "#시스템에 발생한 에러 로그\r\n",
        "\r\n",
        "#errtype? errcode? 차이?\r\n",
        "#fwver는? Firmware Version인듯.\r\n",
        "#model_nm? Q 모델 네임. 무슨 모델?"
      ],
      "execution_count": null,
      "outputs": []
    },
    {
      "cell_type": "markdown",
      "metadata": {
        "id": "Dkd9ajMdvLeI"
      },
      "source": [
        "### user 몇명?"
      ]
    },
    {
      "cell_type": "code",
      "metadata": {
        "id": "QOieCvK-vHgf"
      },
      "source": [
        "err_user = train_err['user_id'].value_counts() #Series.value_counts() 하면 유일한 값 별로 세어줌\r\n",
        "err_user\r\n",
        "#15000명의 유저"
      ],
      "execution_count": null,
      "outputs": []
    },
    {
      "cell_type": "code",
      "metadata": {
        "id": "DWmc4y1kwKZb"
      },
      "source": [
        "train_err['user_id'].value_counts().max()\r\n",
        "#최대 222186건의 에러 로그 발견.최소는 물론1"
      ],
      "execution_count": null,
      "outputs": []
    },
    {
      "cell_type": "code",
      "metadata": {
        "id": "8LsOO40TxhKl"
      },
      "source": [
        "err_user.sort_values(ascending = False,inplace = True)\r\n",
        "err_user.iloc[:100]"
      ],
      "execution_count": null,
      "outputs": []
    },
    {
      "cell_type": "code",
      "metadata": {
        "id": "ER6disT9zD7N"
      },
      "source": [
        ""
      ],
      "execution_count": null,
      "outputs": []
    },
    {
      "cell_type": "code",
      "metadata": {
        "id": "Dfk9anrszPeH"
      },
      "source": [
        ""
      ],
      "execution_count": null,
      "outputs": []
    },
    {
      "cell_type": "code",
      "metadata": {
        "id": "OOUjVHsQv-z6"
      },
      "source": [
        "# 유저별 오류비율 \r\n",
        "\r\n",
        "err_user\r\n",
        "\r\n",
        "sns.kdeplot(err_user)\r\n",
        "plt.title(\"Iris 데이터 중, 꽃잎의 길이에 대한 Kernel Density Plot\")\r\n",
        "plt.show()"
      ],
      "execution_count": null,
      "outputs": []
    },
    {
      "cell_type": "code",
      "metadata": {
        "id": "DniR1qf5zn4H"
      },
      "source": [
        "sns.distplot(err_user, kde=True, rug=True)\r\n",
        "plt.title(\"유저별 에러 로그 빈도\")"
      ],
      "execution_count": null,
      "outputs": []
    },
    {
      "cell_type": "markdown",
      "metadata": {
        "id": "epAckJNOxBmW"
      },
      "source": [
        "### model_nm"
      ]
    },
    {
      "cell_type": "code",
      "metadata": {
        "id": "alyhCAA20FYD"
      },
      "source": [
        "err_model = train_err['model_nm'].value_counts()\r\n",
        "err_model"
      ],
      "execution_count": null,
      "outputs": []
    },
    {
      "cell_type": "code",
      "metadata": {
        "id": "0euMl-X80FeK"
      },
      "source": [
        "sns.barplot(x = err_model.index,y = err_model.values)\r\n",
        "plt.title(\"Error Frequency by Models\")\r\n",
        "plt.xticks(rotation='vertical')\r\n",
        "plt.ylabel('Count', fontsize=12)\r\n",
        "plt.xlabel('Models', fontsize=12)\r\n",
        "plt.show()"
      ],
      "execution_count": null,
      "outputs": []
    },
    {
      "cell_type": "code",
      "metadata": {
        "id": "mo7g7_5X1JaZ"
      },
      "source": [
        "# model0,1,2,3,4 모델은 오류 빈도가 높은편. "
      ],
      "execution_count": null,
      "outputs": []
    },
    {
      "cell_type": "markdown",
      "metadata": {
        "id": "ryISWOYL5Qz3"
      },
      "source": [
        "### fwver"
      ]
    },
    {
      "cell_type": "code",
      "metadata": {
        "id": "o7QvtLcW5Q9s"
      },
      "source": [
        "err_fwver = train_err['fwver'].value_counts()\r\n",
        "err_fwver"
      ],
      "execution_count": null,
      "outputs": []
    },
    {
      "cell_type": "code",
      "metadata": {
        "id": "OXKvB-Ux0FjD"
      },
      "source": [
        "#시각화 \r\n",
        "plt.figure(figsize=(12,8))\r\n",
        "sns.barplot(x=err_fwver.index,y = err_fwver.values, color=color[5]) \r\n",
        "plt.ylabel('Count', fontsize=12)\r\n",
        "plt.xlabel('Firmware Version', fontsize=12)\r\n",
        "plt.xticks(rotation='vertical')\r\n",
        "plt.title(\"Errors by Firmware Version\", fontsize=15)\r\n",
        "plt.show()"
      ],
      "execution_count": null,
      "outputs": []
    },
    {
      "cell_type": "markdown",
      "metadata": {
        "id": "9qdmApdW6Cye"
      },
      "source": [
        "--> 특정 펌웨어 버젼에서 오류가 자주 발견됨을 볼 수 있음."
      ]
    },
    {
      "cell_type": "markdown",
      "metadata": {
        "id": "RUuOTohL6doz"
      },
      "source": [
        "### errtype"
      ]
    },
    {
      "cell_type": "code",
      "metadata": {
        "id": "wrjVNA_u6duv"
      },
      "source": [
        "err_errtype = train_err['errtype'].value_counts()\r\n",
        "err_errtype"
      ],
      "execution_count": null,
      "outputs": []
    },
    {
      "cell_type": "code",
      "metadata": {
        "id": "jt-KGDQc7gC7"
      },
      "source": [
        "#시각화 \r\n",
        "plt.figure(figsize=(12,8))\r\n",
        "sns.barplot(x=err_errtype.index,y = err_errtype.values, color=color[1]) \r\n",
        "plt.ylabel('Count', fontsize=12)\r\n",
        "plt.xlabel('Error Type', fontsize=12)\r\n",
        "plt.xticks(rotation='vertical')\r\n",
        "plt.title(\"Errors by Error Type\", fontsize=15)\r\n",
        "plt.show()"
      ],
      "execution_count": null,
      "outputs": []
    },
    {
      "cell_type": "code",
      "metadata": {
        "id": "u-iUqyil6dxm"
      },
      "source": [
        "# 다른 컬럼과 섞어봐도 좋을듯. 어떤 error type이 많이 발생하는지 진단."
      ],
      "execution_count": null,
      "outputs": []
    },
    {
      "cell_type": "markdown",
      "metadata": {
        "id": "AGIUP6886d0x"
      },
      "source": [
        "errtype, user_id"
      ]
    },
    {
      "cell_type": "markdown",
      "metadata": {
        "id": "9fng0vfK7N41"
      },
      "source": [
        "errtype, model_nm"
      ]
    },
    {
      "cell_type": "markdown",
      "metadata": {
        "id": "mnEP7vBQ7QXa"
      },
      "source": [
        "errtype, fwver"
      ]
    },
    {
      "cell_type": "code",
      "metadata": {
        "id": "_hkMa9116d4z"
      },
      "source": [
        ""
      ],
      "execution_count": null,
      "outputs": []
    },
    {
      "cell_type": "code",
      "metadata": {
        "colab": {
          "base_uri": "https://localhost:8080/",
          "height": 464
        },
        "id": "N9TQRQbiT4zK",
        "outputId": "2f519d28-67ab-4571-c3d4-3da2d6214bd6"
      },
      "source": [
        "train_quality\r\n",
        "#시스템 퀄리티 로그\r\n",
        "# quality?"
      ],
      "execution_count": null,
      "outputs": [
        {
          "output_type": "stream",
          "text": [
            "/usr/local/lib/python3.6/dist-packages/IPython/core/interactiveshell.py:2718: DtypeWarning: Columns (10,11,12) have mixed types.Specify dtype option on import or set low_memory=False.\n",
            "  interactivity=interactivity, compiler=compiler, result=result)\n"
          ],
          "name": "stderr"
        },
        {
          "output_type": "execute_result",
          "data": {
            "text/html": [
              "<div>\n",
              "<style scoped>\n",
              "    .dataframe tbody tr th:only-of-type {\n",
              "        vertical-align: middle;\n",
              "    }\n",
              "\n",
              "    .dataframe tbody tr th {\n",
              "        vertical-align: top;\n",
              "    }\n",
              "\n",
              "    .dataframe thead th {\n",
              "        text-align: right;\n",
              "    }\n",
              "</style>\n",
              "<table border=\"1\" class=\"dataframe\">\n",
              "  <thead>\n",
              "    <tr style=\"text-align: right;\">\n",
              "      <th></th>\n",
              "      <th>time</th>\n",
              "      <th>user_id</th>\n",
              "      <th>fwver</th>\n",
              "      <th>quality_0</th>\n",
              "      <th>quality_1</th>\n",
              "      <th>quality_2</th>\n",
              "      <th>quality_3</th>\n",
              "      <th>quality_4</th>\n",
              "      <th>quality_5</th>\n",
              "      <th>quality_6</th>\n",
              "      <th>quality_7</th>\n",
              "      <th>quality_8</th>\n",
              "      <th>quality_9</th>\n",
              "      <th>quality_10</th>\n",
              "      <th>quality_11</th>\n",
              "      <th>quality_12</th>\n",
              "    </tr>\n",
              "  </thead>\n",
              "  <tbody>\n",
              "    <tr>\n",
              "      <th>0</th>\n",
              "      <td>20201129090000</td>\n",
              "      <td>10000</td>\n",
              "      <td>05.15.2138</td>\n",
              "      <td>0.0</td>\n",
              "      <td>0</td>\n",
              "      <td>0.0</td>\n",
              "      <td>0</td>\n",
              "      <td>0</td>\n",
              "      <td>0</td>\n",
              "      <td>0</td>\n",
              "      <td>0</td>\n",
              "      <td>0</td>\n",
              "      <td>0</td>\n",
              "      <td>4</td>\n",
              "      <td>0</td>\n",
              "      <td>0</td>\n",
              "    </tr>\n",
              "    <tr>\n",
              "      <th>1</th>\n",
              "      <td>20201129090000</td>\n",
              "      <td>10000</td>\n",
              "      <td>05.15.2138</td>\n",
              "      <td>0.0</td>\n",
              "      <td>0</td>\n",
              "      <td>0.0</td>\n",
              "      <td>0</td>\n",
              "      <td>0</td>\n",
              "      <td>0</td>\n",
              "      <td>0</td>\n",
              "      <td>0</td>\n",
              "      <td>0</td>\n",
              "      <td>0</td>\n",
              "      <td>4</td>\n",
              "      <td>0</td>\n",
              "      <td>0</td>\n",
              "    </tr>\n",
              "    <tr>\n",
              "      <th>2</th>\n",
              "      <td>20201129090000</td>\n",
              "      <td>10000</td>\n",
              "      <td>05.15.2138</td>\n",
              "      <td>0.0</td>\n",
              "      <td>0</td>\n",
              "      <td>0.0</td>\n",
              "      <td>0</td>\n",
              "      <td>0</td>\n",
              "      <td>0</td>\n",
              "      <td>0</td>\n",
              "      <td>0</td>\n",
              "      <td>0</td>\n",
              "      <td>0</td>\n",
              "      <td>4</td>\n",
              "      <td>0</td>\n",
              "      <td>0</td>\n",
              "    </tr>\n",
              "    <tr>\n",
              "      <th>3</th>\n",
              "      <td>20201129090000</td>\n",
              "      <td>10000</td>\n",
              "      <td>05.15.2138</td>\n",
              "      <td>0.0</td>\n",
              "      <td>0</td>\n",
              "      <td>0.0</td>\n",
              "      <td>0</td>\n",
              "      <td>0</td>\n",
              "      <td>0</td>\n",
              "      <td>0</td>\n",
              "      <td>0</td>\n",
              "      <td>0</td>\n",
              "      <td>0</td>\n",
              "      <td>4</td>\n",
              "      <td>0</td>\n",
              "      <td>0</td>\n",
              "    </tr>\n",
              "    <tr>\n",
              "      <th>4</th>\n",
              "      <td>20201129090000</td>\n",
              "      <td>10000</td>\n",
              "      <td>05.15.2138</td>\n",
              "      <td>0.0</td>\n",
              "      <td>0</td>\n",
              "      <td>0.0</td>\n",
              "      <td>0</td>\n",
              "      <td>0</td>\n",
              "      <td>0</td>\n",
              "      <td>0</td>\n",
              "      <td>0</td>\n",
              "      <td>0</td>\n",
              "      <td>0</td>\n",
              "      <td>4</td>\n",
              "      <td>0</td>\n",
              "      <td>0</td>\n",
              "    </tr>\n",
              "    <tr>\n",
              "      <th>...</th>\n",
              "      <td>...</td>\n",
              "      <td>...</td>\n",
              "      <td>...</td>\n",
              "      <td>...</td>\n",
              "      <td>...</td>\n",
              "      <td>...</td>\n",
              "      <td>...</td>\n",
              "      <td>...</td>\n",
              "      <td>...</td>\n",
              "      <td>...</td>\n",
              "      <td>...</td>\n",
              "      <td>...</td>\n",
              "      <td>...</td>\n",
              "      <td>...</td>\n",
              "      <td>...</td>\n",
              "      <td>...</td>\n",
              "    </tr>\n",
              "    <tr>\n",
              "      <th>828619</th>\n",
              "      <td>20201124033000</td>\n",
              "      <td>24997</td>\n",
              "      <td>04.22.1778</td>\n",
              "      <td>0.0</td>\n",
              "      <td>0</td>\n",
              "      <td>0.0</td>\n",
              "      <td>0</td>\n",
              "      <td>0</td>\n",
              "      <td>1</td>\n",
              "      <td>0</td>\n",
              "      <td>0</td>\n",
              "      <td>0</td>\n",
              "      <td>0</td>\n",
              "      <td>17</td>\n",
              "      <td>0</td>\n",
              "      <td>0</td>\n",
              "    </tr>\n",
              "    <tr>\n",
              "      <th>828620</th>\n",
              "      <td>20201124033000</td>\n",
              "      <td>24997</td>\n",
              "      <td>04.22.1778</td>\n",
              "      <td>0.0</td>\n",
              "      <td>0</td>\n",
              "      <td>0.0</td>\n",
              "      <td>0</td>\n",
              "      <td>0</td>\n",
              "      <td>0</td>\n",
              "      <td>0</td>\n",
              "      <td>0</td>\n",
              "      <td>0</td>\n",
              "      <td>0</td>\n",
              "      <td>17</td>\n",
              "      <td>0</td>\n",
              "      <td>0</td>\n",
              "    </tr>\n",
              "    <tr>\n",
              "      <th>828621</th>\n",
              "      <td>20201124033000</td>\n",
              "      <td>24997</td>\n",
              "      <td>04.22.1778</td>\n",
              "      <td>0.0</td>\n",
              "      <td>0</td>\n",
              "      <td>0.0</td>\n",
              "      <td>0</td>\n",
              "      <td>0</td>\n",
              "      <td>3</td>\n",
              "      <td>0</td>\n",
              "      <td>0</td>\n",
              "      <td>0</td>\n",
              "      <td>0</td>\n",
              "      <td>17</td>\n",
              "      <td>0</td>\n",
              "      <td>0</td>\n",
              "    </tr>\n",
              "    <tr>\n",
              "      <th>828622</th>\n",
              "      <td>20201124033000</td>\n",
              "      <td>24997</td>\n",
              "      <td>04.22.1778</td>\n",
              "      <td>0.0</td>\n",
              "      <td>0</td>\n",
              "      <td>0.0</td>\n",
              "      <td>0</td>\n",
              "      <td>0</td>\n",
              "      <td>0</td>\n",
              "      <td>0</td>\n",
              "      <td>0</td>\n",
              "      <td>0</td>\n",
              "      <td>0</td>\n",
              "      <td>17</td>\n",
              "      <td>0</td>\n",
              "      <td>0</td>\n",
              "    </tr>\n",
              "    <tr>\n",
              "      <th>828623</th>\n",
              "      <td>20201124033000</td>\n",
              "      <td>24997</td>\n",
              "      <td>04.22.1778</td>\n",
              "      <td>0.0</td>\n",
              "      <td>0</td>\n",
              "      <td>0.0</td>\n",
              "      <td>0</td>\n",
              "      <td>0</td>\n",
              "      <td>9</td>\n",
              "      <td>0</td>\n",
              "      <td>0</td>\n",
              "      <td>0</td>\n",
              "      <td>0</td>\n",
              "      <td>17</td>\n",
              "      <td>0</td>\n",
              "      <td>0</td>\n",
              "    </tr>\n",
              "  </tbody>\n",
              "</table>\n",
              "<p>828624 rows × 16 columns</p>\n",
              "</div>"
            ],
            "text/plain": [
              "                  time  user_id       fwver  ...  quality_10  quality_11  quality_12\n",
              "0       20201129090000    10000  05.15.2138  ...           4           0           0\n",
              "1       20201129090000    10000  05.15.2138  ...           4           0           0\n",
              "2       20201129090000    10000  05.15.2138  ...           4           0           0\n",
              "3       20201129090000    10000  05.15.2138  ...           4           0           0\n",
              "4       20201129090000    10000  05.15.2138  ...           4           0           0\n",
              "...                ...      ...         ...  ...         ...         ...         ...\n",
              "828619  20201124033000    24997  04.22.1778  ...          17           0           0\n",
              "828620  20201124033000    24997  04.22.1778  ...          17           0           0\n",
              "828621  20201124033000    24997  04.22.1778  ...          17           0           0\n",
              "828622  20201124033000    24997  04.22.1778  ...          17           0           0\n",
              "828623  20201124033000    24997  04.22.1778  ...          17           0           0\n",
              "\n",
              "[828624 rows x 16 columns]"
            ]
          },
          "metadata": {
            "tags": []
          },
          "execution_count": 8
        }
      ]
    },
    {
      "cell_type": "code",
      "metadata": {
        "colab": {
          "base_uri": "https://localhost:8080/",
          "height": 407
        },
        "id": "W7SZ4VjLVBk-",
        "outputId": "09db3b25-8e44-4f25-ded1-d7b4ef150af8"
      },
      "source": [
        "train_problem\r\n",
        "#사용자 불만 및 불만이 접수된 시간"
      ],
      "execution_count": null,
      "outputs": [
        {
          "output_type": "execute_result",
          "data": {
            "text/html": [
              "<div>\n",
              "<style scoped>\n",
              "    .dataframe tbody tr th:only-of-type {\n",
              "        vertical-align: middle;\n",
              "    }\n",
              "\n",
              "    .dataframe tbody tr th {\n",
              "        vertical-align: top;\n",
              "    }\n",
              "\n",
              "    .dataframe thead th {\n",
              "        text-align: right;\n",
              "    }\n",
              "</style>\n",
              "<table border=\"1\" class=\"dataframe\">\n",
              "  <thead>\n",
              "    <tr style=\"text-align: right;\">\n",
              "      <th></th>\n",
              "      <th>user_id</th>\n",
              "      <th>time</th>\n",
              "    </tr>\n",
              "  </thead>\n",
              "  <tbody>\n",
              "    <tr>\n",
              "      <th>0</th>\n",
              "      <td>19224</td>\n",
              "      <td>20201102200000</td>\n",
              "    </tr>\n",
              "    <tr>\n",
              "      <th>1</th>\n",
              "      <td>23664</td>\n",
              "      <td>20201116140000</td>\n",
              "    </tr>\n",
              "    <tr>\n",
              "      <th>2</th>\n",
              "      <td>15166</td>\n",
              "      <td>20201114130000</td>\n",
              "    </tr>\n",
              "    <tr>\n",
              "      <th>3</th>\n",
              "      <td>12590</td>\n",
              "      <td>20201108210000</td>\n",
              "    </tr>\n",
              "    <tr>\n",
              "      <th>4</th>\n",
              "      <td>15932</td>\n",
              "      <td>20201103210000</td>\n",
              "    </tr>\n",
              "    <tr>\n",
              "      <th>...</th>\n",
              "      <td>...</td>\n",
              "      <td>...</td>\n",
              "    </tr>\n",
              "    <tr>\n",
              "      <th>5424</th>\n",
              "      <td>20167</td>\n",
              "      <td>20201125120000</td>\n",
              "    </tr>\n",
              "    <tr>\n",
              "      <th>5425</th>\n",
              "      <td>16270</td>\n",
              "      <td>20201110120000</td>\n",
              "    </tr>\n",
              "    <tr>\n",
              "      <th>5426</th>\n",
              "      <td>19114</td>\n",
              "      <td>20201106230000</td>\n",
              "    </tr>\n",
              "    <tr>\n",
              "      <th>5427</th>\n",
              "      <td>21505</td>\n",
              "      <td>20201104110000</td>\n",
              "    </tr>\n",
              "    <tr>\n",
              "      <th>5428</th>\n",
              "      <td>18822</td>\n",
              "      <td>20201102120000</td>\n",
              "    </tr>\n",
              "  </tbody>\n",
              "</table>\n",
              "<p>5429 rows × 2 columns</p>\n",
              "</div>"
            ],
            "text/plain": [
              "      user_id            time\n",
              "0       19224  20201102200000\n",
              "1       23664  20201116140000\n",
              "2       15166  20201114130000\n",
              "3       12590  20201108210000\n",
              "4       15932  20201103210000\n",
              "...       ...             ...\n",
              "5424    20167  20201125120000\n",
              "5425    16270  20201110120000\n",
              "5426    19114  20201106230000\n",
              "5427    21505  20201104110000\n",
              "5428    18822  20201102120000\n",
              "\n",
              "[5429 rows x 2 columns]"
            ]
          },
          "metadata": {
            "tags": []
          },
          "execution_count": 10
        }
      ]
    },
    {
      "cell_type": "code",
      "metadata": {
        "colab": {
          "base_uri": "https://localhost:8080/",
          "height": 407
        },
        "id": "KUjrv0oEUGjQ",
        "outputId": "833c7917-433c-4f89-ddce-4bba110b72c1"
      },
      "source": [
        "sample_submission"
      ],
      "execution_count": null,
      "outputs": [
        {
          "output_type": "execute_result",
          "data": {
            "text/html": [
              "<div>\n",
              "<style scoped>\n",
              "    .dataframe tbody tr th:only-of-type {\n",
              "        vertical-align: middle;\n",
              "    }\n",
              "\n",
              "    .dataframe tbody tr th {\n",
              "        vertical-align: top;\n",
              "    }\n",
              "\n",
              "    .dataframe thead th {\n",
              "        text-align: right;\n",
              "    }\n",
              "</style>\n",
              "<table border=\"1\" class=\"dataframe\">\n",
              "  <thead>\n",
              "    <tr style=\"text-align: right;\">\n",
              "      <th></th>\n",
              "      <th>user_id</th>\n",
              "      <th>problem</th>\n",
              "    </tr>\n",
              "  </thead>\n",
              "  <tbody>\n",
              "    <tr>\n",
              "      <th>0</th>\n",
              "      <td>30000</td>\n",
              "      <td>0</td>\n",
              "    </tr>\n",
              "    <tr>\n",
              "      <th>1</th>\n",
              "      <td>30001</td>\n",
              "      <td>0</td>\n",
              "    </tr>\n",
              "    <tr>\n",
              "      <th>2</th>\n",
              "      <td>30002</td>\n",
              "      <td>0</td>\n",
              "    </tr>\n",
              "    <tr>\n",
              "      <th>3</th>\n",
              "      <td>30003</td>\n",
              "      <td>0</td>\n",
              "    </tr>\n",
              "    <tr>\n",
              "      <th>4</th>\n",
              "      <td>30004</td>\n",
              "      <td>0</td>\n",
              "    </tr>\n",
              "    <tr>\n",
              "      <th>...</th>\n",
              "      <td>...</td>\n",
              "      <td>...</td>\n",
              "    </tr>\n",
              "    <tr>\n",
              "      <th>14994</th>\n",
              "      <td>44994</td>\n",
              "      <td>0</td>\n",
              "    </tr>\n",
              "    <tr>\n",
              "      <th>14995</th>\n",
              "      <td>44995</td>\n",
              "      <td>0</td>\n",
              "    </tr>\n",
              "    <tr>\n",
              "      <th>14996</th>\n",
              "      <td>44996</td>\n",
              "      <td>0</td>\n",
              "    </tr>\n",
              "    <tr>\n",
              "      <th>14997</th>\n",
              "      <td>44997</td>\n",
              "      <td>0</td>\n",
              "    </tr>\n",
              "    <tr>\n",
              "      <th>14998</th>\n",
              "      <td>44998</td>\n",
              "      <td>0</td>\n",
              "    </tr>\n",
              "  </tbody>\n",
              "</table>\n",
              "<p>14999 rows × 2 columns</p>\n",
              "</div>"
            ],
            "text/plain": [
              "       user_id  problem\n",
              "0        30000        0\n",
              "1        30001        0\n",
              "2        30002        0\n",
              "3        30003        0\n",
              "4        30004        0\n",
              "...        ...      ...\n",
              "14994    44994        0\n",
              "14995    44995        0\n",
              "14996    44996        0\n",
              "14997    44997        0\n",
              "14998    44998        0\n",
              "\n",
              "[14999 rows x 2 columns]"
            ]
          },
          "metadata": {
            "tags": []
          },
          "execution_count": 9
        }
      ]
    },
    {
      "cell_type": "code",
      "metadata": {
        "id": "O6Tf4h73U9ju"
      },
      "source": [
        ""
      ],
      "execution_count": null,
      "outputs": []
    }
  ]
}