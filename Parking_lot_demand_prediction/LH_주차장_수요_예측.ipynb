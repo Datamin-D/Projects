{
  "nbformat": 4,
  "nbformat_minor": 0,
  "metadata": {
    "colab": {
      "name": "LH 주차장 수요 예측",
      "provenance": [],
      "collapsed_sections": [],
      "toc_visible": true,
      "machine_shape": "hm",
      "authorship_tag": "ABX9TyNBYx6n0W/2HpYpiR0wmNw6",
      "include_colab_link": true
    },
    "kernelspec": {
      "name": "python3",
      "display_name": "Python 3"
    },
    "language_info": {
      "name": "python"
    },
    "accelerator": "GPU"
  },
  "cells": [
    {
      "cell_type": "markdown",
      "metadata": {
        "id": "view-in-github",
        "colab_type": "text"
      },
      "source": [
        "<a href=\"https://colab.research.google.com/github/Datamin-D/Projects/blob/main/Parking_lot_demand_prediction/LH_%EC%A3%BC%EC%B0%A8%EC%9E%A5_%EC%88%98%EC%9A%94_%EC%98%88%EC%B8%A1.ipynb\" target=\"_parent\"><img src=\"https://colab.research.google.com/assets/colab-badge.svg\" alt=\"Open In Colab\"/></a>"
      ]
    },
    {
      "cell_type": "code",
      "metadata": {
        "colab": {
          "base_uri": "https://localhost:8080/"
        },
        "id": "IypHtrv_DhHb",
        "outputId": "94bc98d0-a1ff-4b97-eaad-7ddbb971d487"
      },
      "source": [
        "from google.colab import drive\n",
        "drive.mount('/gdrive')"
      ],
      "execution_count": 147,
      "outputs": [
        {
          "output_type": "stream",
          "text": [
            "Drive already mounted at /gdrive; to attempt to forcibly remount, call drive.mount(\"/gdrive\", force_remount=True).\n"
          ],
          "name": "stdout"
        }
      ]
    },
    {
      "cell_type": "markdown",
      "metadata": {
        "id": "tYhWvdUUDqBT"
      },
      "source": [
        "# import libraries"
      ]
    },
    {
      "cell_type": "code",
      "metadata": {
        "colab": {
          "base_uri": "https://localhost:8080/"
        },
        "id": "PAJlSktKD03c",
        "outputId": "192502c8-6b42-4241-dfb3-7fe0b701c331"
      },
      "source": [
        "import pandas as pd\n",
        "import numpy as np\n",
        "import re\n",
        "import time\n",
        "import pickle\n",
        "import tqdm\n",
        "import os\n",
        "\n",
        "import matplotlib.pyplot as plt\n",
        "import seaborn as sns\n",
        "\n",
        "from sklearn import linear_model\n",
        "from sklearn.linear_model import LinearRegression\n",
        "import statsmodels.api as sm\n",
        "from scipy import stats\n",
        "\n",
        "from xgboost import XGBRegressor\n",
        "from xgboost import XGBRFRegressor\n",
        "from sklearn.model_selection import GridSearchCV\n",
        "from sklearn.metrics import r2_score,mean_absolute_error,mean_squared_error\n",
        "\n",
        "\n",
        "#설치\n",
        "!sudo apt-get install -y fonts-nanum\n",
        "!sudo fc-cache -fv\n",
        "!rm ~/.cache/matplotlib -rf\n",
        "\n",
        "#폰트\n",
        "plt.rc('font', family='NanumBarunGothic') \n",
        "\n",
        "#안되면\n",
        "#설치된 폰트 확인\n",
        "import matplotlib.font_manager as fm\n",
        "font_list = [font.name for font in fm.fontManager.ttflist]\n",
        "font_list\n",
        "\n",
        "\n",
        "#폰트\n",
        "plt.rcParams['font.family'] = 'NanumBarunGothic' #히트맵은 잘됨\n",
        "\n",
        "#여러번 쓸거면 코랩에서 드라이브에 넣기.\n",
        "from matplotlib import font_manager, rc\n",
        "\n",
        "# os.chdir('경로')\n",
        "# font_name = font_manager.FontProperties(fname=\"NanumGothic.ttf\").get_name()\n",
        "# rc('font', family=font_name)\n",
        "\n",
        "#"
      ],
      "execution_count": 260,
      "outputs": [
        {
          "output_type": "stream",
          "text": [
            "Reading package lists... Done\n",
            "Building dependency tree       \n",
            "Reading state information... Done\n",
            "fonts-nanum is already the newest version (20170925-1).\n",
            "0 upgraded, 0 newly installed, 0 to remove and 39 not upgraded.\n",
            "/usr/share/fonts: caching, new cache contents: 0 fonts, 1 dirs\n",
            "/usr/share/fonts/truetype: caching, new cache contents: 0 fonts, 3 dirs\n",
            "/usr/share/fonts/truetype/humor-sans: caching, new cache contents: 1 fonts, 0 dirs\n",
            "/usr/share/fonts/truetype/liberation: caching, new cache contents: 16 fonts, 0 dirs\n",
            "/usr/share/fonts/truetype/nanum: caching, new cache contents: 10 fonts, 0 dirs\n",
            "/usr/local/share/fonts: caching, new cache contents: 0 fonts, 0 dirs\n",
            "/root/.local/share/fonts: skipping, no such directory\n",
            "/root/.fonts: skipping, no such directory\n",
            "/var/cache/fontconfig: cleaning cache directory\n",
            "/root/.cache/fontconfig: not cleaning non-existent cache directory\n",
            "/root/.fontconfig: not cleaning non-existent cache directory\n",
            "fc-cache: succeeded\n"
          ],
          "name": "stdout"
        }
      ]
    },
    {
      "cell_type": "code",
      "metadata": {
        "id": "HIFjGy4_GSWs"
      },
      "source": [
        ""
      ],
      "execution_count": 260,
      "outputs": []
    },
    {
      "cell_type": "markdown",
      "metadata": {
        "id": "0NWNWFCrD2TH"
      },
      "source": [
        "# import data"
      ]
    },
    {
      "cell_type": "code",
      "metadata": {
        "id": "GIu37WKGD3hO"
      },
      "source": [
        "path = '/gdrive/MyDrive/대회, 프로젝트/LH dacon/data'\n",
        "os.chdir(path)"
      ],
      "execution_count": 261,
      "outputs": []
    },
    {
      "cell_type": "code",
      "metadata": {
        "id": "rAYc_AJsEesS"
      },
      "source": [
        "age_gend = pd.read_csv('age_gender_info.csv')\n",
        "test = pd.read_csv('test.csv')\n",
        "train = pd.read_csv('train.csv')\n",
        "sample = pd.read_csv('sample_submission.csv')"
      ],
      "execution_count": 262,
      "outputs": []
    },
    {
      "cell_type": "markdown",
      "metadata": {
        "id": "QIBMFY_JFBuj"
      },
      "source": [
        "# EDA & preprocsseing"
      ]
    },
    {
      "cell_type": "code",
      "metadata": {
        "colab": {
          "base_uri": "https://localhost:8080/"
        },
        "id": "YuuZMzcTEuB2",
        "outputId": "31e2cabf-4d85-4f7b-d4f7-e86a561602b1"
      },
      "source": [
        "train.info() #등록차량수가 y"
      ],
      "execution_count": 263,
      "outputs": [
        {
          "output_type": "stream",
          "text": [
            "<class 'pandas.core.frame.DataFrame'>\n",
            "RangeIndex: 2952 entries, 0 to 2951\n",
            "Data columns (total 15 columns):\n",
            " #   Column                        Non-Null Count  Dtype  \n",
            "---  ------                        --------------  -----  \n",
            " 0   단지코드                          2952 non-null   object \n",
            " 1   총세대수                          2952 non-null   int64  \n",
            " 2   임대건물구분                        2952 non-null   object \n",
            " 3   지역                            2952 non-null   object \n",
            " 4   공급유형                          2952 non-null   object \n",
            " 5   전용면적                          2952 non-null   float64\n",
            " 6   전용면적별세대수                      2952 non-null   int64  \n",
            " 7   공가수                           2952 non-null   float64\n",
            " 8   자격유형                          2952 non-null   object \n",
            " 9   임대보증금                         2383 non-null   object \n",
            " 10  임대료                           2383 non-null   object \n",
            " 11  도보 10분거리 내 지하철역 수(환승노선 수 반영)  2741 non-null   float64\n",
            " 12  도보 10분거리 내 버스정류장 수            2948 non-null   float64\n",
            " 13  단지내주차면수                       2952 non-null   float64\n",
            " 14  등록차량수                         2952 non-null   float64\n",
            "dtypes: float64(6), int64(2), object(7)\n",
            "memory usage: 346.1+ KB\n"
          ],
          "name": "stdout"
        }
      ]
    },
    {
      "cell_type": "code",
      "metadata": {
        "colab": {
          "base_uri": "https://localhost:8080/",
          "height": 297
        },
        "id": "xFa6nwDEFwDo",
        "outputId": "7d67217a-5636-41a2-dfed-647cc47b4d4a"
      },
      "source": [
        "# 등록 차량수 분포 확인\n",
        "train['등록차량수'].value_counts().sort_index().hist()\n",
        "plt.xlabel('등록차량수')\n",
        "plt.ylabel('counts')"
      ],
      "execution_count": 264,
      "outputs": [
        {
          "output_type": "execute_result",
          "data": {
            "text/plain": [
              "Text(0, 0.5, 'counts')"
            ]
          },
          "metadata": {
            "tags": []
          },
          "execution_count": 264
        },
        {
          "output_type": "display_data",
          "data": {
            "image/png": "[encoded data removed]",
            "text/plain": [
              "<Figure size 432x288 with 1 Axes>"
            ]
          },
          "metadata": {
            "tags": [],
            "needs_background": "light"
          }
        }
      ]
    },
    {
      "cell_type": "code",
      "metadata": {
        "colab": {
          "base_uri": "https://localhost:8080/"
        },
        "id": "sRsRFdawHmFs",
        "outputId": "8a22ca99-5fdf-40ec-95af-11180a7a4da4"
      },
      "source": [
        "train['단지코드'].value_counts() #423개 unique"
      ],
      "execution_count": 265,
      "outputs": [
        {
          "output_type": "execute_result",
          "data": {
            "text/plain": [
              "C1439    48\n",
              "C2132    47\n",
              "C1859    40\n",
              "C1790    33\n",
              "C2597    32\n",
              "         ..\n",
              "C2431     2\n",
              "C2437     1\n",
              "C2188     1\n",
              "C2340     1\n",
              "C2520     1\n",
              "Name: 단지코드, Length: 423, dtype: int64"
            ]
          },
          "metadata": {
            "tags": []
          },
          "execution_count": 265
        }
      ]
    },
    {
      "cell_type": "code",
      "metadata": {
        "colab": {
          "base_uri": "https://localhost:8080/",
          "height": 297
        },
        "id": "I-xyiAmyIOdM",
        "outputId": "73021bbc-8576-456f-ab5e-fdebb7019b15"
      },
      "source": [
        "train['총세대수'].value_counts().sort_index().hist()\n",
        "plt.xlabel('총세대수')\n",
        "plt.ylabel('counts')"
      ],
      "execution_count": 266,
      "outputs": [
        {
          "output_type": "execute_result",
          "data": {
            "text/plain": [
              "Text(0, 0.5, 'counts')"
            ]
          },
          "metadata": {
            "tags": []
          },
          "execution_count": 266
        },
        {
          "output_type": "display_data",
          "data": {
            "image/png": "[encoded data removed]",
            "text/plain": [
              "<Figure size 432x288 with 1 Axes>"
            ]
          },
          "metadata": {
            "tags": [],
            "needs_background": "light"
          }
        }
      ]
    },
    {
      "cell_type": "code",
      "metadata": {
        "colab": {
          "base_uri": "https://localhost:8080/"
        },
        "id": "SINLa9AsIZfS",
        "outputId": "7210f0dc-210d-4dc2-a50e-3e9fed6bab0a"
      },
      "source": [
        "train['임대건물구분'].value_counts() #아파트 or 상가\n",
        "# \n",
        "def apart_or_arcade(x):\n",
        "  if x == '아파트':\n",
        "    return 1\n",
        "  else:\n",
        "    return 0\n",
        "train['apart'] = train['임대건물구분'].apply(lambda x: apart_or_arcade(x))  #2390 562\n",
        "train.drop('임대건물구분',axis = 1, inplace = True)\n",
        "train['apart'].value_counts() # 변환 완료"
      ],
      "execution_count": 267,
      "outputs": [
        {
          "output_type": "execute_result",
          "data": {
            "text/plain": [
              "1    2390\n",
              "0     562\n",
              "Name: apart, dtype: int64"
            ]
          },
          "metadata": {
            "tags": []
          },
          "execution_count": 267
        }
      ]
    },
    {
      "cell_type": "code",
      "metadata": {
        "colab": {
          "base_uri": "https://localhost:8080/"
        },
        "id": "RbAXuIomhgV3",
        "outputId": "77e916d6-5ec8-4518-aa27-38c29f8cd785"
      },
      "source": [
        "#test\n",
        "test['apart'] = test['임대건물구분'].apply(lambda x: apart_or_arcade(x))  #2390 562\n",
        "test.drop('임대건물구분',axis = 1, inplace = True)\n",
        "test['apart'].value_counts() # 변환 완료"
      ],
      "execution_count": 268,
      "outputs": [
        {
          "output_type": "execute_result",
          "data": {
            "text/plain": [
              "1    845\n",
              "0    177\n",
              "Name: apart, dtype: int64"
            ]
          },
          "metadata": {
            "tags": []
          },
          "execution_count": 268
        }
      ]
    },
    {
      "cell_type": "code",
      "metadata": {
        "colab": {
          "base_uri": "https://localhost:8080/"
        },
        "id": "6rwfvN72JZWU",
        "outputId": "2cb4e3c0-9805-4fc2-bcca-de95231eae32"
      },
      "source": [
        "# 지역\n",
        "train['region'] = train['지역']\n",
        "train.drop('지역',axis = 1, inplace = True)\n",
        "train['region'].value_counts() # 원핫 인코딩ㄱ 수도권, 지방 등 여러개로 나눌 수도 있을듯."
      ],
      "execution_count": 269,
      "outputs": [
        {
          "output_type": "execute_result",
          "data": {
            "text/plain": [
              "경기도        621\n",
              "경상남도       369\n",
              "부산광역시      328\n",
              "대전광역시      266\n",
              "강원도        187\n",
              "충청북도       163\n",
              "충청남도       158\n",
              "전라남도       151\n",
              "광주광역시      141\n",
              "경상북도       119\n",
              "전라북도       109\n",
              "대구광역시      102\n",
              "제주특별자치도     91\n",
              "서울특별시       64\n",
              "세종특별자치시     47\n",
              "울산광역시       36\n",
              "Name: region, dtype: int64"
            ]
          },
          "metadata": {
            "tags": []
          },
          "execution_count": 269
        }
      ]
    },
    {
      "cell_type": "code",
      "metadata": {
        "colab": {
          "base_uri": "https://localhost:8080/"
        },
        "id": "EK8Yj38phzEQ",
        "outputId": "7a7c55b4-0ef9-4b02-b308-256ae172a028"
      },
      "source": [
        "#test\n",
        "# 지역\n",
        "test['region'] = test['지역']\n",
        "test.drop('지역',axis = 1, inplace = True)\n",
        "test['region'].value_counts() # 원핫 인코딩ㄱ 수도권, 지방 등 여러개로 나눌 수도 있을듯."
      ],
      "execution_count": 270,
      "outputs": [
        {
          "output_type": "execute_result",
          "data": {
            "text/plain": [
              "경기도        259\n",
              "강원도        106\n",
              "부산광역시       88\n",
              "경상남도        85\n",
              "울산광역시       73\n",
              "경상북도        58\n",
              "대전광역시       56\n",
              "충청북도        51\n",
              "광주광역시       46\n",
              "전라북도        41\n",
              "충청남도        41\n",
              "전라남도        37\n",
              "대구광역시       36\n",
              "제주특별자치도     26\n",
              "세종특별자치시     19\n",
              "Name: region, dtype: int64"
            ]
          },
          "metadata": {
            "tags": []
          },
          "execution_count": 270
        }
      ]
    },
    {
      "cell_type": "code",
      "metadata": {
        "colab": {
          "base_uri": "https://localhost:8080/"
        },
        "id": "DZSTD-OGJvbP",
        "outputId": "e0d172cc-d216-460d-82ab-eaf30acf23d4"
      },
      "source": [
        "#공급유형\n",
        "train['lease_type'] = train['공급유형']\n",
        "train.drop('공급유형',axis = 1, inplace = True)\n",
        "train['lease_type'].value_counts() #원핫인코딩..? 흠.. 공공임대같은 경우 합칠 수도 있을듯.\n"
      ],
      "execution_count": 271,
      "outputs": [
        {
          "output_type": "execute_result",
          "data": {
            "text/plain": [
              "국민임대         1758\n",
              "임대상가          562\n",
              "행복주택          213\n",
              "공공임대(10년)     205\n",
              "영구임대          152\n",
              "공공임대(50년)      31\n",
              "공공임대(분납)       12\n",
              "장기전세            9\n",
              "공공분양            7\n",
              "공공임대(5년)        3\n",
              "Name: lease_type, dtype: int64"
            ]
          },
          "metadata": {
            "tags": []
          },
          "execution_count": 271
        }
      ]
    },
    {
      "cell_type": "code",
      "metadata": {
        "colab": {
          "base_uri": "https://localhost:8080/"
        },
        "id": "8sCXEfXYh-M9",
        "outputId": "fac9d0ad-14cb-459b-ce5d-b2a5c5d9bff1"
      },
      "source": [
        "#공급유형\n",
        "test['lease_type'] = test['공급유형']\n",
        "test.drop('공급유형',axis = 1, inplace = True)\n",
        "test['lease_type'].value_counts() #원핫인코딩..? 흠.. 공공임대같은 경우 합칠 수도 있을듯.\n",
        "\n"
      ],
      "execution_count": 272,
      "outputs": [
        {
          "output_type": "execute_result",
          "data": {
            "text/plain": [
              "국민임대         622\n",
              "임대상가         177\n",
              "행복주택         124\n",
              "영구임대          45\n",
              "공공임대(10년)     35\n",
              "공공임대(50년)     13\n",
              "공공임대(분납)       6\n",
              "Name: lease_type, dtype: int64"
            ]
          },
          "metadata": {
            "tags": []
          },
          "execution_count": 272
        }
      ]
    },
    {
      "cell_type": "code",
      "metadata": {
        "colab": {
          "base_uri": "https://localhost:8080/"
        },
        "id": "hmKuwMlnKi10",
        "outputId": "2cd4ee38-7a40-412d-de86-0e7f07ea5f0f"
      },
      "source": [
        "train['전용면적'].value_counts().sort_index() # 전용면적: 실제로 독점적으로 쓸 수 있는 면적. 전용면적 + 공용면적 = 공급면적 "
      ],
      "execution_count": 273,
      "outputs": [
        {
          "output_type": "execute_result",
          "data": {
            "text/plain": [
              "12.62     1\n",
              "14.10     6\n",
              "14.17     1\n",
              "15.00     8\n",
              "16.00     1\n",
              "         ..\n",
              "317.17    1\n",
              "401.50    1\n",
              "404.65    2\n",
              "407.97    1\n",
              "583.40    5\n",
              "Name: 전용면적, Length: 679, dtype: int64"
            ]
          },
          "metadata": {
            "tags": []
          },
          "execution_count": 273
        }
      ]
    },
    {
      "cell_type": "code",
      "metadata": {
        "colab": {
          "base_uri": "https://localhost:8080/"
        },
        "id": "O1Cx7H4dLGru",
        "outputId": "bfff44d9-a630-4e1f-f668-db5ac01d09c5"
      },
      "source": [
        "train['전용면적별세대수'].value_counts() # 1인가구가 압도적으로 많음. "
      ],
      "execution_count": 274,
      "outputs": [
        {
          "output_type": "execute_result",
          "data": {
            "text/plain": [
              "1      562\n",
              "30      49\n",
              "60      48\n",
              "24      47\n",
              "120     42\n",
              "      ... \n",
              "532      1\n",
              "524      1\n",
              "516      1\n",
              "512      1\n",
              "496      1\n",
              "Name: 전용면적별세대수, Length: 403, dtype: int64"
            ]
          },
          "metadata": {
            "tags": []
          },
          "execution_count": 274
        }
      ]
    },
    {
      "cell_type": "code",
      "metadata": {
        "colab": {
          "base_uri": "https://localhost:8080/",
          "height": 297
        },
        "id": "aJXv8wtgL-nk",
        "outputId": "24d7a99c-d4fa-404f-c4c1-c12ed9ecc37e"
      },
      "source": [
        "train['공가수'].value_counts().sort_index().hist() # 공가수 = 빈 세대\n",
        "plt.xlabel('공가수')\n",
        "plt.ylabel('counts')"
      ],
      "execution_count": 275,
      "outputs": [
        {
          "output_type": "execute_result",
          "data": {
            "text/plain": [
              "Text(0, 0.5, 'counts')"
            ]
          },
          "metadata": {
            "tags": []
          },
          "execution_count": 275
        },
        {
          "output_type": "display_data",
          "data": {
            "image/png": "[encoded data removed]",
            "text/plain": [
              "<Figure size 432x288 with 1 Axes>"
            ]
          },
          "metadata": {
            "tags": [],
            "needs_background": "light"
          }
        }
      ]
    },
    {
      "cell_type": "code",
      "metadata": {
        "colab": {
          "base_uri": "https://localhost:8080/"
        },
        "id": "DMIOajGwM_MT",
        "outputId": "8349915d-6421-4e17-fb19-3ab7515ea85c"
      },
      "source": [
        "train['자격유형'].value_counts() # 무슨 컬럼? "
      ],
      "execution_count": 276,
      "outputs": [
        {
          "output_type": "execute_result",
          "data": {
            "text/plain": [
              "A    1801\n",
              "D     569\n",
              "H     155\n",
              "J     114\n",
              "C      95\n",
              "I      49\n",
              "E      37\n",
              "K      33\n",
              "L      33\n",
              "N      30\n",
              "B      21\n",
              "G       9\n",
              "F       3\n",
              "M       2\n",
              "O       1\n",
              "Name: 자격유형, dtype: int64"
            ]
          },
          "metadata": {
            "tags": []
          },
          "execution_count": 276
        }
      ]
    },
    {
      "cell_type": "code",
      "metadata": {
        "colab": {
          "base_uri": "https://localhost:8080/"
        },
        "id": "kryOyBLrNRwD",
        "outputId": "6f6270ca-9370-4b76-a5e2-97aa748e4336"
      },
      "source": [
        "train['임대보증금'].value_counts().sort_index() # 결측치 발견 '-'\n",
        "\n",
        "# train['임대보증금'].value_counts().sort_index()"
      ],
      "execution_count": 277,
      "outputs": [
        {
          "output_type": "execute_result",
          "data": {
            "text/plain": [
              "-            12\n",
              "10000000      2\n",
              "100400000     1\n",
              "10043000      1\n",
              "10060000      2\n",
              "             ..\n",
              "99261000      2\n",
              "9930000       1\n",
              "9972000       4\n",
              "9984000       3\n",
              "9985000       2\n",
              "Name: 임대보증금, Length: 957, dtype: int64"
            ]
          },
          "metadata": {
            "tags": []
          },
          "execution_count": 277
        }
      ]
    },
    {
      "cell_type": "code",
      "metadata": {
        "colab": {
          "base_uri": "https://localhost:8080/"
        },
        "id": "mR3ZIIO8OPQ6",
        "outputId": "a4087d8c-1111-457b-f02f-eed37e906eab"
      },
      "source": [
        "# 결측치 명시\n",
        "train = train.replace('-',np.nan)\n",
        "test = test.replace('-',np.nan)\n",
        "\n",
        "train.info()"
      ],
      "execution_count": 278,
      "outputs": [
        {
          "output_type": "stream",
          "text": [
            "<class 'pandas.core.frame.DataFrame'>\n",
            "RangeIndex: 2952 entries, 0 to 2951\n",
            "Data columns (total 15 columns):\n",
            " #   Column                        Non-Null Count  Dtype  \n",
            "---  ------                        --------------  -----  \n",
            " 0   단지코드                          2952 non-null   object \n",
            " 1   총세대수                          2952 non-null   int64  \n",
            " 2   전용면적                          2952 non-null   float64\n",
            " 3   전용면적별세대수                      2952 non-null   int64  \n",
            " 4   공가수                           2952 non-null   float64\n",
            " 5   자격유형                          2952 non-null   object \n",
            " 6   임대보증금                         2371 non-null   object \n",
            " 7   임대료                           2362 non-null   object \n",
            " 8   도보 10분거리 내 지하철역 수(환승노선 수 반영)  2741 non-null   float64\n",
            " 9   도보 10분거리 내 버스정류장 수            2948 non-null   float64\n",
            " 10  단지내주차면수                       2952 non-null   float64\n",
            " 11  등록차량수                         2952 non-null   float64\n",
            " 12  apart                         2952 non-null   int64  \n",
            " 13  region                        2952 non-null   object \n",
            " 14  lease_type                    2952 non-null   object \n",
            "dtypes: float64(6), int64(3), object(6)\n",
            "memory usage: 346.1+ KB\n"
          ],
          "name": "stdout"
        }
      ]
    },
    {
      "cell_type": "code",
      "metadata": {
        "colab": {
          "base_uri": "https://localhost:8080/",
          "height": 297
        },
        "id": "ZHQYEQZ1O1Cc",
        "outputId": "30805d49-5ce8-4963-8985-89de018660fa"
      },
      "source": [
        "train['임대보증금'].value_counts().sort_index().hist() # 공가수 = 빈 세대\n",
        "plt.xlabel('임대보증금')\n",
        "plt.ylabel('counts')\n"
      ],
      "execution_count": 279,
      "outputs": [
        {
          "output_type": "execute_result",
          "data": {
            "text/plain": [
              "Text(0, 0.5, 'counts')"
            ]
          },
          "metadata": {
            "tags": []
          },
          "execution_count": 279
        },
        {
          "output_type": "display_data",
          "data": {
            "image/png": "[encoded data removed]",
            "text/plain": [
              "<Figure size 432x288 with 1 Axes>"
            ]
          },
          "metadata": {
            "tags": [],
            "needs_background": "light"
          }
        }
      ]
    },
    {
      "cell_type": "code",
      "metadata": {
        "colab": {
          "base_uri": "https://localhost:8080/",
          "height": 297
        },
        "id": "i9qWSVhbPtgU",
        "outputId": "5497aeaa-1067-4b7d-9a5f-6f91b764db3e"
      },
      "source": [
        "train['임대료'].value_counts().sort_index().hist() # 공가수 = 빈 세대\n",
        "plt.xlabel('임대료')\n",
        "plt.ylabel('counts')\n"
      ],
      "execution_count": 280,
      "outputs": [
        {
          "output_type": "execute_result",
          "data": {
            "text/plain": [
              "Text(0, 0.5, 'counts')"
            ]
          },
          "metadata": {
            "tags": []
          },
          "execution_count": 280
        },
        {
          "output_type": "display_data",
          "data": {
            "image/png": "[encoded data removed]",
            "text/plain": [
              "<Figure size 432x288 with 1 Axes>"
            ]
          },
          "metadata": {
            "tags": [],
            "needs_background": "light"
          }
        }
      ]
    },
    {
      "cell_type": "code",
      "metadata": {
        "colab": {
          "base_uri": "https://localhost:8080/",
          "height": 366
        },
        "id": "ey79lz35P2A6",
        "outputId": "700485e2-021c-4c7e-c6aa-27f6e2aa1fef"
      },
      "source": [
        "train['subway'] = train['도보 10분거리 내 지하철역 수(환승노선 수 반영)']\n",
        "train.drop('도보 10분거리 내 지하철역 수(환승노선 수 반영)',axis = 1,inplace = True)\n",
        "\n",
        "test['subway'] = test['도보 10분거리 내 지하철역 수(환승노선 수 반영)']\n",
        "test.drop('도보 10분거리 내 지하철역 수(환승노선 수 반영)',axis = 1,inplace = True)\n",
        "\n",
        "\n",
        "train['subway'].value_counts().sort_index().hist() # 공가수 = 빈 세대\n",
        "plt.xlabel('subway')\n",
        "plt.ylabel('subway')\n",
        "train['subway'].value_counts() # 있냐 없냐고 바꿀 수도 있을 듯. 환승노선 고려라서. "
      ],
      "execution_count": 281,
      "outputs": [
        {
          "output_type": "execute_result",
          "data": {
            "text/plain": [
              "0.0    2302\n",
              "1.0     400\n",
              "2.0      33\n",
              "3.0       6\n",
              "Name: subway, dtype: int64"
            ]
          },
          "metadata": {
            "tags": []
          },
          "execution_count": 281
        },
        {
          "output_type": "display_data",
          "data": {
            "image/png": "[encoded data removed]",
            "text/plain": [
              "<Figure size 432x288 with 1 Axes>"
            ]
          },
          "metadata": {
            "tags": [],
            "needs_background": "light"
          }
        }
      ]
    },
    {
      "cell_type": "markdown",
      "metadata": {
        "id": "Y5icFoabQuMU"
      },
      "source": [
        "## BASELINE 용 컬럼 단순정리"
      ]
    },
    {
      "cell_type": "code",
      "metadata": {
        "colab": {
          "base_uri": "https://localhost:8080/"
        },
        "id": "GpCM37fBQfBe",
        "outputId": "57e4e70a-3fba-4bba-9a77-8f7da472dd65"
      },
      "source": [
        "train_drop = train.drop(['단지코드','자격유형','region','lease_type'],axis = 1)\n",
        "train_drop.info()\n",
        "\n",
        "test_drop = test.drop(['단지코드','자격유형','region','lease_type'],axis = 1)"
      ],
      "execution_count": 282,
      "outputs": [
        {
          "output_type": "stream",
          "text": [
            "<class 'pandas.core.frame.DataFrame'>\n",
            "RangeIndex: 2952 entries, 0 to 2951\n",
            "Data columns (total 11 columns):\n",
            " #   Column              Non-Null Count  Dtype  \n",
            "---  ------              --------------  -----  \n",
            " 0   총세대수                2952 non-null   int64  \n",
            " 1   전용면적                2952 non-null   float64\n",
            " 2   전용면적별세대수            2952 non-null   int64  \n",
            " 3   공가수                 2952 non-null   float64\n",
            " 4   임대보증금               2371 non-null   object \n",
            " 5   임대료                 2362 non-null   object \n",
            " 6   도보 10분거리 내 버스정류장 수  2948 non-null   float64\n",
            " 7   단지내주차면수             2952 non-null   float64\n",
            " 8   등록차량수               2952 non-null   float64\n",
            " 9   apart               2952 non-null   int64  \n",
            " 10  subway              2741 non-null   float64\n",
            "dtypes: float64(6), int64(3), object(2)\n",
            "memory usage: 253.8+ KB\n"
          ],
          "name": "stdout"
        }
      ]
    },
    {
      "cell_type": "code",
      "metadata": {
        "id": "DoNN5wxSkboC"
      },
      "source": [
        "test_drop = test.drop(['단지코드','자격유형','region','lease_type'],axis = 1)"
      ],
      "execution_count": 283,
      "outputs": []
    },
    {
      "cell_type": "code",
      "metadata": {
        "colab": {
          "base_uri": "https://localhost:8080/"
        },
        "id": "Prtr_iriSjhY",
        "outputId": "e5bfc0dd-827a-4c2a-8d34-4216f8703db5"
      },
      "source": [
        "# type to float\n",
        "train_drop = train_drop.astype('float')\n",
        "train_drop.info()\n",
        "\n",
        "test_drop = test_drop.astype('float')\n",
        "test_drop.info()\n"
      ],
      "execution_count": 284,
      "outputs": [
        {
          "output_type": "stream",
          "text": [
            "<class 'pandas.core.frame.DataFrame'>\n",
            "RangeIndex: 2952 entries, 0 to 2951\n",
            "Data columns (total 11 columns):\n",
            " #   Column              Non-Null Count  Dtype  \n",
            "---  ------              --------------  -----  \n",
            " 0   총세대수                2952 non-null   float64\n",
            " 1   전용면적                2952 non-null   float64\n",
            " 2   전용면적별세대수            2952 non-null   float64\n",
            " 3   공가수                 2952 non-null   float64\n",
            " 4   임대보증금               2371 non-null   float64\n",
            " 5   임대료                 2362 non-null   float64\n",
            " 6   도보 10분거리 내 버스정류장 수  2948 non-null   float64\n",
            " 7   단지내주차면수             2952 non-null   float64\n",
            " 8   등록차량수               2952 non-null   float64\n",
            " 9   apart               2952 non-null   float64\n",
            " 10  subway              2741 non-null   float64\n",
            "dtypes: float64(11)\n",
            "memory usage: 253.8 KB\n",
            "<class 'pandas.core.frame.DataFrame'>\n",
            "RangeIndex: 1022 entries, 0 to 1021\n",
            "Data columns (total 10 columns):\n",
            " #   Column              Non-Null Count  Dtype  \n",
            "---  ------              --------------  -----  \n",
            " 0   총세대수                1022 non-null   float64\n",
            " 1   전용면적                1022 non-null   float64\n",
            " 2   전용면적별세대수            1022 non-null   float64\n",
            " 3   공가수                 1022 non-null   float64\n",
            " 4   임대보증금               836 non-null    float64\n",
            " 5   임대료                 836 non-null    float64\n",
            " 6   도보 10분거리 내 버스정류장 수  1022 non-null   float64\n",
            " 7   단지내주차면수             1022 non-null   float64\n",
            " 8   apart               1022 non-null   float64\n",
            " 9   subway              980 non-null    float64\n",
            "dtypes: float64(10)\n",
            "memory usage: 80.0 KB\n"
          ],
          "name": "stdout"
        }
      ]
    },
    {
      "cell_type": "code",
      "metadata": {
        "id": "rk1Ztk5oTfZP"
      },
      "source": [
        "# dropna\n",
        "train_drop.dropna(inplace = True)"
      ],
      "execution_count": 285,
      "outputs": []
    },
    {
      "cell_type": "markdown",
      "metadata": {
        "id": "DOiwwfy7FyMl"
      },
      "source": [
        "## 컬럼 별 상관관계 확인 using heat map\n"
      ]
    },
    {
      "cell_type": "code",
      "metadata": {
        "id": "dNExt99lHj3C"
      },
      "source": [
        "# scaling"
      ],
      "execution_count": 286,
      "outputs": []
    },
    {
      "cell_type": "code",
      "metadata": {
        "id": "BmGq8BWqHgXE",
        "colab": {
          "base_uri": "https://localhost:8080/",
          "height": 255
        },
        "outputId": "55e7e463-863f-43e8-d616-c3ba90fddff4"
      },
      "source": [
        "plt.figure(figsize=(20,15))\n",
        "sns.heatmap(df_scaled.corr(), annot=True, fmt='.2f', square=True)\n",
        "plt.rcParams['font.family'] = 'NanumBarunGothic'\n",
        "plt.title('Heatmap of df', fontsize=3)\n",
        "\n",
        "plt.show()"
      ],
      "execution_count": 287,
      "outputs": [
        {
          "output_type": "error",
          "ename": "NameError",
          "evalue": "ignored",
          "traceback": [
            "\u001b[0;31m---------------------------------------------------------------------------\u001b[0m",
            "\u001b[0;31mNameError\u001b[0m                                 Traceback (most recent call last)",
            "\u001b[0;32m<ipython-input-287-edc7ca5b2e3b>\u001b[0m in \u001b[0;36m<module>\u001b[0;34m()\u001b[0m\n\u001b[1;32m      1\u001b[0m \u001b[0mplt\u001b[0m\u001b[0;34m.\u001b[0m\u001b[0mfigure\u001b[0m\u001b[0;34m(\u001b[0m\u001b[0mfigsize\u001b[0m\u001b[0;34m=\u001b[0m\u001b[0;34m(\u001b[0m\u001b[0;36m20\u001b[0m\u001b[0;34m,\u001b[0m\u001b[0;36m15\u001b[0m\u001b[0;34m)\u001b[0m\u001b[0;34m)\u001b[0m\u001b[0;34m\u001b[0m\u001b[0;34m\u001b[0m\u001b[0m\n\u001b[0;32m----> 2\u001b[0;31m \u001b[0msns\u001b[0m\u001b[0;34m.\u001b[0m\u001b[0mheatmap\u001b[0m\u001b[0;34m(\u001b[0m\u001b[0mdf_scaled\u001b[0m\u001b[0;34m.\u001b[0m\u001b[0mcorr\u001b[0m\u001b[0;34m(\u001b[0m\u001b[0;34m)\u001b[0m\u001b[0;34m,\u001b[0m \u001b[0mannot\u001b[0m\u001b[0;34m=\u001b[0m\u001b[0;32mTrue\u001b[0m\u001b[0;34m,\u001b[0m \u001b[0mfmt\u001b[0m\u001b[0;34m=\u001b[0m\u001b[0;34m'.2f'\u001b[0m\u001b[0;34m,\u001b[0m \u001b[0msquare\u001b[0m\u001b[0;34m=\u001b[0m\u001b[0;32mTrue\u001b[0m\u001b[0;34m)\u001b[0m\u001b[0;34m\u001b[0m\u001b[0;34m\u001b[0m\u001b[0m\n\u001b[0m\u001b[1;32m      3\u001b[0m \u001b[0mplt\u001b[0m\u001b[0;34m.\u001b[0m\u001b[0mrcParams\u001b[0m\u001b[0;34m[\u001b[0m\u001b[0;34m'font.family'\u001b[0m\u001b[0;34m]\u001b[0m \u001b[0;34m=\u001b[0m \u001b[0;34m'NanumBarunGothic'\u001b[0m\u001b[0;34m\u001b[0m\u001b[0;34m\u001b[0m\u001b[0m\n\u001b[1;32m      4\u001b[0m \u001b[0mplt\u001b[0m\u001b[0;34m.\u001b[0m\u001b[0mtitle\u001b[0m\u001b[0;34m(\u001b[0m\u001b[0;34m'Heatmap of df'\u001b[0m\u001b[0;34m,\u001b[0m \u001b[0mfontsize\u001b[0m\u001b[0;34m=\u001b[0m\u001b[0;36m3\u001b[0m\u001b[0;34m)\u001b[0m\u001b[0;34m\u001b[0m\u001b[0;34m\u001b[0m\u001b[0m\n\u001b[1;32m      5\u001b[0m \u001b[0;34m\u001b[0m\u001b[0m\n",
            "\u001b[0;31mNameError\u001b[0m: name 'df_scaled' is not defined"
          ]
        },
        {
          "output_type": "display_data",
          "data": {
            "text/plain": [
              "<Figure size 1440x1080 with 0 Axes>"
            ]
          },
          "metadata": {
            "tags": []
          }
        }
      ]
    },
    {
      "cell_type": "markdown",
      "metadata": {
        "id": "A7UZl1ClUqPp"
      },
      "source": [
        "#Evaluation Metrics"
      ]
    },
    {
      "cell_type": "code",
      "metadata": {
        "id": "PcTnrcGsUsYN"
      },
      "source": [
        "from sklearn.metrics import make_scorer\n",
        "ev_df_material = dict()\n",
        "# r2 sklearn꺼로 수정해서 다시 구현, mape sklearn꺼는 안됨. 없음. --> 수정, r2 squared 추가\n",
        "\n",
        "def metrics(model,x_train,y_train,train_pred):\n",
        "  r2_train = np.round(r2_score(y_train, train_pred),2)\n",
        "\n",
        "  def adjusted_r_squared(X, Y, r2):\n",
        "\n",
        "      n = len(Y)\n",
        "      p = X.shape[1]\n",
        "      adj_r = 1 - ((1 - r2) * (n - 1)) / (n - p - 1)\n",
        "\n",
        "      return adj_r\n",
        "  print(\"train set score(adj R square):\",np.round(adjusted_r_squared(x_train, y_train,r2_train),2))\n",
        "  \n",
        "\n",
        "  ev_df_material[model_name + '_adjr2_train'] = np.round(adjusted_r_squared(x_train, y_train,r2_train),2)\n",
        "  \n",
        "  #y_train= np.array(y_train)\n",
        "\n",
        "  # MAE Mean absolute error --> MSE보다 특이치에 robust 절댓값이라서\n",
        "  print(\"train set score(MAE):\",np.round(mean_absolute_error(y_train, train_pred),2)) #.sklearnmetrics(y_true, y_pred)\n",
        "\n",
        "  \n",
        "  ev_df_material[model_name + '_mae_train'] = np.round(mean_absolute_error(y_train, train_pred),2)\n",
        "\n",
        "\n",
        "  \n"
      ],
      "execution_count": 288,
      "outputs": []
    },
    {
      "cell_type": "markdown",
      "metadata": {
        "id": "UZlH_qSnQrIm"
      },
      "source": [
        "# Model 훈련"
      ]
    },
    {
      "cell_type": "code",
      "metadata": {
        "colab": {
          "base_uri": "https://localhost:8080/",
          "height": 432
        },
        "id": "b9Bzr8bMTDqv",
        "outputId": "84b3889a-63b4-4b9e-ffdb-f9b63521b7d4"
      },
      "source": [
        "y_train = train_drop['등록차량수']\n",
        "train_drop.drop('등록차량수',axis = 1, inplace = True)\n",
        "x_train = train_drop\n",
        "\n",
        "\n",
        "x_test = test_drop\n",
        "x_train"
      ],
      "execution_count": 289,
      "outputs": [
        {
          "output_type": "execute_result",
          "data": {
            "text/html": [
              "<div>\n",
              "<style scoped>\n",
              "    .dataframe tbody tr th:only-of-type {\n",
              "        vertical-align: middle;\n",
              "    }\n",
              "\n",
              "    .dataframe tbody tr th {\n",
              "        vertical-align: top;\n",
              "    }\n",
              "\n",
              "    .dataframe thead th {\n",
              "        text-align: right;\n",
              "    }\n",
              "</style>\n",
              "<table border=\"1\" class=\"dataframe\">\n",
              "  <thead>\n",
              "    <tr style=\"text-align: right;\">\n",
              "      <th></th>\n",
              "      <th>총세대수</th>\n",
              "      <th>전용면적</th>\n",
              "      <th>전용면적별세대수</th>\n",
              "      <th>공가수</th>\n",
              "      <th>임대보증금</th>\n",
              "      <th>임대료</th>\n",
              "      <th>도보 10분거리 내 버스정류장 수</th>\n",
              "      <th>단지내주차면수</th>\n",
              "      <th>apart</th>\n",
              "      <th>subway</th>\n",
              "    </tr>\n",
              "  </thead>\n",
              "  <tbody>\n",
              "    <tr>\n",
              "      <th>0</th>\n",
              "      <td>900.0</td>\n",
              "      <td>39.72</td>\n",
              "      <td>134.0</td>\n",
              "      <td>38.0</td>\n",
              "      <td>15667000.0</td>\n",
              "      <td>103680.0</td>\n",
              "      <td>3.0</td>\n",
              "      <td>1425.0</td>\n",
              "      <td>1.0</td>\n",
              "      <td>0.0</td>\n",
              "    </tr>\n",
              "    <tr>\n",
              "      <th>1</th>\n",
              "      <td>900.0</td>\n",
              "      <td>39.72</td>\n",
              "      <td>15.0</td>\n",
              "      <td>38.0</td>\n",
              "      <td>15667000.0</td>\n",
              "      <td>103680.0</td>\n",
              "      <td>3.0</td>\n",
              "      <td>1425.0</td>\n",
              "      <td>1.0</td>\n",
              "      <td>0.0</td>\n",
              "    </tr>\n",
              "    <tr>\n",
              "      <th>2</th>\n",
              "      <td>900.0</td>\n",
              "      <td>51.93</td>\n",
              "      <td>385.0</td>\n",
              "      <td>38.0</td>\n",
              "      <td>27304000.0</td>\n",
              "      <td>184330.0</td>\n",
              "      <td>3.0</td>\n",
              "      <td>1425.0</td>\n",
              "      <td>1.0</td>\n",
              "      <td>0.0</td>\n",
              "    </tr>\n",
              "    <tr>\n",
              "      <th>3</th>\n",
              "      <td>900.0</td>\n",
              "      <td>51.93</td>\n",
              "      <td>15.0</td>\n",
              "      <td>38.0</td>\n",
              "      <td>27304000.0</td>\n",
              "      <td>184330.0</td>\n",
              "      <td>3.0</td>\n",
              "      <td>1425.0</td>\n",
              "      <td>1.0</td>\n",
              "      <td>0.0</td>\n",
              "    </tr>\n",
              "    <tr>\n",
              "      <th>4</th>\n",
              "      <td>900.0</td>\n",
              "      <td>51.93</td>\n",
              "      <td>41.0</td>\n",
              "      <td>38.0</td>\n",
              "      <td>27304000.0</td>\n",
              "      <td>184330.0</td>\n",
              "      <td>3.0</td>\n",
              "      <td>1425.0</td>\n",
              "      <td>1.0</td>\n",
              "      <td>0.0</td>\n",
              "    </tr>\n",
              "    <tr>\n",
              "      <th>...</th>\n",
              "      <td>...</td>\n",
              "      <td>...</td>\n",
              "      <td>...</td>\n",
              "      <td>...</td>\n",
              "      <td>...</td>\n",
              "      <td>...</td>\n",
              "      <td>...</td>\n",
              "      <td>...</td>\n",
              "      <td>...</td>\n",
              "      <td>...</td>\n",
              "    </tr>\n",
              "    <tr>\n",
              "      <th>2947</th>\n",
              "      <td>239.0</td>\n",
              "      <td>49.20</td>\n",
              "      <td>19.0</td>\n",
              "      <td>7.0</td>\n",
              "      <td>11346000.0</td>\n",
              "      <td>116090.0</td>\n",
              "      <td>1.0</td>\n",
              "      <td>166.0</td>\n",
              "      <td>1.0</td>\n",
              "      <td>0.0</td>\n",
              "    </tr>\n",
              "    <tr>\n",
              "      <th>2948</th>\n",
              "      <td>239.0</td>\n",
              "      <td>51.08</td>\n",
              "      <td>34.0</td>\n",
              "      <td>7.0</td>\n",
              "      <td>14005000.0</td>\n",
              "      <td>142310.0</td>\n",
              "      <td>1.0</td>\n",
              "      <td>166.0</td>\n",
              "      <td>1.0</td>\n",
              "      <td>0.0</td>\n",
              "    </tr>\n",
              "    <tr>\n",
              "      <th>2949</th>\n",
              "      <td>239.0</td>\n",
              "      <td>51.73</td>\n",
              "      <td>34.0</td>\n",
              "      <td>7.0</td>\n",
              "      <td>14005000.0</td>\n",
              "      <td>142310.0</td>\n",
              "      <td>1.0</td>\n",
              "      <td>166.0</td>\n",
              "      <td>1.0</td>\n",
              "      <td>0.0</td>\n",
              "    </tr>\n",
              "    <tr>\n",
              "      <th>2950</th>\n",
              "      <td>239.0</td>\n",
              "      <td>51.96</td>\n",
              "      <td>114.0</td>\n",
              "      <td>7.0</td>\n",
              "      <td>14005000.0</td>\n",
              "      <td>142310.0</td>\n",
              "      <td>1.0</td>\n",
              "      <td>166.0</td>\n",
              "      <td>1.0</td>\n",
              "      <td>0.0</td>\n",
              "    </tr>\n",
              "    <tr>\n",
              "      <th>2951</th>\n",
              "      <td>239.0</td>\n",
              "      <td>54.95</td>\n",
              "      <td>19.0</td>\n",
              "      <td>7.0</td>\n",
              "      <td>14830000.0</td>\n",
              "      <td>151030.0</td>\n",
              "      <td>1.0</td>\n",
              "      <td>166.0</td>\n",
              "      <td>1.0</td>\n",
              "      <td>0.0</td>\n",
              "    </tr>\n",
              "  </tbody>\n",
              "</table>\n",
              "<p>2285 rows × 10 columns</p>\n",
              "</div>"
            ],
            "text/plain": [
              "       총세대수   전용면적  전용면적별세대수   공가수  ...  도보 10분거리 내 버스정류장 수  단지내주차면수  apart  subway\n",
              "0     900.0  39.72     134.0  38.0  ...                 3.0   1425.0    1.0     0.0\n",
              "1     900.0  39.72      15.0  38.0  ...                 3.0   1425.0    1.0     0.0\n",
              "2     900.0  51.93     385.0  38.0  ...                 3.0   1425.0    1.0     0.0\n",
              "3     900.0  51.93      15.0  38.0  ...                 3.0   1425.0    1.0     0.0\n",
              "4     900.0  51.93      41.0  38.0  ...                 3.0   1425.0    1.0     0.0\n",
              "...     ...    ...       ...   ...  ...                 ...      ...    ...     ...\n",
              "2947  239.0  49.20      19.0   7.0  ...                 1.0    166.0    1.0     0.0\n",
              "2948  239.0  51.08      34.0   7.0  ...                 1.0    166.0    1.0     0.0\n",
              "2949  239.0  51.73      34.0   7.0  ...                 1.0    166.0    1.0     0.0\n",
              "2950  239.0  51.96     114.0   7.0  ...                 1.0    166.0    1.0     0.0\n",
              "2951  239.0  54.95      19.0   7.0  ...                 1.0    166.0    1.0     0.0\n",
              "\n",
              "[2285 rows x 10 columns]"
            ]
          },
          "metadata": {
            "tags": []
          },
          "execution_count": 289
        }
      ]
    },
    {
      "cell_type": "markdown",
      "metadata": {
        "id": "98YJP1DdUVuH"
      },
      "source": [
        "## Random Forest"
      ]
    },
    {
      "cell_type": "code",
      "metadata": {
        "colab": {
          "base_uri": "https://localhost:8080/"
        },
        "id": "AEsdNammQmrr",
        "outputId": "95df30e3-dd80-4bba-ca16-24b02c6b2d31"
      },
      "source": [
        "start = time.time()  # 시작 시간 저장\n",
        "\n",
        "from sklearn.ensemble import RandomForestRegressor\n",
        "# 하이퍼파라미터 튜닝 using grid search\n",
        "from sklearn.model_selection import GridSearchCV\n",
        "#RF gave max_features = n_features/3 for regression\n",
        "regressor = RandomForestRegressor()\n",
        "rf_param_grid =  {\n",
        "    'n_estimators' : [50,100,200,400,800],\n",
        "    'max_depth' :[2,4,6,8,10],\n",
        "    'min_samples_leaf' : [3,5,7,9],\n",
        "    'min_samples_split' : [2,3,5,9,11,13]\n",
        "}\n",
        "\n",
        "# min_samples_leaf: 리프노드가 되기 위한 최소한의 샘플 수\n",
        "# min_samples_split: 노드를 분할하기 위한 최소한의 데이터 수\n",
        "\n",
        "grid_search = GridSearchCV(estimator = regressor, param_grid = rf_param_grid, \n",
        "                          cv = 3, n_jobs = -1, verbose = 2) #,score = 'mean_squared_error'? 뭘로쟴..?\n",
        "grid_search.fit(x_train,y_train)\n",
        "grid_search.best_params_\n",
        "#https://towardsdatascience.com/hyperparameter-tuning-the-random-forest-in-python-using-scikit-learn-28d2aa77dd74 보삼\n",
        "\n",
        "# 이 데이터에는.. estimator 좀 적어도 될듯"
      ],
      "execution_count": 202,
      "outputs": [
        {
          "output_type": "stream",
          "text": [
            "Fitting 3 folds for each of 600 candidates, totalling 1800 fits\n"
          ],
          "name": "stdout"
        },
        {
          "output_type": "stream",
          "text": [
            "[Parallel(n_jobs=-1)]: Using backend LokyBackend with 4 concurrent workers.\n",
            "[Parallel(n_jobs=-1)]: Done  33 tasks      | elapsed:    7.9s\n",
            "[Parallel(n_jobs=-1)]: Done 154 tasks      | elapsed:   36.5s\n",
            "[Parallel(n_jobs=-1)]: Done 357 tasks      | elapsed:  1.4min\n",
            "[Parallel(n_jobs=-1)]: Done 640 tasks      | elapsed:  3.0min\n",
            "[Parallel(n_jobs=-1)]: Done 1005 tasks      | elapsed:  5.3min\n",
            "[Parallel(n_jobs=-1)]: Done 1450 tasks      | elapsed:  8.8min\n",
            "[Parallel(n_jobs=-1)]: Done 1800 out of 1800 | elapsed: 11.7min finished\n"
          ],
          "name": "stderr"
        },
        {
          "output_type": "execute_result",
          "data": {
            "text/plain": [
              "{'max_depth': 4,\n",
              " 'min_samples_leaf': 5,\n",
              " 'min_samples_split': 3,\n",
              " 'n_estimators': 50}"
            ]
          },
          "metadata": {
            "tags": []
          },
          "execution_count": 202
        }
      ]
    },
    {
      "cell_type": "code",
      "metadata": {
        "colab": {
          "base_uri": "https://localhost:8080/"
        },
        "id": "FzY3ehRpVjld",
        "outputId": "3cd522d3-9a5c-4b77-e26d-1cba8167f862"
      },
      "source": [
        "# model trainig\n",
        "\n",
        "regressor = RandomForestRegressor(n_estimators = grid_search.best_params_['n_estimators'], max_depth = grid_search.best_params_['max_depth'],\n",
        "                                  min_samples_leaf = grid_search.best_params_['min_samples_leaf'],\n",
        "                                  min_samples_split = grid_search.best_params_['min_samples_split'], n_jobs=-1,random_state = 0)\n",
        "regressor.fit(x_train,y_train)\n",
        "\n",
        "# predict\n",
        "\n",
        "y_train = np.array(y_train)\n",
        "#test_pred = regressor.predict()\n",
        "train_pred = regressor.predict(x_train)\n",
        "# test_pred = regressor.predict(x_test)\n",
        "\n",
        "\n",
        "#eval metrics\n",
        "model_name = 'rf'\n",
        "\n",
        "metrics(regressor,x_train,y_train,train_pred)"
      ],
      "execution_count": 290,
      "outputs": [
        {
          "output_type": "stream",
          "text": [
            "train set score(adj R square): 0.86\n",
            "train set score(MAE): 111.38\n"
          ],
          "name": "stdout"
        }
      ]
    },
    {
      "cell_type": "markdown",
      "metadata": {
        "id": "uFAjXqSfUZl2"
      },
      "source": [
        "## XG_Boost"
      ]
    },
    {
      "cell_type": "code",
      "metadata": {
        "id": "qSa14fu4dmtn",
        "colab": {
          "base_uri": "https://localhost:8080/"
        },
        "outputId": "7f6ba794-671b-43c9-96fb-f81d452e4701"
      },
      "source": [
        "def hyperParameterTuning(X_train, y_train):\n",
        "    param_tuning = {\n",
        "        'learning_rate': [0.01, 0.05 ,0.1],\n",
        "        'max_depth': [3, 5, 7, 10],\n",
        "        'min_child_weight': [1, 3, 5],\n",
        "        'subsample': [0.5, 0.7],\n",
        "        'colsample_bytree': [0.5, 0.7],\n",
        "        'n_estimators' : [ 200, 500, 800,1000],\n",
        "        'objective': ['reg:squarederror']\n",
        "    }\n",
        "\n",
        "    xgb_model = XGBRegressor()\n",
        "\n",
        "    gsearch = GridSearchCV(estimator = xgb_model,\n",
        "                           param_grid = param_tuning,                      \n",
        "                           #scoring = 'neg_mean_absolute_error', #MAE\n",
        "                           #scoring = 'neg_mean_squared_error',  #MSE\n",
        "                           cv = 4,\n",
        "                           n_jobs = -1,\n",
        "                           verbose = 1)\n",
        "\n",
        "    gsearch.fit(x_train,y_train)\n",
        "\n",
        "    return gsearch.best_params_\n",
        "tuned = hyperParameterTuning(x_train, y_train)"
      ],
      "execution_count": 339,
      "outputs": [
        {
          "output_type": "stream",
          "text": [
            "Fitting 4 folds for each of 576 candidates, totalling 2304 fits\n"
          ],
          "name": "stdout"
        },
        {
          "output_type": "stream",
          "text": [
            "[Parallel(n_jobs=-1)]: Using backend LokyBackend with 4 concurrent workers.\n",
            "[Parallel(n_jobs=-1)]: Done  42 tasks      | elapsed:    9.2s\n",
            "[Parallel(n_jobs=-1)]: Done 192 tasks      | elapsed:   47.1s\n",
            "[Parallel(n_jobs=-1)]: Done 442 tasks      | elapsed:  2.4min\n",
            "[Parallel(n_jobs=-1)]: Done 792 tasks      | elapsed:  4.5min\n",
            "[Parallel(n_jobs=-1)]: Done 1242 tasks      | elapsed:  7.0min\n",
            "[Parallel(n_jobs=-1)]: Done 1792 tasks      | elapsed: 10.6min\n",
            "[Parallel(n_jobs=-1)]: Done 2304 out of 2304 | elapsed: 14.6min finished\n"
          ],
          "name": "stderr"
        }
      ]
    },
    {
      "cell_type": "code",
      "metadata": {
        "id": "UUbK2dxPdqnd"
      },
      "source": [
        "#튜닝 후 다시\n",
        "\n",
        "#xgb_model = XGBRegressor(tuned)\n",
        "xgb_model = XGBRegressor(\n",
        "    objective = tuned['objective'],\n",
        "    colsample_bytree= tuned['colsample_bytree'],\n",
        "    learning_rate= tuned['learning_rate'],\n",
        "    max_depth= tuned['max_depth'],\n",
        "    min_child_weight= tuned['min_child_weight'],\n",
        "    n_estimators= tuned['n_estimators'],\n",
        "    subsample= tuned['subsample'])\n",
        "\n",
        "# %time xgb_model.fit(x_train, y_train, early_stopping_rounds=10, eval_set=[(x_test, y_test)], verbose=True) 원 코드\n",
        "%time xgb_model.fit(x_train, y_train, early_stopping_rounds=10, eval_set=[(x_train, y_train)] , verbose=True)"
      ],
      "execution_count": null,
      "outputs": []
    },
    {
      "cell_type": "code",
      "metadata": {
        "id": "Igfy87Q2duh4",
        "colab": {
          "base_uri": "https://localhost:8080/"
        },
        "outputId": "1a2eaae7-4750-4025-ac11-a294ab7b57b8"
      },
      "source": [
        "#test_pred = regressor.predict()\n",
        "train_pred = xgb_model.predict(x_train)\n",
        "\n",
        "#eval metrics\n",
        "model_name = 'xg'\n",
        "metrics(xgb_model,x_train,y_train,train_pred)\n"
      ],
      "execution_count": 342,
      "outputs": [
        {
          "output_type": "stream",
          "text": [
            "train set score(adj R square): 0.91\n",
            "train set score(MAE): 91.25\n"
          ],
          "name": "stdout"
        }
      ]
    },
    {
      "cell_type": "markdown",
      "metadata": {
        "id": "f7dXWmBkUZq8"
      },
      "source": [
        "# Test data Predict"
      ]
    },
    {
      "cell_type": "code",
      "metadata": {
        "id": "DlOjMlEDQnJO",
        "colab": {
          "base_uri": "https://localhost:8080/",
          "height": 712
        },
        "outputId": "20945e9b-fbd6-4306-e14a-2a22c0502f52"
      },
      "source": [
        "# x_test 용 na 채우기 - 각 컬럼의 평균값을 활용.\n",
        "lease_deposit_mean = x_train['임대보증금'].mean()\n",
        "lease_cost_mean = x_train['임대료'].mean()\n",
        "x_train['subway'].mean()\n",
        "subway = 0\n",
        "\n",
        "x_test['임대보증금'] = x_test['임대보증금'].fillna(lease_deposit_mean)\n",
        "x_test['임대료'] = x_test['임대료'].fillna(lease_cost_mean)\n",
        "x_test['subway'] = x_test['subway'].fillna(subway)\n",
        "x_test.info()\n",
        "# Test data 용 \n",
        "\n",
        "test_pred = regressor.predict(x_test)\n",
        "\n",
        "\n",
        "# 간이로.. pred 예측\n",
        "pred_df = pd.DataFrame(test_pred)\n",
        "code = test['단지코드']\n",
        "\n",
        "test_code = pd.concat([pred_df,code], axis =1)\n",
        "test_code_group = test_code.groupby('단지코드').mean()\n",
        "\n",
        "test_code_group = test_code_group.reset_index()\n",
        "test_code_group['code'] = test_code_group['단지코드']\n",
        "test_code_group.drop('단지코드',axis = 1,inplace = True)\n",
        "\n",
        "test_code_group = test_code_group[['code',0]]\n",
        "test_code_group\n",
        "\n",
        "\n",
        "# test_code_group\n",
        "# pd.merge(sample, test_code_group, on = 'code', how = 'left')\n",
        "\n"
      ],
      "execution_count": 343,
      "outputs": [
        {
          "output_type": "stream",
          "text": [
            "<class 'pandas.core.frame.DataFrame'>\n",
            "RangeIndex: 1022 entries, 0 to 1021\n",
            "Data columns (total 10 columns):\n",
            " #   Column              Non-Null Count  Dtype  \n",
            "---  ------              --------------  -----  \n",
            " 0   총세대수                1022 non-null   float64\n",
            " 1   전용면적                1022 non-null   float64\n",
            " 2   전용면적별세대수            1022 non-null   float64\n",
            " 3   공가수                 1022 non-null   float64\n",
            " 4   임대보증금               1022 non-null   float64\n",
            " 5   임대료                 1022 non-null   float64\n",
            " 6   도보 10분거리 내 버스정류장 수  1022 non-null   float64\n",
            " 7   단지내주차면수             1022 non-null   float64\n",
            " 8   apart               1022 non-null   float64\n",
            " 9   subway              1022 non-null   float64\n",
            "dtypes: float64(10)\n",
            "memory usage: 80.0 KB\n"
          ],
          "name": "stdout"
        },
        {
          "output_type": "execute_result",
          "data": {
            "text/html": [
              "<div>\n",
              "<style scoped>\n",
              "    .dataframe tbody tr th:only-of-type {\n",
              "        vertical-align: middle;\n",
              "    }\n",
              "\n",
              "    .dataframe tbody tr th {\n",
              "        vertical-align: top;\n",
              "    }\n",
              "\n",
              "    .dataframe thead th {\n",
              "        text-align: right;\n",
              "    }\n",
              "</style>\n",
              "<table border=\"1\" class=\"dataframe\">\n",
              "  <thead>\n",
              "    <tr style=\"text-align: right;\">\n",
              "      <th></th>\n",
              "      <th>code</th>\n",
              "      <th>0</th>\n",
              "    </tr>\n",
              "  </thead>\n",
              "  <tbody>\n",
              "    <tr>\n",
              "      <th>0</th>\n",
              "      <td>C1003</td>\n",
              "      <td>337.831584</td>\n",
              "    </tr>\n",
              "    <tr>\n",
              "      <th>1</th>\n",
              "      <td>C1006</td>\n",
              "      <td>350.685044</td>\n",
              "    </tr>\n",
              "    <tr>\n",
              "      <th>2</th>\n",
              "      <td>C1016</td>\n",
              "      <td>698.775894</td>\n",
              "    </tr>\n",
              "    <tr>\n",
              "      <th>3</th>\n",
              "      <td>C1019</td>\n",
              "      <td>288.640731</td>\n",
              "    </tr>\n",
              "    <tr>\n",
              "      <th>4</th>\n",
              "      <td>C1030</td>\n",
              "      <td>84.800128</td>\n",
              "    </tr>\n",
              "    <tr>\n",
              "      <th>...</th>\n",
              "      <td>...</td>\n",
              "      <td>...</td>\n",
              "    </tr>\n",
              "    <tr>\n",
              "      <th>145</th>\n",
              "      <td>C2653</td>\n",
              "      <td>735.563324</td>\n",
              "    </tr>\n",
              "    <tr>\n",
              "      <th>146</th>\n",
              "      <td>C2675</td>\n",
              "      <td>959.862292</td>\n",
              "    </tr>\n",
              "    <tr>\n",
              "      <th>147</th>\n",
              "      <td>C2676</td>\n",
              "      <td>347.915368</td>\n",
              "    </tr>\n",
              "    <tr>\n",
              "      <th>148</th>\n",
              "      <td>C2688</td>\n",
              "      <td>91.024627</td>\n",
              "    </tr>\n",
              "    <tr>\n",
              "      <th>149</th>\n",
              "      <td>C2691</td>\n",
              "      <td>1191.228444</td>\n",
              "    </tr>\n",
              "  </tbody>\n",
              "</table>\n",
              "<p>150 rows × 2 columns</p>\n",
              "</div>"
            ],
            "text/plain": [
              "      code            0\n",
              "0    C1003   337.831584\n",
              "1    C1006   350.685044\n",
              "2    C1016   698.775894\n",
              "3    C1019   288.640731\n",
              "4    C1030    84.800128\n",
              "..     ...          ...\n",
              "145  C2653   735.563324\n",
              "146  C2675   959.862292\n",
              "147  C2676   347.915368\n",
              "148  C2688    91.024627\n",
              "149  C2691  1191.228444\n",
              "\n",
              "[150 rows x 2 columns]"
            ]
          },
          "metadata": {
            "tags": []
          },
          "execution_count": 343
        }
      ]
    },
    {
      "cell_type": "markdown",
      "metadata": {
        "id": "04-gFAeYxj5K"
      },
      "source": [
        "# Submission"
      ]
    },
    {
      "cell_type": "code",
      "metadata": {
        "colab": {
          "base_uri": "https://localhost:8080/",
          "height": 415
        },
        "id": "vysjW5yPxkJQ",
        "outputId": "bfb9b6f3-d228-4462-c715-8ff9f25fbe26"
      },
      "source": [
        "submission = pd.merge(sample, test_code_group, on = 'code', how = 'left')\n",
        "\n",
        "submission.drop('num',axis = 1, inplace = True)\n",
        "submission['num'] = submission[0]\n",
        "submission.drop(0,axis = 1,inplace = True)\n",
        "\n",
        "file_name = 'submission_base_xgb.csv'\n",
        "submission.to_csv(file_name,index = False)\n",
        "pd.read_csv(file_name)"
      ],
      "execution_count": 344,
      "outputs": [
        {
          "output_type": "execute_result",
          "data": {
            "text/html": [
              "<div>\n",
              "<style scoped>\n",
              "    .dataframe tbody tr th:only-of-type {\n",
              "        vertical-align: middle;\n",
              "    }\n",
              "\n",
              "    .dataframe tbody tr th {\n",
              "        vertical-align: top;\n",
              "    }\n",
              "\n",
              "    .dataframe thead th {\n",
              "        text-align: right;\n",
              "    }\n",
              "</style>\n",
              "<table border=\"1\" class=\"dataframe\">\n",
              "  <thead>\n",
              "    <tr style=\"text-align: right;\">\n",
              "      <th></th>\n",
              "      <th>code</th>\n",
              "      <th>num</th>\n",
              "    </tr>\n",
              "  </thead>\n",
              "  <tbody>\n",
              "    <tr>\n",
              "      <th>0</th>\n",
              "      <td>C1072</td>\n",
              "      <td>700.674773</td>\n",
              "    </tr>\n",
              "    <tr>\n",
              "      <th>1</th>\n",
              "      <td>C1128</td>\n",
              "      <td>1059.503855</td>\n",
              "    </tr>\n",
              "    <tr>\n",
              "      <th>2</th>\n",
              "      <td>C1456</td>\n",
              "      <td>560.615475</td>\n",
              "    </tr>\n",
              "    <tr>\n",
              "      <th>3</th>\n",
              "      <td>C1840</td>\n",
              "      <td>566.684450</td>\n",
              "    </tr>\n",
              "    <tr>\n",
              "      <th>4</th>\n",
              "      <td>C1332</td>\n",
              "      <td>966.681455</td>\n",
              "    </tr>\n",
              "    <tr>\n",
              "      <th>...</th>\n",
              "      <td>...</td>\n",
              "      <td>...</td>\n",
              "    </tr>\n",
              "    <tr>\n",
              "      <th>145</th>\n",
              "      <td>C2456</td>\n",
              "      <td>288.640731</td>\n",
              "    </tr>\n",
              "    <tr>\n",
              "      <th>146</th>\n",
              "      <td>C1266</td>\n",
              "      <td>531.070684</td>\n",
              "    </tr>\n",
              "    <tr>\n",
              "      <th>147</th>\n",
              "      <td>C2152</td>\n",
              "      <td>84.800128</td>\n",
              "    </tr>\n",
              "    <tr>\n",
              "      <th>148</th>\n",
              "      <td>C1267</td>\n",
              "      <td>472.880927</td>\n",
              "    </tr>\n",
              "    <tr>\n",
              "      <th>149</th>\n",
              "      <td>C2189</td>\n",
              "      <td>280.316135</td>\n",
              "    </tr>\n",
              "  </tbody>\n",
              "</table>\n",
              "<p>150 rows × 2 columns</p>\n",
              "</div>"
            ],
            "text/plain": [
              "      code          num\n",
              "0    C1072   700.674773\n",
              "1    C1128  1059.503855\n",
              "2    C1456   560.615475\n",
              "3    C1840   566.684450\n",
              "4    C1332   966.681455\n",
              "..     ...          ...\n",
              "145  C2456   288.640731\n",
              "146  C1266   531.070684\n",
              "147  C2152    84.800128\n",
              "148  C1267   472.880927\n",
              "149  C2189   280.316135\n",
              "\n",
              "[150 rows x 2 columns]"
            ]
          },
          "metadata": {
            "tags": []
          },
          "execution_count": 344
        }
      ]
    },
    {
      "cell_type": "code",
      "metadata": {
        "id": "s3UYU8h21VDm"
      },
      "source": [
        ""
      ],
      "execution_count": null,
      "outputs": []
    }
  ]
}